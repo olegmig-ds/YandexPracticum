{
 "cells": [
  {
   "cell_type": "markdown",
   "id": "2354e243",
   "metadata": {
    "deletable": false,
    "editable": false,
    "id": "c81daeeb"
   },
   "source": [
    "# Исследование надежности заемщиков\n"
   ]
  },
  {
   "cell_type": "markdown",
   "id": "196b9813",
   "metadata": {
    "deletable": false,
    "editable": false,
    "id": "827c20bf"
   },
   "source": [
    "Во второй части проекта вы выполните шаги 3 и 4. Их вручную проверит ревьюер.\n",
    "Чтобы вам не пришлось писать код заново для шагов 1 и 2, мы добавили авторские решения в ячейки с кодом. \n",
    "\n"
   ]
  },
  {
   "cell_type": "markdown",
   "id": "021fde7f",
   "metadata": {
    "deletable": false,
    "editable": false,
    "id": "744d7639"
   },
   "source": [
    "## Откройте таблицу и изучите общую информацию о данных"
   ]
  },
  {
   "cell_type": "markdown",
   "id": "31764d35",
   "metadata": {
    "deletable": false,
    "editable": false,
    "id": "e7a14c31"
   },
   "source": [
    "**Задание 1. Импортируйте библиотеку pandas. Считайте данные из csv-файла в датафрейм и сохраните в переменную `data`. Путь к файлу:**\n",
    "\n",
    "`/datasets/data.csv`"
   ]
  },
  {
   "cell_type": "code",
   "execution_count": 1,
   "id": "7d8bdb2d",
   "metadata": {
    "deletable": false,
    "id": "7bcf75c9"
   },
   "outputs": [],
   "source": [
    "import pandas as pd\n",
    "\n",
    "try:\n",
    "    data = pd.read_csv('/datasets/data.csv')\n",
    "except:\n",
    "    data = pd.read_csv('https://code.s3.yandex.net/datasets/data.csv')"
   ]
  },
  {
   "cell_type": "markdown",
   "id": "ce0f5092",
   "metadata": {
    "deletable": false,
    "editable": false,
    "id": "b8038fe3"
   },
   "source": [
    "**Задание 2. Выведите первые 20 строчек датафрейма `data` на экран.**"
   ]
  },
  {
   "cell_type": "code",
   "execution_count": 2,
   "id": "8a3ebd51",
   "metadata": {
    "deletable": false,
    "id": "2a7cab99",
    "outputId": "1a8f3ef2-d323-4ec2-ddf7-89670b5944c4"
   },
   "outputs": [
    {
     "data": {
      "text/html": [
       "<div>\n",
       "<style scoped>\n",
       "    .dataframe tbody tr th:only-of-type {\n",
       "        vertical-align: middle;\n",
       "    }\n",
       "\n",
       "    .dataframe tbody tr th {\n",
       "        vertical-align: top;\n",
       "    }\n",
       "\n",
       "    .dataframe thead th {\n",
       "        text-align: right;\n",
       "    }\n",
       "</style>\n",
       "<table border=\"1\" class=\"dataframe\">\n",
       "  <thead>\n",
       "    <tr style=\"text-align: right;\">\n",
       "      <th></th>\n",
       "      <th>children</th>\n",
       "      <th>days_employed</th>\n",
       "      <th>dob_years</th>\n",
       "      <th>education</th>\n",
       "      <th>education_id</th>\n",
       "      <th>family_status</th>\n",
       "      <th>family_status_id</th>\n",
       "      <th>gender</th>\n",
       "      <th>income_type</th>\n",
       "      <th>debt</th>\n",
       "      <th>total_income</th>\n",
       "      <th>purpose</th>\n",
       "    </tr>\n",
       "  </thead>\n",
       "  <tbody>\n",
       "    <tr>\n",
       "      <th>0</th>\n",
       "      <td>1</td>\n",
       "      <td>-8437.673028</td>\n",
       "      <td>42</td>\n",
       "      <td>высшее</td>\n",
       "      <td>0</td>\n",
       "      <td>женат / замужем</td>\n",
       "      <td>0</td>\n",
       "      <td>F</td>\n",
       "      <td>сотрудник</td>\n",
       "      <td>0</td>\n",
       "      <td>253875.639453</td>\n",
       "      <td>покупка жилья</td>\n",
       "    </tr>\n",
       "    <tr>\n",
       "      <th>1</th>\n",
       "      <td>1</td>\n",
       "      <td>-4024.803754</td>\n",
       "      <td>36</td>\n",
       "      <td>среднее</td>\n",
       "      <td>1</td>\n",
       "      <td>женат / замужем</td>\n",
       "      <td>0</td>\n",
       "      <td>F</td>\n",
       "      <td>сотрудник</td>\n",
       "      <td>0</td>\n",
       "      <td>112080.014102</td>\n",
       "      <td>приобретение автомобиля</td>\n",
       "    </tr>\n",
       "    <tr>\n",
       "      <th>2</th>\n",
       "      <td>0</td>\n",
       "      <td>-5623.422610</td>\n",
       "      <td>33</td>\n",
       "      <td>Среднее</td>\n",
       "      <td>1</td>\n",
       "      <td>женат / замужем</td>\n",
       "      <td>0</td>\n",
       "      <td>M</td>\n",
       "      <td>сотрудник</td>\n",
       "      <td>0</td>\n",
       "      <td>145885.952297</td>\n",
       "      <td>покупка жилья</td>\n",
       "    </tr>\n",
       "    <tr>\n",
       "      <th>3</th>\n",
       "      <td>3</td>\n",
       "      <td>-4124.747207</td>\n",
       "      <td>32</td>\n",
       "      <td>среднее</td>\n",
       "      <td>1</td>\n",
       "      <td>женат / замужем</td>\n",
       "      <td>0</td>\n",
       "      <td>M</td>\n",
       "      <td>сотрудник</td>\n",
       "      <td>0</td>\n",
       "      <td>267628.550329</td>\n",
       "      <td>дополнительное образование</td>\n",
       "    </tr>\n",
       "    <tr>\n",
       "      <th>4</th>\n",
       "      <td>0</td>\n",
       "      <td>340266.072047</td>\n",
       "      <td>53</td>\n",
       "      <td>среднее</td>\n",
       "      <td>1</td>\n",
       "      <td>гражданский брак</td>\n",
       "      <td>1</td>\n",
       "      <td>F</td>\n",
       "      <td>пенсионер</td>\n",
       "      <td>0</td>\n",
       "      <td>158616.077870</td>\n",
       "      <td>сыграть свадьбу</td>\n",
       "    </tr>\n",
       "    <tr>\n",
       "      <th>5</th>\n",
       "      <td>0</td>\n",
       "      <td>-926.185831</td>\n",
       "      <td>27</td>\n",
       "      <td>высшее</td>\n",
       "      <td>0</td>\n",
       "      <td>гражданский брак</td>\n",
       "      <td>1</td>\n",
       "      <td>M</td>\n",
       "      <td>компаньон</td>\n",
       "      <td>0</td>\n",
       "      <td>255763.565419</td>\n",
       "      <td>покупка жилья</td>\n",
       "    </tr>\n",
       "    <tr>\n",
       "      <th>6</th>\n",
       "      <td>0</td>\n",
       "      <td>-2879.202052</td>\n",
       "      <td>43</td>\n",
       "      <td>высшее</td>\n",
       "      <td>0</td>\n",
       "      <td>женат / замужем</td>\n",
       "      <td>0</td>\n",
       "      <td>F</td>\n",
       "      <td>компаньон</td>\n",
       "      <td>0</td>\n",
       "      <td>240525.971920</td>\n",
       "      <td>операции с жильем</td>\n",
       "    </tr>\n",
       "    <tr>\n",
       "      <th>7</th>\n",
       "      <td>0</td>\n",
       "      <td>-152.779569</td>\n",
       "      <td>50</td>\n",
       "      <td>СРЕДНЕЕ</td>\n",
       "      <td>1</td>\n",
       "      <td>женат / замужем</td>\n",
       "      <td>0</td>\n",
       "      <td>M</td>\n",
       "      <td>сотрудник</td>\n",
       "      <td>0</td>\n",
       "      <td>135823.934197</td>\n",
       "      <td>образование</td>\n",
       "    </tr>\n",
       "    <tr>\n",
       "      <th>8</th>\n",
       "      <td>2</td>\n",
       "      <td>-6929.865299</td>\n",
       "      <td>35</td>\n",
       "      <td>ВЫСШЕЕ</td>\n",
       "      <td>0</td>\n",
       "      <td>гражданский брак</td>\n",
       "      <td>1</td>\n",
       "      <td>F</td>\n",
       "      <td>сотрудник</td>\n",
       "      <td>0</td>\n",
       "      <td>95856.832424</td>\n",
       "      <td>на проведение свадьбы</td>\n",
       "    </tr>\n",
       "    <tr>\n",
       "      <th>9</th>\n",
       "      <td>0</td>\n",
       "      <td>-2188.756445</td>\n",
       "      <td>41</td>\n",
       "      <td>среднее</td>\n",
       "      <td>1</td>\n",
       "      <td>женат / замужем</td>\n",
       "      <td>0</td>\n",
       "      <td>M</td>\n",
       "      <td>сотрудник</td>\n",
       "      <td>0</td>\n",
       "      <td>144425.938277</td>\n",
       "      <td>покупка жилья для семьи</td>\n",
       "    </tr>\n",
       "    <tr>\n",
       "      <th>10</th>\n",
       "      <td>2</td>\n",
       "      <td>-4171.483647</td>\n",
       "      <td>36</td>\n",
       "      <td>высшее</td>\n",
       "      <td>0</td>\n",
       "      <td>женат / замужем</td>\n",
       "      <td>0</td>\n",
       "      <td>M</td>\n",
       "      <td>компаньон</td>\n",
       "      <td>0</td>\n",
       "      <td>113943.491460</td>\n",
       "      <td>покупка недвижимости</td>\n",
       "    </tr>\n",
       "    <tr>\n",
       "      <th>11</th>\n",
       "      <td>0</td>\n",
       "      <td>-792.701887</td>\n",
       "      <td>40</td>\n",
       "      <td>среднее</td>\n",
       "      <td>1</td>\n",
       "      <td>женат / замужем</td>\n",
       "      <td>0</td>\n",
       "      <td>F</td>\n",
       "      <td>сотрудник</td>\n",
       "      <td>0</td>\n",
       "      <td>77069.234271</td>\n",
       "      <td>покупка коммерческой недвижимости</td>\n",
       "    </tr>\n",
       "    <tr>\n",
       "      <th>12</th>\n",
       "      <td>0</td>\n",
       "      <td>NaN</td>\n",
       "      <td>65</td>\n",
       "      <td>среднее</td>\n",
       "      <td>1</td>\n",
       "      <td>гражданский брак</td>\n",
       "      <td>1</td>\n",
       "      <td>M</td>\n",
       "      <td>пенсионер</td>\n",
       "      <td>0</td>\n",
       "      <td>NaN</td>\n",
       "      <td>сыграть свадьбу</td>\n",
       "    </tr>\n",
       "    <tr>\n",
       "      <th>13</th>\n",
       "      <td>0</td>\n",
       "      <td>-1846.641941</td>\n",
       "      <td>54</td>\n",
       "      <td>неоконченное высшее</td>\n",
       "      <td>2</td>\n",
       "      <td>женат / замужем</td>\n",
       "      <td>0</td>\n",
       "      <td>F</td>\n",
       "      <td>сотрудник</td>\n",
       "      <td>0</td>\n",
       "      <td>130458.228857</td>\n",
       "      <td>приобретение автомобиля</td>\n",
       "    </tr>\n",
       "    <tr>\n",
       "      <th>14</th>\n",
       "      <td>0</td>\n",
       "      <td>-1844.956182</td>\n",
       "      <td>56</td>\n",
       "      <td>высшее</td>\n",
       "      <td>0</td>\n",
       "      <td>гражданский брак</td>\n",
       "      <td>1</td>\n",
       "      <td>F</td>\n",
       "      <td>компаньон</td>\n",
       "      <td>1</td>\n",
       "      <td>165127.911772</td>\n",
       "      <td>покупка жилой недвижимости</td>\n",
       "    </tr>\n",
       "    <tr>\n",
       "      <th>15</th>\n",
       "      <td>1</td>\n",
       "      <td>-972.364419</td>\n",
       "      <td>26</td>\n",
       "      <td>среднее</td>\n",
       "      <td>1</td>\n",
       "      <td>женат / замужем</td>\n",
       "      <td>0</td>\n",
       "      <td>F</td>\n",
       "      <td>сотрудник</td>\n",
       "      <td>0</td>\n",
       "      <td>116820.904450</td>\n",
       "      <td>строительство собственной недвижимости</td>\n",
       "    </tr>\n",
       "    <tr>\n",
       "      <th>16</th>\n",
       "      <td>0</td>\n",
       "      <td>-1719.934226</td>\n",
       "      <td>35</td>\n",
       "      <td>среднее</td>\n",
       "      <td>1</td>\n",
       "      <td>женат / замужем</td>\n",
       "      <td>0</td>\n",
       "      <td>F</td>\n",
       "      <td>сотрудник</td>\n",
       "      <td>0</td>\n",
       "      <td>289202.704229</td>\n",
       "      <td>недвижимость</td>\n",
       "    </tr>\n",
       "    <tr>\n",
       "      <th>17</th>\n",
       "      <td>0</td>\n",
       "      <td>-2369.999720</td>\n",
       "      <td>33</td>\n",
       "      <td>высшее</td>\n",
       "      <td>0</td>\n",
       "      <td>гражданский брак</td>\n",
       "      <td>1</td>\n",
       "      <td>M</td>\n",
       "      <td>сотрудник</td>\n",
       "      <td>0</td>\n",
       "      <td>90410.586745</td>\n",
       "      <td>строительство недвижимости</td>\n",
       "    </tr>\n",
       "    <tr>\n",
       "      <th>18</th>\n",
       "      <td>0</td>\n",
       "      <td>400281.136913</td>\n",
       "      <td>53</td>\n",
       "      <td>среднее</td>\n",
       "      <td>1</td>\n",
       "      <td>вдовец / вдова</td>\n",
       "      <td>2</td>\n",
       "      <td>F</td>\n",
       "      <td>пенсионер</td>\n",
       "      <td>0</td>\n",
       "      <td>56823.777243</td>\n",
       "      <td>на покупку подержанного автомобиля</td>\n",
       "    </tr>\n",
       "    <tr>\n",
       "      <th>19</th>\n",
       "      <td>0</td>\n",
       "      <td>-10038.818549</td>\n",
       "      <td>48</td>\n",
       "      <td>СРЕДНЕЕ</td>\n",
       "      <td>1</td>\n",
       "      <td>в разводе</td>\n",
       "      <td>3</td>\n",
       "      <td>F</td>\n",
       "      <td>сотрудник</td>\n",
       "      <td>0</td>\n",
       "      <td>242831.107982</td>\n",
       "      <td>на покупку своего автомобиля</td>\n",
       "    </tr>\n",
       "  </tbody>\n",
       "</table>\n",
       "</div>"
      ],
      "text/plain": [
       "    children  days_employed  dob_years            education  education_id  \\\n",
       "0          1   -8437.673028         42               высшее             0   \n",
       "1          1   -4024.803754         36              среднее             1   \n",
       "2          0   -5623.422610         33              Среднее             1   \n",
       "3          3   -4124.747207         32              среднее             1   \n",
       "4          0  340266.072047         53              среднее             1   \n",
       "5          0    -926.185831         27               высшее             0   \n",
       "6          0   -2879.202052         43               высшее             0   \n",
       "7          0    -152.779569         50              СРЕДНЕЕ             1   \n",
       "8          2   -6929.865299         35               ВЫСШЕЕ             0   \n",
       "9          0   -2188.756445         41              среднее             1   \n",
       "10         2   -4171.483647         36               высшее             0   \n",
       "11         0    -792.701887         40              среднее             1   \n",
       "12         0            NaN         65              среднее             1   \n",
       "13         0   -1846.641941         54  неоконченное высшее             2   \n",
       "14         0   -1844.956182         56               высшее             0   \n",
       "15         1    -972.364419         26              среднее             1   \n",
       "16         0   -1719.934226         35              среднее             1   \n",
       "17         0   -2369.999720         33               высшее             0   \n",
       "18         0  400281.136913         53              среднее             1   \n",
       "19         0  -10038.818549         48              СРЕДНЕЕ             1   \n",
       "\n",
       "       family_status  family_status_id gender income_type  debt  \\\n",
       "0    женат / замужем                 0      F   сотрудник     0   \n",
       "1    женат / замужем                 0      F   сотрудник     0   \n",
       "2    женат / замужем                 0      M   сотрудник     0   \n",
       "3    женат / замужем                 0      M   сотрудник     0   \n",
       "4   гражданский брак                 1      F   пенсионер     0   \n",
       "5   гражданский брак                 1      M   компаньон     0   \n",
       "6    женат / замужем                 0      F   компаньон     0   \n",
       "7    женат / замужем                 0      M   сотрудник     0   \n",
       "8   гражданский брак                 1      F   сотрудник     0   \n",
       "9    женат / замужем                 0      M   сотрудник     0   \n",
       "10   женат / замужем                 0      M   компаньон     0   \n",
       "11   женат / замужем                 0      F   сотрудник     0   \n",
       "12  гражданский брак                 1      M   пенсионер     0   \n",
       "13   женат / замужем                 0      F   сотрудник     0   \n",
       "14  гражданский брак                 1      F   компаньон     1   \n",
       "15   женат / замужем                 0      F   сотрудник     0   \n",
       "16   женат / замужем                 0      F   сотрудник     0   \n",
       "17  гражданский брак                 1      M   сотрудник     0   \n",
       "18    вдовец / вдова                 2      F   пенсионер     0   \n",
       "19         в разводе                 3      F   сотрудник     0   \n",
       "\n",
       "     total_income                                 purpose  \n",
       "0   253875.639453                           покупка жилья  \n",
       "1   112080.014102                 приобретение автомобиля  \n",
       "2   145885.952297                           покупка жилья  \n",
       "3   267628.550329              дополнительное образование  \n",
       "4   158616.077870                         сыграть свадьбу  \n",
       "5   255763.565419                           покупка жилья  \n",
       "6   240525.971920                       операции с жильем  \n",
       "7   135823.934197                             образование  \n",
       "8    95856.832424                   на проведение свадьбы  \n",
       "9   144425.938277                 покупка жилья для семьи  \n",
       "10  113943.491460                    покупка недвижимости  \n",
       "11   77069.234271       покупка коммерческой недвижимости  \n",
       "12            NaN                         сыграть свадьбу  \n",
       "13  130458.228857                 приобретение автомобиля  \n",
       "14  165127.911772              покупка жилой недвижимости  \n",
       "15  116820.904450  строительство собственной недвижимости  \n",
       "16  289202.704229                            недвижимость  \n",
       "17   90410.586745              строительство недвижимости  \n",
       "18   56823.777243      на покупку подержанного автомобиля  \n",
       "19  242831.107982            на покупку своего автомобиля  "
      ]
     },
     "execution_count": 2,
     "metadata": {},
     "output_type": "execute_result"
    }
   ],
   "source": [
    "data.head(20)"
   ]
  },
  {
   "cell_type": "markdown",
   "id": "34647c89",
   "metadata": {
    "deletable": false,
    "editable": false,
    "id": "1c12e233"
   },
   "source": [
    "**Задание 3. Выведите основную информацию о датафрейме с помощью метода `info()`.**"
   ]
  },
  {
   "cell_type": "code",
   "execution_count": 3,
   "id": "8fa91e9d",
   "metadata": {
    "deletable": false,
    "id": "2b757bca",
    "outputId": "15376089-8dad-46c9-b520-c05248d43158"
   },
   "outputs": [
    {
     "name": "stdout",
     "output_type": "stream",
     "text": [
      "<class 'pandas.core.frame.DataFrame'>\n",
      "RangeIndex: 21525 entries, 0 to 21524\n",
      "Data columns (total 12 columns):\n",
      " #   Column            Non-Null Count  Dtype  \n",
      "---  ------            --------------  -----  \n",
      " 0   children          21525 non-null  int64  \n",
      " 1   days_employed     19351 non-null  float64\n",
      " 2   dob_years         21525 non-null  int64  \n",
      " 3   education         21525 non-null  object \n",
      " 4   education_id      21525 non-null  int64  \n",
      " 5   family_status     21525 non-null  object \n",
      " 6   family_status_id  21525 non-null  int64  \n",
      " 7   gender            21525 non-null  object \n",
      " 8   income_type       21525 non-null  object \n",
      " 9   debt              21525 non-null  int64  \n",
      " 10  total_income      19351 non-null  float64\n",
      " 11  purpose           21525 non-null  object \n",
      "dtypes: float64(2), int64(5), object(5)\n",
      "memory usage: 2.0+ MB\n"
     ]
    }
   ],
   "source": [
    "data.info()"
   ]
  },
  {
   "cell_type": "markdown",
   "id": "705c74fe",
   "metadata": {
    "deletable": false,
    "editable": false,
    "id": "333ec665"
   },
   "source": [
    "## Предобработка данных"
   ]
  },
  {
   "cell_type": "markdown",
   "id": "bb20cff2",
   "metadata": {
    "deletable": false,
    "editable": false,
    "id": "02d92d53"
   },
   "source": [
    "### Удаление пропусков"
   ]
  },
  {
   "cell_type": "markdown",
   "id": "44672162",
   "metadata": {
    "deletable": false,
    "editable": false,
    "id": "cd84967c"
   },
   "source": [
    "**Задание 4. Выведите количество пропущенных значений для каждого столбца. Используйте комбинацию двух методов.**"
   ]
  },
  {
   "cell_type": "code",
   "execution_count": 4,
   "id": "3eb7ce81",
   "metadata": {
    "deletable": false,
    "id": "7f9b2309",
    "outputId": "81f4d817-781c-465c-ed15-91ce4446810d"
   },
   "outputs": [
    {
     "data": {
      "text/plain": [
       "children               0\n",
       "days_employed       2174\n",
       "dob_years              0\n",
       "education              0\n",
       "education_id           0\n",
       "family_status          0\n",
       "family_status_id       0\n",
       "gender                 0\n",
       "income_type            0\n",
       "debt                   0\n",
       "total_income        2174\n",
       "purpose                0\n",
       "dtype: int64"
      ]
     },
     "execution_count": 4,
     "metadata": {},
     "output_type": "execute_result"
    }
   ],
   "source": [
    "data.isna().sum()"
   ]
  },
  {
   "cell_type": "markdown",
   "id": "3eeb33fb",
   "metadata": {
    "deletable": false,
    "editable": false,
    "id": "db86e27b"
   },
   "source": [
    "**Задание 5. В двух столбцах есть пропущенные значения. Один из них — `days_employed`. Пропуски в этом столбце вы обработаете на следующем этапе. Другой столбец с пропущенными значениями — `total_income` — хранит данные о доходах. На сумму дохода сильнее всего влияет тип занятости, поэтому заполнить пропуски в этом столбце нужно медианным значением по каждому типу из столбца `income_type`. Например, у человека с типом занятости `сотрудник` пропуск в столбце `total_income` должен быть заполнен медианным доходом среди всех записей с тем же типом.**"
   ]
  },
  {
   "cell_type": "code",
   "execution_count": 5,
   "id": "cdbbff7a",
   "metadata": {
    "deletable": false,
    "id": "42006a93"
   },
   "outputs": [],
   "source": [
    "for t in data['income_type'].unique():\n",
    "    data.loc[(data['income_type'] == t) & (data['total_income'].isna()), 'total_income'] = \\\n",
    "    data.loc[(data['income_type'] == t), 'total_income'].median()"
   ]
  },
  {
   "cell_type": "markdown",
   "id": "b328cd26",
   "metadata": {
    "deletable": false,
    "editable": false,
    "id": "89da5ece"
   },
   "source": [
    "### Обработка аномальных значений"
   ]
  },
  {
   "cell_type": "markdown",
   "id": "fb308273",
   "metadata": {
    "deletable": false,
    "editable": false,
    "id": "57964554"
   },
   "source": [
    "**Задание 6. В данных могут встречаться артефакты (аномалии) — значения, которые не отражают действительность и появились по какой-то ошибке. таким артефактом будет отрицательное количество дней трудового стажа в столбце `days_employed`. Для реальных данных это нормально. Обработайте значения в этом столбце: замените все отрицательные значения положительными с помощью метода `abs()`.**"
   ]
  },
  {
   "cell_type": "code",
   "execution_count": 6,
   "id": "757db43d",
   "metadata": {
    "deletable": false,
    "id": "f6f055bf"
   },
   "outputs": [],
   "source": [
    "data['days_employed'] = data['days_employed'].abs()"
   ]
  },
  {
   "cell_type": "markdown",
   "id": "c34d9401",
   "metadata": {
    "deletable": false,
    "editable": false,
    "id": "6107dd2f"
   },
   "source": [
    "**Задание 7. Для каждого типа занятости выведите медианное значение трудового стажа `days_employed` в днях.**"
   ]
  },
  {
   "cell_type": "code",
   "execution_count": 7,
   "id": "86037275",
   "metadata": {
    "deletable": false,
    "id": "85a5faf6",
    "outputId": "801ef80e-522b-4668-f34e-565af7432bcf"
   },
   "outputs": [
    {
     "data": {
      "text/plain": [
       "income_type\n",
       "безработный        366413.652744\n",
       "в декрете            3296.759962\n",
       "госслужащий          2689.368353\n",
       "компаньон            1547.382223\n",
       "пенсионер          365213.306266\n",
       "предприниматель       520.848083\n",
       "сотрудник            1574.202821\n",
       "студент               578.751554\n",
       "Name: days_employed, dtype: float64"
      ]
     },
     "execution_count": 7,
     "metadata": {},
     "output_type": "execute_result"
    }
   ],
   "source": [
    "data.groupby('income_type')['days_employed'].agg('median')"
   ]
  },
  {
   "cell_type": "markdown",
   "id": "93b75e83",
   "metadata": {
    "deletable": false,
    "editable": false,
    "id": "38d1a030"
   },
   "source": [
    "У двух типов (безработные и пенсионеры) получатся аномально большие значения. Исправить такие значения сложно, поэтому оставьте их как есть. Тем более этот столбец не понадобится вам для исследования."
   ]
  },
  {
   "cell_type": "markdown",
   "id": "7c509556",
   "metadata": {
    "deletable": false,
    "editable": false,
    "id": "d8a9f147"
   },
   "source": [
    "**Задание 8. Выведите перечень уникальных значений столбца `children`.**"
   ]
  },
  {
   "cell_type": "code",
   "execution_count": 8,
   "id": "a0c82253",
   "metadata": {
    "deletable": false,
    "id": "ef5056eb",
    "outputId": "6975b15c-7f95-4697-d16d-a0c79b657b03"
   },
   "outputs": [
    {
     "data": {
      "text/plain": [
       "array([ 1,  0,  3,  2, -1,  4, 20,  5])"
      ]
     },
     "execution_count": 8,
     "metadata": {},
     "output_type": "execute_result"
    }
   ],
   "source": [
    "data['children'].unique()"
   ]
  },
  {
   "cell_type": "markdown",
   "id": "5c5f8466",
   "metadata": {
    "deletable": false,
    "editable": false,
    "id": "40b9ebf2"
   },
   "source": [
    "**Задание 9. В столбце `children` есть два аномальных значения. Удалите строки, в которых встречаются такие аномальные значения из датафрейма `data`.**"
   ]
  },
  {
   "cell_type": "code",
   "execution_count": 9,
   "id": "8ea42750",
   "metadata": {
    "deletable": false,
    "id": "3ff9801d"
   },
   "outputs": [],
   "source": [
    "data = data[(data['children'] != -1) & (data['children'] != 20)]"
   ]
  },
  {
   "cell_type": "markdown",
   "id": "535f6bf7",
   "metadata": {
    "deletable": false,
    "editable": false,
    "id": "bbc4d0ce"
   },
   "source": [
    "**Задание 10. Ещё раз выведите перечень уникальных значений столбца `children`, чтобы убедиться, что артефакты удалены.**"
   ]
  },
  {
   "cell_type": "code",
   "execution_count": 10,
   "id": "62ee7bc7",
   "metadata": {
    "deletable": false,
    "id": "ad4fa8b7",
    "outputId": "b2097101-d49d-44d9-901b-32a65c9463d1"
   },
   "outputs": [
    {
     "data": {
      "text/plain": [
       "array([1, 0, 3, 2, 4, 5])"
      ]
     },
     "execution_count": 10,
     "metadata": {},
     "output_type": "execute_result"
    }
   ],
   "source": [
    "data['children'].unique()"
   ]
  },
  {
   "cell_type": "markdown",
   "id": "00a287ed",
   "metadata": {
    "deletable": false,
    "editable": false,
    "id": "75440b63"
   },
   "source": [
    "### Удаление пропусков (продолжение)"
   ]
  },
  {
   "cell_type": "markdown",
   "id": "2d6a5b72",
   "metadata": {
    "deletable": false,
    "editable": false,
    "id": "f4ea573f"
   },
   "source": [
    "**Задание 11. Заполните пропуски в столбце `days_employed` медианными значениями по каждого типа занятости `income_type`.**"
   ]
  },
  {
   "cell_type": "code",
   "execution_count": 11,
   "id": "25cca90d",
   "metadata": {
    "deletable": false,
    "id": "af6b1a7e"
   },
   "outputs": [],
   "source": [
    "for t in data['income_type'].unique():\n",
    "    data.loc[(data['income_type'] == t) & (data['days_employed'].isna()), 'days_employed'] = \\\n",
    "    data.loc[(data['income_type'] == t), 'days_employed'].median()"
   ]
  },
  {
   "cell_type": "markdown",
   "id": "a1b6a84f",
   "metadata": {
    "deletable": false,
    "editable": false,
    "id": "2753f40d"
   },
   "source": [
    "**Задание 12. Убедитесь, что все пропуски заполнены. Проверьте себя и ещё раз выведите количество пропущенных значений для каждого столбца с помощью двух методов.**"
   ]
  },
  {
   "cell_type": "code",
   "execution_count": 12,
   "id": "e475d3a5",
   "metadata": {
    "deletable": false,
    "id": "55f78bc2",
    "outputId": "8da1e4e1-358e-4e87-98c9-f261bce0a7b2"
   },
   "outputs": [
    {
     "data": {
      "text/plain": [
       "children            0\n",
       "days_employed       0\n",
       "dob_years           0\n",
       "education           0\n",
       "education_id        0\n",
       "family_status       0\n",
       "family_status_id    0\n",
       "gender              0\n",
       "income_type         0\n",
       "debt                0\n",
       "total_income        0\n",
       "purpose             0\n",
       "dtype: int64"
      ]
     },
     "execution_count": 12,
     "metadata": {},
     "output_type": "execute_result"
    }
   ],
   "source": [
    "data.isna().sum()"
   ]
  },
  {
   "cell_type": "markdown",
   "id": "49901204",
   "metadata": {
    "deletable": false,
    "editable": false,
    "id": "ddc81e43"
   },
   "source": [
    "### Изменение типов данных"
   ]
  },
  {
   "cell_type": "markdown",
   "id": "8177e224",
   "metadata": {
    "deletable": false,
    "editable": false,
    "id": "42d19d24"
   },
   "source": [
    "**Задание 13. Замените вещественный тип данных в столбце `total_income` на целочисленный с помощью метода `astype()`.**"
   ]
  },
  {
   "cell_type": "code",
   "execution_count": 13,
   "id": "edf86e17",
   "metadata": {
    "deletable": false,
    "id": "920b65ad"
   },
   "outputs": [],
   "source": [
    "data['total_income'] = data['total_income'].astype(int)"
   ]
  },
  {
   "cell_type": "markdown",
   "id": "a3f1a84e",
   "metadata": {
    "deletable": false,
    "editable": false,
    "id": "80c420ba"
   },
   "source": [
    "### Обработка дубликатов"
   ]
  },
  {
   "cell_type": "markdown",
   "id": "07d79656",
   "metadata": {
    "deletable": false,
    "editable": false
   },
   "source": [
    "**Задание 14. Обработайте неявные дубликаты в столбце `education`. В этом столбце есть одни и те же значения, но записанные по-разному: с использованием заглавных и строчных букв. Приведите их к нижнему регистру. Проверьте остальные столбцы.**"
   ]
  },
  {
   "cell_type": "code",
   "execution_count": 14,
   "id": "aa1ffed3",
   "metadata": {
    "deletable": false
   },
   "outputs": [],
   "source": [
    "data['education'] = data['education'].str.lower()"
   ]
  },
  {
   "cell_type": "markdown",
   "id": "1248c524",
   "metadata": {
    "deletable": false,
    "editable": false,
    "id": "dc587695"
   },
   "source": [
    "**Задание 15. Выведите на экран количество строк-дубликатов в данных. Если такие строки присутствуют, удалите их.**"
   ]
  },
  {
   "cell_type": "code",
   "execution_count": 15,
   "id": "76eb14f8",
   "metadata": {
    "deletable": false,
    "id": "3ee445e4",
    "outputId": "9684deba-1934-42d1-99e1-cda61740f822"
   },
   "outputs": [
    {
     "data": {
      "text/plain": [
       "71"
      ]
     },
     "execution_count": 15,
     "metadata": {},
     "output_type": "execute_result"
    }
   ],
   "source": [
    "data.duplicated().sum()"
   ]
  },
  {
   "cell_type": "code",
   "execution_count": 16,
   "id": "460d971d",
   "metadata": {
    "deletable": false,
    "id": "8575fe05"
   },
   "outputs": [],
   "source": [
    "data = data.drop_duplicates()"
   ]
  },
  {
   "cell_type": "markdown",
   "id": "e1663d72",
   "metadata": {
    "deletable": false,
    "editable": false,
    "id": "9904cf55"
   },
   "source": [
    "### Категоризация данных"
   ]
  },
  {
   "cell_type": "markdown",
   "id": "4cf1f2ef",
   "metadata": {
    "deletable": false,
    "editable": false,
    "id": "72fcc8a2"
   },
   "source": [
    "**Задание 16. На основании диапазонов, указанных ниже, создайте в датафрейме `data` столбец `total_income_category` с категориями:**\n",
    "\n",
    "- 0–30000 — `'E'`;\n",
    "- 30001–50000 — `'D'`;\n",
    "- 50001–200000 — `'C'`;\n",
    "- 200001–1000000 — `'B'`;\n",
    "- 1000001 и выше — `'A'`.\n",
    "\n",
    "\n",
    "**Например, кредитополучателю с доходом 25000 нужно назначить категорию `'E'`, а клиенту, получающему 235000, — `'B'`. Используйте собственную функцию с именем `categorize_income()` и метод `apply()`.**"
   ]
  },
  {
   "cell_type": "code",
   "execution_count": 17,
   "id": "36d8988a",
   "metadata": {
    "deletable": false,
    "id": "e1771346"
   },
   "outputs": [],
   "source": [
    "def categorize_income(income):\n",
    "    try:\n",
    "        if 0 <= income <= 30000:\n",
    "            return 'E'\n",
    "        elif 30001 <= income <= 50000:\n",
    "            return 'D'\n",
    "        elif 50001 <= income <= 200000:\n",
    "            return 'C'\n",
    "        elif 200001 <= income <= 1000000:\n",
    "            return 'B'\n",
    "        elif income >= 1000001:\n",
    "            return 'A'\n",
    "    except:\n",
    "        pass"
   ]
  },
  {
   "cell_type": "code",
   "execution_count": 18,
   "id": "fa21c12f",
   "metadata": {
    "deletable": false,
    "id": "d5f3586d"
   },
   "outputs": [],
   "source": [
    "data['total_income_category'] = data['total_income'].apply(categorize_income)"
   ]
  },
  {
   "cell_type": "markdown",
   "id": "d7410178",
   "metadata": {
    "deletable": false,
    "editable": false,
    "id": "dde49b5c"
   },
   "source": [
    "**Задание 17. Выведите на экран перечень уникальных целей взятия кредита из столбца `purpose`.**"
   ]
  },
  {
   "cell_type": "code",
   "execution_count": 19,
   "id": "ab37a6d7",
   "metadata": {
    "deletable": false,
    "id": "f67ce9b3",
    "outputId": "673c12d9-7d7e-4ae0-9812-c622c89dd244"
   },
   "outputs": [
    {
     "data": {
      "text/plain": [
       "array(['покупка жилья', 'приобретение автомобиля',\n",
       "       'дополнительное образование', 'сыграть свадьбу',\n",
       "       'операции с жильем', 'образование', 'на проведение свадьбы',\n",
       "       'покупка жилья для семьи', 'покупка недвижимости',\n",
       "       'покупка коммерческой недвижимости', 'покупка жилой недвижимости',\n",
       "       'строительство собственной недвижимости', 'недвижимость',\n",
       "       'строительство недвижимости', 'на покупку подержанного автомобиля',\n",
       "       'на покупку своего автомобиля',\n",
       "       'операции с коммерческой недвижимостью',\n",
       "       'строительство жилой недвижимости', 'жилье',\n",
       "       'операции со своей недвижимостью', 'автомобили',\n",
       "       'заняться образованием', 'сделка с подержанным автомобилем',\n",
       "       'получение образования', 'автомобиль', 'свадьба',\n",
       "       'получение дополнительного образования', 'покупка своего жилья',\n",
       "       'операции с недвижимостью', 'получение высшего образования',\n",
       "       'свой автомобиль', 'сделка с автомобилем',\n",
       "       'профильное образование', 'высшее образование',\n",
       "       'покупка жилья для сдачи', 'на покупку автомобиля', 'ремонт жилью',\n",
       "       'заняться высшим образованием'], dtype=object)"
      ]
     },
     "execution_count": 19,
     "metadata": {},
     "output_type": "execute_result"
    }
   ],
   "source": [
    "data['purpose'].unique()"
   ]
  },
  {
   "cell_type": "markdown",
   "id": "065feb47",
   "metadata": {
    "deletable": false,
    "editable": false,
    "id": "85d0aef0"
   },
   "source": [
    "**Задание 18. Создайте функцию, которая на основании данных из столбца `purpose` сформирует новый столбец `purpose_category`, в который войдут следующие категории:**\n",
    "\n",
    "- `'операции с автомобилем'`,\n",
    "- `'операции с недвижимостью'`,\n",
    "- `'проведение свадьбы'`,\n",
    "- `'получение образования'`.\n",
    "\n",
    "**Например, если в столбце `purpose` находится подстрока `'на покупку автомобиля'`, то в столбце `purpose_category` должна появиться строка `'операции с автомобилем'`.**\n",
    "\n",
    "**Используйте собственную функцию с именем `categorize_purpose()` и метод `apply()`. Изучите данные в столбце `purpose` и определите, какие подстроки помогут вам правильно определить категорию.**"
   ]
  },
  {
   "cell_type": "code",
   "execution_count": 20,
   "id": "fdedf8bd",
   "metadata": {
    "deletable": false,
    "id": "e149fab4"
   },
   "outputs": [],
   "source": [
    "def categorize_purpose(row):\n",
    "    try:\n",
    "        if 'автом' in row:\n",
    "            return 'операции с автомобилем'\n",
    "        elif 'жил' in row or 'недвиж' in row:\n",
    "            return 'операции с недвижимостью'\n",
    "        elif 'свад' in row:\n",
    "            return 'проведение свадьбы'\n",
    "        elif 'образов' in row:\n",
    "            return 'получение образования'\n",
    "    except:\n",
    "        return 'нет категории'"
   ]
  },
  {
   "cell_type": "code",
   "execution_count": 21,
   "id": "91c96cd6",
   "metadata": {
    "deletable": false,
    "id": "bf36e69b"
   },
   "outputs": [],
   "source": [
    "data['purpose_category'] = data['purpose'].apply(categorize_purpose)"
   ]
  },
  {
   "cell_type": "markdown",
   "id": "fbef7e9a",
   "metadata": {
    "deletable": false,
    "editable": false,
    "id": "09b242bf"
   },
   "source": [
    "### Шаг 3. Исследуйте данные и ответьте на вопросы"
   ]
  },
  {
   "cell_type": "markdown",
   "id": "aef007c2",
   "metadata": {},
   "source": [
    "#### 3.0 Нахождение зависимости между признаками и целевой переменной debt."
   ]
  },
  {
   "cell_type": "code",
   "execution_count": 22,
   "id": "e115a086",
   "metadata": {},
   "outputs": [],
   "source": [
    "# !pip install xgboost\n",
    "import seaborn as sns\n",
    "import xgboost as xgb\n",
    "import matplotlib.pyplot as plt"
   ]
  },
  {
   "cell_type": "code",
   "execution_count": 23,
   "id": "66213f4e",
   "metadata": {},
   "outputs": [
    {
     "data": {
      "text/plain": [
       "среднее                15075\n",
       "высшее                  5227\n",
       "неоконченное высшее      741\n",
       "начальное                282\n",
       "ученая степень             6\n",
       "Name: education, dtype: int64"
      ]
     },
     "execution_count": 23,
     "metadata": {},
     "output_type": "execute_result"
    }
   ],
   "source": [
    "data.education.value_counts()"
   ]
  },
  {
   "cell_type": "code",
   "execution_count": 24,
   "id": "4730527a",
   "metadata": {
    "scrolled": true
   },
   "outputs": [
    {
     "data": {
      "text/plain": [
       "<AxesSubplot:>"
      ]
     },
     "execution_count": 24,
     "metadata": {},
     "output_type": "execute_result"
    },
    {
     "data": {
      "image/png": "[encoded data removed]",
      "text/plain": [
       "<Figure size 1080x576 with 2 Axes>"
      ]
     },
     "metadata": {},
     "output_type": "display_data"
    }
   ],
   "source": [
    "corr = data.corr()\n",
    "sns.set(rc = {'figure.figsize':(15,8)})\n",
    "sns.heatmap(corr, annot=True)"
   ]
  },
  {
   "cell_type": "markdown",
   "id": "237515c0",
   "metadata": {},
   "source": [
    "**Обработка категориальных переменных:**"
   ]
  },
  {
   "cell_type": "code",
   "execution_count": 25,
   "id": "c4b8e21e",
   "metadata": {},
   "outputs": [],
   "source": [
    "data.gender = data.gender.replace({'M':1, 'F':0, 'XNA': 0})\n",
    "\n",
    "data.education = data.education.replace({'начальное': 0, \n",
    "                                         'среднее': 1,\n",
    "                                         'неоконченное высшее' : 2,\n",
    "                                         'высшее' : 3,\n",
    "                                         'ученая степень' : 4\n",
    "                                        }) \n",
    "\n",
    "# В education есть некая иерархия, \n",
    "# поэтому расставляем категории по возрастанию.\n",
    "# в связи с этим удаляем education_id и расставляем числовые значения в education.\n",
    "# можно было и education_id переделать, но смысл тот же."
   ]
  },
  {
   "cell_type": "code",
   "execution_count": 26,
   "id": "2ec8f2b1",
   "metadata": {},
   "outputs": [],
   "source": [
    "label_income_type = 0\n",
    "\n",
    "for x in data.income_type.unique():\n",
    "    data.income_type = data.income_type.replace({x : label_income_type})\n",
    "    label_income_type += 1\n",
    "    \n",
    "# в income_type тоже можно усмотреть иерархию, но она менее очевидна.\n",
    "\n",
    "    \n",
    "label_total_income_category = 0\n",
    "\n",
    "for x in sorted(data.total_income_category.unique(), reverse=True):\n",
    "    data.total_income_category = data.total_income_category.replace({x : label_total_income_category})\n",
    "    label_total_income_category += 1\n",
    "    \n",
    "# в total_income_category иерархия тоже есть, \n",
    "# поэтому числовые значения расставляем по порядку от 'E' до 'A' \n",
    "    \n",
    "label_purpose_category = 0\n",
    "\n",
    "for x in data.purpose_category.unique():\n",
    "    data.purpose_category = data.purpose_category.replace({x : label_purpose_category})\n",
    "    label_purpose_category += 1\n",
    "    \n",
    "# в purpose_category никакого порядка нет, поэтому просто расставляем значения."
   ]
  },
  {
   "cell_type": "markdown",
   "id": "094a625a",
   "metadata": {},
   "source": [
    "**Правильнее было бы сделать one-hot кодирование для категориальных признаков, но довольно проблематично видимо бедет оценивать важность признаков**."
   ]
  },
  {
   "cell_type": "code",
   "execution_count": 27,
   "id": "6307bdae",
   "metadata": {},
   "outputs": [],
   "source": [
    "data.drop(['education_id', 'family_status', 'purpose'], axis=1, inplace=True)\n",
    "y = data.debt\n",
    "X = data.drop('debt', axis=1)\n",
    "\n",
    "# Убираем столбцы, бОльшая часть информации о которых содержится в других столбцах\n",
    "# Задаем целевую переменную."
   ]
  },
  {
   "cell_type": "code",
   "execution_count": 28,
   "id": "026e3cdd",
   "metadata": {},
   "outputs": [
    {
     "data": {
      "text/plain": [
       "<AxesSubplot:>"
      ]
     },
     "execution_count": 28,
     "metadata": {},
     "output_type": "execute_result"
    },
    {
     "data": {
      "image/png": "[encoded data removed]",
      "text/plain": [
       "<Figure size 1080x576 with 2 Axes>"
      ]
     },
     "metadata": {},
     "output_type": "display_data"
    }
   ],
   "source": [
    "corr = data.corr()\n",
    "sns.set(rc = {'figure.figsize':(15,8)})\n",
    "sns.heatmap(corr, annot=True)"
   ]
  },
  {
   "cell_type": "markdown",
   "id": "defa72b4",
   "metadata": {},
   "source": [
    "**Выбираем модель на основе деревьев, для оценки признаков**"
   ]
  },
  {
   "cell_type": "code",
   "execution_count": 29,
   "id": "4f096046",
   "metadata": {},
   "outputs": [],
   "source": [
    "params =  {\n",
    "        'colsample_bytree': 0.2,\n",
    "         'learning_rate': 0.01,\n",
    "         'max_depth': 5,\n",
    "         'min_child_weight': 0.2,\n",
    "         'n_estimators': 500,\n",
    "         'subsample': 0.2,\n",
    "          'n_jobs': -1\n",
    "          }"
   ]
  },
  {
   "cell_type": "code",
   "execution_count": 30,
   "id": "1f96c6dc",
   "metadata": {},
   "outputs": [],
   "source": [
    "clf = xgb.XGBClassifier(**params, use_label_encoder=False)"
   ]
  },
  {
   "cell_type": "code",
   "execution_count": 31,
   "id": "98c8daaf",
   "metadata": {},
   "outputs": [
    {
     "name": "stdout",
     "output_type": "stream",
     "text": [
      "[07:16:49] WARNING: ../src/learner.cc:1115: Starting in XGBoost 1.3.0, the default evaluation metric used with the objective 'binary:logistic' was changed from 'error' to 'logloss'. Explicitly set eval_metric if you'd like to restore the old behavior.\n"
     ]
    },
    {
     "data": {
      "text/plain": [
       "XGBClassifier(base_score=0.5, booster='gbtree', colsample_bylevel=1,\n",
       "              colsample_bynode=1, colsample_bytree=0.2,\n",
       "              enable_categorical=False, gamma=0, gpu_id=-1,\n",
       "              importance_type=None, interaction_constraints='',\n",
       "              learning_rate=0.01, max_delta_step=0, max_depth=5,\n",
       "              min_child_weight=0.2, missing=nan, monotone_constraints='()',\n",
       "              n_estimators=500, n_jobs=-1, num_parallel_tree=1,\n",
       "              predictor='auto', random_state=0, reg_alpha=0, reg_lambda=1,\n",
       "              scale_pos_weight=1, subsample=0.2, tree_method='exact',\n",
       "              use_label_encoder=False, validate_parameters=1, verbosity=None)"
      ]
     },
     "execution_count": 31,
     "metadata": {},
     "output_type": "execute_result"
    }
   ],
   "source": [
    "clf.fit(X, y)"
   ]
  },
  {
   "cell_type": "markdown",
   "id": "26d900a0",
   "metadata": {},
   "source": [
    "**Значимость признаков:**"
   ]
  },
  {
   "cell_type": "code",
   "execution_count": 32,
   "id": "dd09027a",
   "metadata": {},
   "outputs": [],
   "source": [
    "imp = clf.feature_importances_"
   ]
  },
  {
   "cell_type": "code",
   "execution_count": 33,
   "id": "1ddfd03f",
   "metadata": {},
   "outputs": [
    {
     "data": {
      "text/plain": [
       "<AxesSubplot:>"
      ]
     },
     "execution_count": 33,
     "metadata": {},
     "output_type": "execute_result"
    },
    {
     "data": {
      "image/png": "[encoded data removed]",
      "text/plain": [
       "<Figure size 1080x576 with 1 Axes>"
      ]
     },
     "metadata": {},
     "output_type": "display_data"
    }
   ],
   "source": [
    "sns.barplot(x=imp, y=X.columns)"
   ]
  },
  {
   "cell_type": "code",
   "execution_count": 34,
   "id": "60b201f8",
   "metadata": {},
   "outputs": [
    {
     "name": "stdout",
     "output_type": "stream",
     "text": [
      "Collecting shap\n",
      "  Downloading shap-0.41.0-cp39-cp39-manylinux_2_12_x86_64.manylinux2010_x86_64.whl (572 kB)\n",
      "\u001b[K     |████████████████████████████████| 572 kB 2.1 MB/s eta 0:00:01\n",
      "\u001b[?25hCollecting slicer==0.0.7\n",
      "  Downloading slicer-0.0.7-py3-none-any.whl (14 kB)\n",
      "Collecting cloudpickle\n",
      "  Downloading cloudpickle-2.2.1-py3-none-any.whl (25 kB)\n",
      "Requirement already satisfied: tqdm>4.25.0 in /opt/conda/lib/python3.9/site-packages (from shap) (4.61.2)\n",
      "Requirement already satisfied: scipy in /opt/conda/lib/python3.9/site-packages (from shap) (1.9.1)\n",
      "Requirement already satisfied: scikit-learn in /opt/conda/lib/python3.9/site-packages (from shap) (0.24.1)\n",
      "Requirement already satisfied: numpy in /opt/conda/lib/python3.9/site-packages (from shap) (1.21.1)\n",
      "Requirement already satisfied: pandas in /opt/conda/lib/python3.9/site-packages (from shap) (1.2.4)\n",
      "Requirement already satisfied: packaging>20.9 in /opt/conda/lib/python3.9/site-packages (from shap) (21.3)\n",
      "Requirement already satisfied: numba in /opt/conda/lib/python3.9/site-packages (from shap) (0.56.0)\n",
      "Requirement already satisfied: pyparsing!=3.0.5,>=2.0.2 in /opt/conda/lib/python3.9/site-packages (from packaging>20.9->shap) (2.4.7)\n",
      "Requirement already satisfied: llvmlite<0.40,>=0.39.0dev0 in /opt/conda/lib/python3.9/site-packages (from numba->shap) (0.39.0)\n",
      "Requirement already satisfied: setuptools in /opt/conda/lib/python3.9/site-packages (from numba->shap) (49.6.0.post20210108)\n",
      "Requirement already satisfied: python-dateutil>=2.7.3 in /opt/conda/lib/python3.9/site-packages (from pandas->shap) (2.8.1)\n",
      "Requirement already satisfied: pytz>=2017.3 in /opt/conda/lib/python3.9/site-packages (from pandas->shap) (2021.1)\n",
      "Requirement already satisfied: six>=1.5 in /opt/conda/lib/python3.9/site-packages (from python-dateutil>=2.7.3->pandas->shap) (1.16.0)\n",
      "Requirement already satisfied: threadpoolctl>=2.0.0 in /opt/conda/lib/python3.9/site-packages (from scikit-learn->shap) (3.1.0)\n",
      "Requirement already satisfied: joblib>=0.11 in /opt/conda/lib/python3.9/site-packages (from scikit-learn->shap) (1.1.0)\n",
      "Installing collected packages: slicer, cloudpickle, shap\n",
      "Successfully installed cloudpickle-2.2.1 shap-0.41.0 slicer-0.0.7\n"
     ]
    }
   ],
   "source": [
    "#!pip install shap"
   ]
  },
  {
   "cell_type": "code",
   "execution_count": 35,
   "id": "68a2a7b6",
   "metadata": {},
   "outputs": [
    {
     "name": "stderr",
     "output_type": "stream",
     "text": [
      "ntree_limit is deprecated, use `iteration_range` or model slicing instead.\n",
      "auto_size_plot=False is deprecated and is now ignored! Use plot_size=None instead.\n"
     ]
    },
    {
     "data": {
      "image/png": "[encoded data removed]",
      "text/plain": [
       "<Figure size 576x396 with 2 Axes>"
      ]
     },
     "metadata": {},
     "output_type": "display_data"
    }
   ],
   "source": [
    "import shap\n",
    "shap_test = shap.TreeExplainer(clf).shap_values(X)\n",
    "shap.summary_plot(shap_test, X,max_display=25, auto_size_plot=True)"
   ]
  },
  {
   "cell_type": "markdown",
   "id": "666c310d",
   "metadata": {
    "deletable": false,
    "editable": false,
    "id": "c5d66278"
   },
   "source": [
    "#### 3.1 Есть ли зависимость между количеством детей и возвратом кредита в срок?"
   ]
  },
  {
   "cell_type": "code",
   "execution_count": 36,
   "id": "ac682b65",
   "metadata": {
    "deletable": false,
    "id": "2cacfc4a"
   },
   "outputs": [],
   "source": [
    "corr_debt_children_pearson = data.corr(method='pearson')['debt']['children']\n",
    "# corr_debt_children_kendall = data.corr(method='kendall')['debt']['children']\n",
    "# corr_debt_children_spearman = data.corr(method='spearman')['debt']['children']"
   ]
  },
  {
   "cell_type": "code",
   "execution_count": 37,
   "id": "eee706b7",
   "metadata": {},
   "outputs": [
    {
     "name": "stdout",
     "output_type": "stream",
     "text": [
      "Коэффициент корреляции Пирсона:0.0246\n"
     ]
    }
   ],
   "source": [
    "print(f'Коэффициент корреляции Пирсона:{corr_debt_children_pearson.round(4)}')\n",
    "# print(f'Коэффициент корреляции Кенделла:{corr_debt_children_kendall.round(4)}')\n",
    "# print(f'Коэффициент корреляции Спирмена:{corr_debt_children_spearman.round(4)}')"
   ]
  },
  {
   "cell_type": "markdown",
   "id": "54e4ab9d",
   "metadata": {
    "deletable": false,
    "id": "3a6b99ec"
   },
   "source": [
    "**Вывод:** Зависимость слабая, это видно и по коэффициенту корреляции, и по гистограмме важности признаков."
   ]
  },
  {
   "cell_type": "markdown",
   "id": "1ef773d8",
   "metadata": {
    "deletable": false,
    "editable": false,
    "id": "97be82ca"
   },
   "source": [
    "#### 3.2 Есть ли зависимость между семейным положением и возвратом кредита в срок?"
   ]
  },
  {
   "cell_type": "code",
   "execution_count": 38,
   "id": "268e2e37",
   "metadata": {
    "deletable": false,
    "id": "dc3f7ee8"
   },
   "outputs": [],
   "source": [
    "corr_debt_family_status_id_pearson = data.corr(method='pearson')['debt']['family_status_id']\n",
    "# corr_debt_family_status_id_kendall = data.corr(method='kendall')['debt']['family_status_id']\n",
    "# corr_debt_family_status_id_spearman = data.corr(method='spearman')['debt']['family_status_id']\n",
    "# Ваш код будет здесь. Вы можете создавать новые ячейки."
   ]
  },
  {
   "cell_type": "code",
   "execution_count": 39,
   "id": "c8a85ac4",
   "metadata": {},
   "outputs": [
    {
     "name": "stdout",
     "output_type": "stream",
     "text": [
      "Коэффициент корреляции Пирсона:0.0202\n"
     ]
    }
   ],
   "source": [
    "print(f'Коэффициент корреляции Пирсона:{corr_debt_family_status_id_pearson.round(4)}')\n",
    "# print(f'Коэффициент корреляции Кенделла:{corr_debt_family_status_id_kendall.round(4)}')\n",
    "# print(f'Коэффициент корреляции Спирмена:{corr_debt_family_status_id_spearman.round(4)}')"
   ]
  },
  {
   "cell_type": "markdown",
   "id": "358f397f",
   "metadata": {
    "deletable": false,
    "id": "1cef7837"
   },
   "source": [
    "**Вывод:** Зависимость слабая, это видно и по коэффициенту корреляции, и по гистограмме важности признаков."
   ]
  },
  {
   "cell_type": "markdown",
   "id": "a721573e",
   "metadata": {
    "deletable": false,
    "editable": false,
    "id": "1e8b2fca"
   },
   "source": [
    "#### 3.3 Есть ли зависимость между уровнем дохода и возвратом кредита в срок?"
   ]
  },
  {
   "cell_type": "code",
   "execution_count": 40,
   "id": "dfdd7071",
   "metadata": {
    "deletable": false,
    "id": "cd7e3720"
   },
   "outputs": [
    {
     "name": "stdout",
     "output_type": "stream",
     "text": [
      "Коэффициент корреляции Пирсона:-0.0127\n"
     ]
    }
   ],
   "source": [
    "corr_total_income_pearson = data.corr(method='pearson')['debt']['total_income']\n",
    "print(f'Коэффициент корреляции Пирсона:{corr_total_income_pearson.round(4)}')"
   ]
  },
  {
   "cell_type": "markdown",
   "id": "cbf5cff7",
   "metadata": {
    "deletable": false,
    "id": "e8593def"
   },
   "source": [
    "**Вывод:** По коэфициенту корреляции видно что линейная зависимость мала. Гистограмма важности признаков показывает, что этот признак средней важности (у признака высокие показатели веса и прироста, но маленький показатель покрытия). По графику shap видно, что четкого деления по возврату и задолжности кредита, среди людей с разным ежемесячным доходом, нет.\n",
    "\n",
    "Отсюда можно сделать вывод, что зависимости почти нет."
   ]
  },
  {
   "cell_type": "markdown",
   "id": "a88749fb",
   "metadata": {
    "deletable": false,
    "editable": false,
    "id": "99ecbd1f"
   },
   "source": [
    "#### 3.4 Как разные цели кредита влияют на его возврат в срок?"
   ]
  },
  {
   "cell_type": "code",
   "execution_count": 41,
   "id": "4f313ba2",
   "metadata": {
    "deletable": false,
    "id": "2b687290"
   },
   "outputs": [
    {
     "name": "stdout",
     "output_type": "stream",
     "text": [
      "Коэффициент корреляции Пирсона:0.0209\n"
     ]
    }
   ],
   "source": [
    "corr_purpose_category_pearson = data.corr(method='pearson')['debt']['purpose_category']\n",
    "print(f'Коэффициент корреляции Пирсона:{corr_purpose_category_pearson.round(4)}')\n",
    "# Ваш код будет здесь. Вы можете создавать новые ячейки."
   ]
  },
  {
   "cell_type": "markdown",
   "id": "28ddaf9b",
   "metadata": {
    "deletable": false,
    "id": "b4bb2ce6"
   },
   "source": [
    "**Вывод:** Зависимость слабая, это видно и по коэффициентам корреляции, и по гистограмме важности признаков."
   ]
  },
  {
   "cell_type": "markdown",
   "id": "d2d04ae3",
   "metadata": {
    "deletable": false,
    "editable": false,
    "id": "09c3ac4c"
   },
   "source": [
    "#### 3.5 Приведите возможные причины появления пропусков в исходных данных."
   ]
  },
  {
   "cell_type": "markdown",
   "id": "fb833812",
   "metadata": {
    "deletable": false,
    "id": "9da2ceda"
   },
   "source": [
    "*Ответ:* исходя из того, что число пропусков в стобцах с общим стажем и ежемесячным доходом одинаково (и это одни и те же строки), а также распредение по остальным столбцам для этих строк близко к такому же распределению для всей выборки, возможно  эти люди работали в \"серую\" и/или без официального оформления."
   ]
  },
  {
   "cell_type": "markdown",
   "id": "7e2f649f",
   "metadata": {
    "deletable": false,
    "editable": false,
    "id": "7b0487d6"
   },
   "source": [
    "#### 3.6 Объясните, почему заполнить пропуски медианным значением — лучшее решение для количественных переменных."
   ]
  },
  {
   "cell_type": "markdown",
   "id": "29532c63",
   "metadata": {
    "deletable": false,
    "id": "7ecf2b8e"
   },
   "source": [
    "*Ответ:* Медиана почти не чувствительна к выбросам."
   ]
  },
  {
   "cell_type": "markdown",
   "id": "436a4f5a",
   "metadata": {
    "deletable": false,
    "editable": false,
    "id": "6db5255a"
   },
   "source": [
    "### Шаг 4: общий вывод."
   ]
  },
  {
   "cell_type": "markdown",
   "id": "c0d08686",
   "metadata": {
    "deletable": false,
    "id": "bad65432"
   },
   "source": [
    "Наибольшее влияние на своевременность выплаты кредита оказывают:\n",
    "\n",
    "   * гендер (по shap видно,что женщины значительно чаще своевременно погашают кредит)\n",
    "   * уровень образования (чем выше уровень образования, тем чаще своевременно погашают кредит)\n",
    "   * трудовой стаж (чем больше трудовой стаж, тем чаще своевременно погашают кредит)"
   ]
  },
  {
   "cell_type": "markdown",
   "id": "b7af8867",
   "metadata": {},
   "source": [
    "**Примечание.** Задание категорий в education, в соответствии с иерархией, привело к незначительному увеличению коэффициента корреляции с 0.053 до 0.058, а также существенным увеличением важности признака и изменением snap. Видимо в старом data.csv порядок был правильный (хоть и обратный), но потом добавили 'Ученую степень'))"
   ]
  }
 ],
 "metadata": {
  "ExecuteTimeLog": [
   {
    "duration": 1814,
    "start_time": "2022-08-14T09:41:10.025Z"
   },
   {
    "duration": 101,
    "start_time": "2022-08-14T09:50:08.173Z"
   },
   {
    "duration": 693,
    "start_time": "2022-08-14T09:50:16.856Z"
   },
   {
    "duration": 21,
    "start_time": "2022-08-14T09:50:17.551Z"
   },
   {
    "duration": 13,
    "start_time": "2022-08-14T09:50:17.574Z"
   },
   {
    "duration": 9,
    "start_time": "2022-08-14T09:50:17.589Z"
   },
   {
    "duration": 32,
    "start_time": "2022-08-14T09:50:17.599Z"
   },
   {
    "duration": 6,
    "start_time": "2022-08-14T09:50:17.644Z"
   },
   {
    "duration": 12,
    "start_time": "2022-08-14T09:50:17.652Z"
   },
   {
    "duration": 5,
    "start_time": "2022-08-14T09:50:17.665Z"
   },
   {
    "duration": 10,
    "start_time": "2022-08-14T09:50:17.671Z"
   },
   {
    "duration": 4,
    "start_time": "2022-08-14T09:50:17.683Z"
   },
   {
    "duration": 34,
    "start_time": "2022-08-14T09:50:17.688Z"
   },
   {
    "duration": 16,
    "start_time": "2022-08-14T09:50:17.737Z"
   },
   {
    "duration": 4,
    "start_time": "2022-08-14T09:50:17.754Z"
   },
   {
    "duration": 11,
    "start_time": "2022-08-14T09:50:17.760Z"
   },
   {
    "duration": 16,
    "start_time": "2022-08-14T09:50:17.773Z"
   },
   {
    "duration": 14,
    "start_time": "2022-08-14T09:50:17.791Z"
   },
   {
    "duration": 3,
    "start_time": "2022-08-14T09:50:17.807Z"
   },
   {
    "duration": 40,
    "start_time": "2022-08-14T09:50:17.811Z"
   },
   {
    "duration": 5,
    "start_time": "2022-08-14T09:50:17.853Z"
   },
   {
    "duration": 3,
    "start_time": "2022-08-14T09:50:17.859Z"
   },
   {
    "duration": 10,
    "start_time": "2022-08-14T09:50:17.864Z"
   },
   {
    "duration": 905,
    "start_time": "2022-08-14T09:50:17.875Z"
   },
   {
    "duration": 20,
    "start_time": "2022-08-14T09:50:18.782Z"
   },
   {
    "duration": 2,
    "start_time": "2022-08-14T09:50:18.803Z"
   },
   {
    "duration": 5,
    "start_time": "2022-08-14T09:50:18.807Z"
   },
   {
    "duration": 8,
    "start_time": "2022-08-14T09:50:18.814Z"
   },
   {
    "duration": 9,
    "start_time": "2022-08-14T09:50:18.824Z"
   },
   {
    "duration": 809,
    "start_time": "2022-08-14T10:03:49.516Z"
   },
   {
    "duration": 9,
    "start_time": "2022-08-14T10:06:28.450Z"
   },
   {
    "duration": 464,
    "start_time": "2022-08-14T10:11:58.211Z"
   },
   {
    "duration": 20,
    "start_time": "2022-08-14T10:11:58.677Z"
   },
   {
    "duration": 12,
    "start_time": "2022-08-14T10:11:58.699Z"
   },
   {
    "duration": 25,
    "start_time": "2022-08-14T10:11:58.713Z"
   },
   {
    "duration": 33,
    "start_time": "2022-08-14T10:11:58.739Z"
   },
   {
    "duration": 3,
    "start_time": "2022-08-14T10:11:58.773Z"
   },
   {
    "duration": 27,
    "start_time": "2022-08-14T10:11:58.778Z"
   },
   {
    "duration": 11,
    "start_time": "2022-08-14T10:11:58.806Z"
   },
   {
    "duration": 19,
    "start_time": "2022-08-14T10:11:58.819Z"
   },
   {
    "duration": 13,
    "start_time": "2022-08-14T10:11:58.841Z"
   },
   {
    "duration": 51,
    "start_time": "2022-08-14T10:11:58.856Z"
   },
   {
    "duration": 12,
    "start_time": "2022-08-14T10:11:58.909Z"
   },
   {
    "duration": 22,
    "start_time": "2022-08-14T10:11:58.923Z"
   },
   {
    "duration": 32,
    "start_time": "2022-08-14T10:11:58.947Z"
   },
   {
    "duration": 33,
    "start_time": "2022-08-14T10:11:58.981Z"
   },
   {
    "duration": 26,
    "start_time": "2022-08-14T10:11:59.016Z"
   },
   {
    "duration": 23,
    "start_time": "2022-08-14T10:11:59.044Z"
   },
   {
    "duration": 20,
    "start_time": "2022-08-14T10:11:59.068Z"
   },
   {
    "duration": 33,
    "start_time": "2022-08-14T10:11:59.090Z"
   },
   {
    "duration": 9,
    "start_time": "2022-08-14T10:11:59.125Z"
   },
   {
    "duration": 11,
    "start_time": "2022-08-14T10:11:59.135Z"
   },
   {
    "duration": 974,
    "start_time": "2022-08-14T10:11:59.147Z"
   },
   {
    "duration": 22,
    "start_time": "2022-08-14T10:12:00.122Z"
   },
   {
    "duration": 60,
    "start_time": "2022-08-14T10:12:00.145Z"
   },
   {
    "duration": 1166,
    "start_time": "2022-08-14T10:12:00.207Z"
   },
   {
    "duration": 8,
    "start_time": "2022-08-14T10:12:01.375Z"
   },
   {
    "duration": 34,
    "start_time": "2022-08-14T10:12:01.384Z"
   },
   {
    "duration": 25,
    "start_time": "2022-08-14T10:12:01.421Z"
   },
   {
    "duration": 191991,
    "start_time": "2022-08-14T10:12:01.448Z"
   },
   {
    "duration": 3,
    "start_time": "2022-08-14T10:15:13.440Z"
   },
   {
    "duration": 12,
    "start_time": "2022-08-14T10:15:13.444Z"
   },
   {
    "duration": 6,
    "start_time": "2022-08-14T10:15:13.457Z"
   },
   {
    "duration": 8,
    "start_time": "2022-08-14T10:15:13.465Z"
   },
   {
    "duration": 424,
    "start_time": "2022-08-14T10:20:14.661Z"
   },
   {
    "duration": 21,
    "start_time": "2022-08-14T10:20:15.087Z"
   },
   {
    "duration": 12,
    "start_time": "2022-08-14T10:20:15.110Z"
   },
   {
    "duration": 18,
    "start_time": "2022-08-14T10:20:15.125Z"
   },
   {
    "duration": 30,
    "start_time": "2022-08-14T10:20:15.144Z"
   },
   {
    "duration": 3,
    "start_time": "2022-08-14T10:20:15.175Z"
   },
   {
    "duration": 8,
    "start_time": "2022-08-14T10:20:15.179Z"
   },
   {
    "duration": 7,
    "start_time": "2022-08-14T10:20:15.188Z"
   },
   {
    "duration": 6,
    "start_time": "2022-08-14T10:20:15.196Z"
   },
   {
    "duration": 4,
    "start_time": "2022-08-14T10:20:15.205Z"
   },
   {
    "duration": 55,
    "start_time": "2022-08-14T10:20:15.210Z"
   },
   {
    "duration": 8,
    "start_time": "2022-08-14T10:20:15.267Z"
   },
   {
    "duration": 5,
    "start_time": "2022-08-14T10:20:15.276Z"
   },
   {
    "duration": 13,
    "start_time": "2022-08-14T10:20:15.282Z"
   },
   {
    "duration": 19,
    "start_time": "2022-08-14T10:20:15.296Z"
   },
   {
    "duration": 34,
    "start_time": "2022-08-14T10:20:15.316Z"
   },
   {
    "duration": 3,
    "start_time": "2022-08-14T10:20:15.351Z"
   },
   {
    "duration": 11,
    "start_time": "2022-08-14T10:20:15.355Z"
   },
   {
    "duration": 8,
    "start_time": "2022-08-14T10:20:15.368Z"
   },
   {
    "duration": 4,
    "start_time": "2022-08-14T10:20:15.377Z"
   },
   {
    "duration": 11,
    "start_time": "2022-08-14T10:20:15.382Z"
   },
   {
    "duration": 987,
    "start_time": "2022-08-14T10:20:15.395Z"
   },
   {
    "duration": 25,
    "start_time": "2022-08-14T10:20:16.383Z"
   },
   {
    "duration": 61,
    "start_time": "2022-08-14T10:20:16.410Z"
   },
   {
    "duration": 1056,
    "start_time": "2022-08-14T10:20:16.473Z"
   },
   {
    "duration": 7,
    "start_time": "2022-08-14T10:20:17.530Z"
   },
   {
    "duration": 6,
    "start_time": "2022-08-14T10:20:17.539Z"
   },
   {
    "duration": 5,
    "start_time": "2022-08-14T10:20:17.548Z"
   },
   {
    "duration": 31733,
    "start_time": "2022-08-14T10:20:17.554Z"
   },
   {
    "duration": 2,
    "start_time": "2022-08-14T10:20:49.288Z"
   },
   {
    "duration": 8,
    "start_time": "2022-08-14T10:20:49.292Z"
   },
   {
    "duration": 5,
    "start_time": "2022-08-14T10:20:49.301Z"
   },
   {
    "duration": 8,
    "start_time": "2022-08-14T10:20:49.308Z"
   },
   {
    "duration": 123,
    "start_time": "2022-08-14T10:22:07.487Z"
   },
   {
    "duration": 473,
    "start_time": "2022-08-14T10:22:22.512Z"
   },
   {
    "duration": 27,
    "start_time": "2022-08-14T10:22:22.988Z"
   },
   {
    "duration": 26,
    "start_time": "2022-08-14T10:22:23.016Z"
   },
   {
    "duration": 13,
    "start_time": "2022-08-14T10:22:23.044Z"
   },
   {
    "duration": 45,
    "start_time": "2022-08-14T10:22:23.058Z"
   },
   {
    "duration": 3,
    "start_time": "2022-08-14T10:22:23.105Z"
   },
   {
    "duration": 15,
    "start_time": "2022-08-14T10:22:23.109Z"
   },
   {
    "duration": 4,
    "start_time": "2022-08-14T10:22:23.139Z"
   },
   {
    "duration": 10,
    "start_time": "2022-08-14T10:22:23.144Z"
   },
   {
    "duration": 4,
    "start_time": "2022-08-14T10:22:23.157Z"
   },
   {
    "duration": 34,
    "start_time": "2022-08-14T10:22:23.162Z"
   },
   {
    "duration": 9,
    "start_time": "2022-08-14T10:22:23.197Z"
   },
   {
    "duration": 17,
    "start_time": "2022-08-14T10:22:23.207Z"
   },
   {
    "duration": 23,
    "start_time": "2022-08-14T10:22:23.226Z"
   },
   {
    "duration": 18,
    "start_time": "2022-08-14T10:22:23.251Z"
   },
   {
    "duration": 21,
    "start_time": "2022-08-14T10:22:23.271Z"
   },
   {
    "duration": 4,
    "start_time": "2022-08-14T10:22:23.294Z"
   },
   {
    "duration": 17,
    "start_time": "2022-08-14T10:22:23.299Z"
   },
   {
    "duration": 9,
    "start_time": "2022-08-14T10:22:23.317Z"
   },
   {
    "duration": 5,
    "start_time": "2022-08-14T10:22:23.338Z"
   },
   {
    "duration": 18,
    "start_time": "2022-08-14T10:22:23.344Z"
   },
   {
    "duration": 896,
    "start_time": "2022-08-14T10:22:23.364Z"
   },
   {
    "duration": 23,
    "start_time": "2022-08-14T10:22:24.262Z"
   },
   {
    "duration": 89,
    "start_time": "2022-08-14T10:22:24.286Z"
   },
   {
    "duration": 1084,
    "start_time": "2022-08-14T10:22:24.377Z"
   },
   {
    "duration": 8,
    "start_time": "2022-08-14T10:22:25.462Z"
   },
   {
    "duration": 3,
    "start_time": "2022-08-14T10:22:25.472Z"
   },
   {
    "duration": 6,
    "start_time": "2022-08-14T10:22:25.477Z"
   },
   {
    "duration": 164,
    "start_time": "2022-08-14T10:22:25.484Z"
   },
   {
    "duration": 0,
    "start_time": "2022-08-14T10:22:25.650Z"
   },
   {
    "duration": 0,
    "start_time": "2022-08-14T10:22:25.651Z"
   },
   {
    "duration": 0,
    "start_time": "2022-08-14T10:22:25.652Z"
   },
   {
    "duration": 0,
    "start_time": "2022-08-14T10:22:25.653Z"
   },
   {
    "duration": 446,
    "start_time": "2022-08-14T10:24:34.846Z"
   },
   {
    "duration": 22,
    "start_time": "2022-08-14T10:24:35.293Z"
   },
   {
    "duration": 19,
    "start_time": "2022-08-14T10:24:35.316Z"
   },
   {
    "duration": 10,
    "start_time": "2022-08-14T10:24:35.337Z"
   },
   {
    "duration": 30,
    "start_time": "2022-08-14T10:24:35.348Z"
   },
   {
    "duration": 3,
    "start_time": "2022-08-14T10:24:35.380Z"
   },
   {
    "duration": 16,
    "start_time": "2022-08-14T10:24:35.384Z"
   },
   {
    "duration": 9,
    "start_time": "2022-08-14T10:24:35.402Z"
   },
   {
    "duration": 17,
    "start_time": "2022-08-14T10:24:35.412Z"
   },
   {
    "duration": 10,
    "start_time": "2022-08-14T10:24:35.432Z"
   },
   {
    "duration": 31,
    "start_time": "2022-08-14T10:24:35.443Z"
   },
   {
    "duration": 8,
    "start_time": "2022-08-14T10:24:35.476Z"
   },
   {
    "duration": 10,
    "start_time": "2022-08-14T10:24:35.485Z"
   },
   {
    "duration": 13,
    "start_time": "2022-08-14T10:24:35.496Z"
   },
   {
    "duration": 27,
    "start_time": "2022-08-14T10:24:35.511Z"
   },
   {
    "duration": 15,
    "start_time": "2022-08-14T10:24:35.540Z"
   },
   {
    "duration": 3,
    "start_time": "2022-08-14T10:24:35.556Z"
   },
   {
    "duration": 14,
    "start_time": "2022-08-14T10:24:35.560Z"
   },
   {
    "duration": 5,
    "start_time": "2022-08-14T10:24:35.575Z"
   },
   {
    "duration": 6,
    "start_time": "2022-08-14T10:24:35.581Z"
   },
   {
    "duration": 14,
    "start_time": "2022-08-14T10:24:35.589Z"
   },
   {
    "duration": 959,
    "start_time": "2022-08-14T10:24:35.605Z"
   },
   {
    "duration": 21,
    "start_time": "2022-08-14T10:24:36.565Z"
   },
   {
    "duration": 64,
    "start_time": "2022-08-14T10:24:36.587Z"
   },
   {
    "duration": 1053,
    "start_time": "2022-08-14T10:24:36.652Z"
   },
   {
    "duration": 10,
    "start_time": "2022-08-14T10:24:37.706Z"
   },
   {
    "duration": 12,
    "start_time": "2022-08-14T10:24:37.717Z"
   },
   {
    "duration": 14,
    "start_time": "2022-08-14T10:24:37.731Z"
   },
   {
    "duration": 22902,
    "start_time": "2022-08-14T10:24:37.746Z"
   },
   {
    "duration": 2,
    "start_time": "2022-08-14T10:25:00.650Z"
   },
   {
    "duration": 27,
    "start_time": "2022-08-14T10:25:00.654Z"
   },
   {
    "duration": 15,
    "start_time": "2022-08-14T10:25:00.683Z"
   },
   {
    "duration": 13,
    "start_time": "2022-08-14T10:25:00.700Z"
   },
   {
    "duration": 453,
    "start_time": "2022-08-14T10:25:38.453Z"
   },
   {
    "duration": 27,
    "start_time": "2022-08-14T10:25:38.909Z"
   },
   {
    "duration": 17,
    "start_time": "2022-08-14T10:25:38.938Z"
   },
   {
    "duration": 11,
    "start_time": "2022-08-14T10:25:38.958Z"
   },
   {
    "duration": 42,
    "start_time": "2022-08-14T10:25:38.971Z"
   },
   {
    "duration": 4,
    "start_time": "2022-08-14T10:25:39.015Z"
   },
   {
    "duration": 8,
    "start_time": "2022-08-14T10:25:39.038Z"
   },
   {
    "duration": 10,
    "start_time": "2022-08-14T10:25:39.048Z"
   },
   {
    "duration": 11,
    "start_time": "2022-08-14T10:25:39.060Z"
   },
   {
    "duration": 12,
    "start_time": "2022-08-14T10:25:39.074Z"
   },
   {
    "duration": 50,
    "start_time": "2022-08-14T10:25:39.088Z"
   },
   {
    "duration": 9,
    "start_time": "2022-08-14T10:25:39.139Z"
   },
   {
    "duration": 11,
    "start_time": "2022-08-14T10:25:39.149Z"
   },
   {
    "duration": 27,
    "start_time": "2022-08-14T10:25:39.161Z"
   },
   {
    "duration": 33,
    "start_time": "2022-08-14T10:25:39.189Z"
   },
   {
    "duration": 15,
    "start_time": "2022-08-14T10:25:39.223Z"
   },
   {
    "duration": 3,
    "start_time": "2022-08-14T10:25:39.239Z"
   },
   {
    "duration": 14,
    "start_time": "2022-08-14T10:25:39.243Z"
   },
   {
    "duration": 5,
    "start_time": "2022-08-14T10:25:39.258Z"
   },
   {
    "duration": 3,
    "start_time": "2022-08-14T10:25:39.264Z"
   },
   {
    "duration": 9,
    "start_time": "2022-08-14T10:25:39.269Z"
   },
   {
    "duration": 975,
    "start_time": "2022-08-14T10:25:39.280Z"
   },
   {
    "duration": 23,
    "start_time": "2022-08-14T10:25:40.257Z"
   },
   {
    "duration": 71,
    "start_time": "2022-08-14T10:25:40.282Z"
   },
   {
    "duration": 1066,
    "start_time": "2022-08-14T10:25:40.355Z"
   },
   {
    "duration": 7,
    "start_time": "2022-08-14T10:25:41.422Z"
   },
   {
    "duration": 4,
    "start_time": "2022-08-14T10:25:41.431Z"
   },
   {
    "duration": 4,
    "start_time": "2022-08-14T10:25:41.438Z"
   },
   {
    "duration": 44169,
    "start_time": "2022-08-14T10:25:41.444Z"
   },
   {
    "duration": 23,
    "start_time": "2022-08-14T10:26:25.615Z"
   },
   {
    "duration": 2,
    "start_time": "2022-08-14T10:26:25.640Z"
   },
   {
    "duration": 6,
    "start_time": "2022-08-14T10:26:25.644Z"
   },
   {
    "duration": 6,
    "start_time": "2022-08-14T10:26:25.651Z"
   },
   {
    "duration": 5,
    "start_time": "2022-08-14T10:27:38.329Z"
   },
   {
    "duration": 251,
    "start_time": "2022-08-14T10:27:38.768Z"
   },
   {
    "duration": 97,
    "start_time": "2022-08-14T10:28:16.655Z"
   },
   {
    "duration": 458,
    "start_time": "2022-08-14T10:28:48.932Z"
   },
   {
    "duration": 18,
    "start_time": "2022-08-14T10:28:49.392Z"
   },
   {
    "duration": 15,
    "start_time": "2022-08-14T10:28:49.412Z"
   },
   {
    "duration": 10,
    "start_time": "2022-08-14T10:28:49.429Z"
   },
   {
    "duration": 29,
    "start_time": "2022-08-14T10:28:49.440Z"
   },
   {
    "duration": 3,
    "start_time": "2022-08-14T10:28:49.470Z"
   },
   {
    "duration": 12,
    "start_time": "2022-08-14T10:28:49.474Z"
   },
   {
    "duration": 3,
    "start_time": "2022-08-14T10:28:49.488Z"
   },
   {
    "duration": 7,
    "start_time": "2022-08-14T10:28:49.492Z"
   },
   {
    "duration": 3,
    "start_time": "2022-08-14T10:28:49.503Z"
   },
   {
    "duration": 51,
    "start_time": "2022-08-14T10:28:49.507Z"
   },
   {
    "duration": 9,
    "start_time": "2022-08-14T10:28:49.559Z"
   },
   {
    "duration": 11,
    "start_time": "2022-08-14T10:28:49.569Z"
   },
   {
    "duration": 16,
    "start_time": "2022-08-14T10:28:49.582Z"
   },
   {
    "duration": 21,
    "start_time": "2022-08-14T10:28:49.599Z"
   },
   {
    "duration": 17,
    "start_time": "2022-08-14T10:28:49.621Z"
   },
   {
    "duration": 3,
    "start_time": "2022-08-14T10:28:49.639Z"
   },
   {
    "duration": 13,
    "start_time": "2022-08-14T10:28:49.644Z"
   },
   {
    "duration": 5,
    "start_time": "2022-08-14T10:28:49.658Z"
   },
   {
    "duration": 3,
    "start_time": "2022-08-14T10:28:49.664Z"
   },
   {
    "duration": 14,
    "start_time": "2022-08-14T10:28:49.668Z"
   },
   {
    "duration": 6357,
    "start_time": "2022-08-14T10:28:49.683Z"
   },
   {
    "duration": 0,
    "start_time": "2022-08-14T10:28:56.042Z"
   },
   {
    "duration": 0,
    "start_time": "2022-08-14T10:28:56.043Z"
   },
   {
    "duration": 0,
    "start_time": "2022-08-14T10:28:56.044Z"
   },
   {
    "duration": 0,
    "start_time": "2022-08-14T10:28:56.045Z"
   },
   {
    "duration": 0,
    "start_time": "2022-08-14T10:28:56.046Z"
   },
   {
    "duration": 0,
    "start_time": "2022-08-14T10:28:56.047Z"
   },
   {
    "duration": 0,
    "start_time": "2022-08-14T10:28:56.047Z"
   },
   {
    "duration": 0,
    "start_time": "2022-08-14T10:28:56.048Z"
   },
   {
    "duration": 0,
    "start_time": "2022-08-14T10:28:56.049Z"
   },
   {
    "duration": 0,
    "start_time": "2022-08-14T10:28:56.050Z"
   },
   {
    "duration": 0,
    "start_time": "2022-08-14T10:28:56.051Z"
   },
   {
    "duration": 0,
    "start_time": "2022-08-14T10:28:56.052Z"
   },
   {
    "duration": 0,
    "start_time": "2022-08-14T10:28:56.053Z"
   },
   {
    "duration": 0,
    "start_time": "2022-08-14T10:28:56.054Z"
   },
   {
    "duration": 3857,
    "start_time": "2022-08-14T10:29:21.841Z"
   },
   {
    "duration": 29,
    "start_time": "2022-08-14T10:29:28.831Z"
   },
   {
    "duration": 62,
    "start_time": "2022-08-14T10:29:30.711Z"
   },
   {
    "duration": 1186,
    "start_time": "2022-08-14T10:29:33.223Z"
   },
   {
    "duration": 7,
    "start_time": "2022-08-14T10:29:34.411Z"
   },
   {
    "duration": 6,
    "start_time": "2022-08-14T10:29:34.420Z"
   },
   {
    "duration": 4,
    "start_time": "2022-08-14T10:29:34.428Z"
   },
   {
    "duration": 71373,
    "start_time": "2022-08-14T10:29:34.433Z"
   },
   {
    "duration": 3,
    "start_time": "2022-08-14T10:30:45.808Z"
   },
   {
    "duration": 207,
    "start_time": "2022-08-14T10:30:45.812Z"
   },
   {
    "duration": 18,
    "start_time": "2022-08-14T10:30:46.020Z"
   },
   {
    "duration": 437,
    "start_time": "2022-08-14T10:31:19.846Z"
   },
   {
    "duration": 18,
    "start_time": "2022-08-14T10:31:20.285Z"
   },
   {
    "duration": 13,
    "start_time": "2022-08-14T10:31:20.307Z"
   },
   {
    "duration": 23,
    "start_time": "2022-08-14T10:31:20.321Z"
   },
   {
    "duration": 31,
    "start_time": "2022-08-14T10:31:20.345Z"
   },
   {
    "duration": 3,
    "start_time": "2022-08-14T10:31:20.377Z"
   },
   {
    "duration": 9,
    "start_time": "2022-08-14T10:31:20.381Z"
   },
   {
    "duration": 13,
    "start_time": "2022-08-14T10:31:20.392Z"
   },
   {
    "duration": 6,
    "start_time": "2022-08-14T10:31:20.408Z"
   },
   {
    "duration": 3,
    "start_time": "2022-08-14T10:31:20.415Z"
   },
   {
    "duration": 41,
    "start_time": "2022-08-14T10:31:20.420Z"
   },
   {
    "duration": 10,
    "start_time": "2022-08-14T10:31:20.462Z"
   },
   {
    "duration": 3,
    "start_time": "2022-08-14T10:31:20.474Z"
   },
   {
    "duration": 22,
    "start_time": "2022-08-14T10:31:20.479Z"
   },
   {
    "duration": 17,
    "start_time": "2022-08-14T10:31:20.502Z"
   },
   {
    "duration": 30,
    "start_time": "2022-08-14T10:31:20.520Z"
   },
   {
    "duration": 3,
    "start_time": "2022-08-14T10:31:20.551Z"
   },
   {
    "duration": 17,
    "start_time": "2022-08-14T10:31:20.555Z"
   },
   {
    "duration": 7,
    "start_time": "2022-08-14T10:31:20.573Z"
   },
   {
    "duration": 5,
    "start_time": "2022-08-14T10:31:20.581Z"
   },
   {
    "duration": 10,
    "start_time": "2022-08-14T10:31:20.587Z"
   },
   {
    "duration": 2920,
    "start_time": "2022-08-14T10:31:20.598Z"
   },
   {
    "duration": 0,
    "start_time": "2022-08-14T10:31:23.520Z"
   },
   {
    "duration": 0,
    "start_time": "2022-08-14T10:31:23.521Z"
   },
   {
    "duration": 0,
    "start_time": "2022-08-14T10:31:23.522Z"
   },
   {
    "duration": 0,
    "start_time": "2022-08-14T10:31:23.524Z"
   },
   {
    "duration": 0,
    "start_time": "2022-08-14T10:31:23.524Z"
   },
   {
    "duration": 1,
    "start_time": "2022-08-14T10:31:23.525Z"
   },
   {
    "duration": 0,
    "start_time": "2022-08-14T10:31:23.526Z"
   },
   {
    "duration": 0,
    "start_time": "2022-08-14T10:31:23.527Z"
   },
   {
    "duration": 0,
    "start_time": "2022-08-14T10:31:23.529Z"
   },
   {
    "duration": 0,
    "start_time": "2022-08-14T10:31:23.538Z"
   },
   {
    "duration": 0,
    "start_time": "2022-08-14T10:31:23.540Z"
   },
   {
    "duration": 0,
    "start_time": "2022-08-14T10:31:23.541Z"
   },
   {
    "duration": 0,
    "start_time": "2022-08-14T10:31:23.542Z"
   },
   {
    "duration": 0,
    "start_time": "2022-08-14T10:31:23.543Z"
   },
   {
    "duration": 469,
    "start_time": "2022-08-14T10:33:14.024Z"
   },
   {
    "duration": 21,
    "start_time": "2022-08-14T10:33:14.495Z"
   },
   {
    "duration": 14,
    "start_time": "2022-08-14T10:33:14.517Z"
   },
   {
    "duration": 11,
    "start_time": "2022-08-14T10:33:14.534Z"
   },
   {
    "duration": 31,
    "start_time": "2022-08-14T10:33:14.546Z"
   },
   {
    "duration": 3,
    "start_time": "2022-08-14T10:33:14.579Z"
   },
   {
    "duration": 10,
    "start_time": "2022-08-14T10:33:14.583Z"
   },
   {
    "duration": 3,
    "start_time": "2022-08-14T10:33:14.595Z"
   },
   {
    "duration": 7,
    "start_time": "2022-08-14T10:33:14.600Z"
   },
   {
    "duration": 29,
    "start_time": "2022-08-14T10:33:14.609Z"
   },
   {
    "duration": 30,
    "start_time": "2022-08-14T10:33:14.640Z"
   },
   {
    "duration": 10,
    "start_time": "2022-08-14T10:33:14.671Z"
   },
   {
    "duration": 6,
    "start_time": "2022-08-14T10:33:14.682Z"
   },
   {
    "duration": 12,
    "start_time": "2022-08-14T10:33:14.689Z"
   },
   {
    "duration": 17,
    "start_time": "2022-08-14T10:33:14.702Z"
   },
   {
    "duration": 16,
    "start_time": "2022-08-14T10:33:14.738Z"
   },
   {
    "duration": 4,
    "start_time": "2022-08-14T10:33:14.755Z"
   },
   {
    "duration": 13,
    "start_time": "2022-08-14T10:33:14.765Z"
   },
   {
    "duration": 5,
    "start_time": "2022-08-14T10:33:14.779Z"
   },
   {
    "duration": 6,
    "start_time": "2022-08-14T10:33:14.785Z"
   },
   {
    "duration": 11,
    "start_time": "2022-08-14T10:33:14.792Z"
   },
   {
    "duration": 932,
    "start_time": "2022-08-14T10:33:14.804Z"
   },
   {
    "duration": 21,
    "start_time": "2022-08-14T10:33:15.737Z"
   },
   {
    "duration": 58,
    "start_time": "2022-08-14T10:33:15.760Z"
   },
   {
    "duration": 1093,
    "start_time": "2022-08-14T10:33:15.820Z"
   },
   {
    "duration": 8,
    "start_time": "2022-08-14T10:33:16.914Z"
   },
   {
    "duration": 5,
    "start_time": "2022-08-14T10:33:16.924Z"
   },
   {
    "duration": 4,
    "start_time": "2022-08-14T10:33:16.931Z"
   },
   {
    "duration": 22840,
    "start_time": "2022-08-14T10:33:16.936Z"
   },
   {
    "duration": 3,
    "start_time": "2022-08-14T10:33:39.778Z"
   },
   {
    "duration": 207,
    "start_time": "2022-08-14T10:33:39.782Z"
   },
   {
    "duration": 103,
    "start_time": "2022-08-14T10:33:39.991Z"
   },
   {
    "duration": 0,
    "start_time": "2022-08-14T10:33:40.096Z"
   },
   {
    "duration": 0,
    "start_time": "2022-08-14T10:33:40.098Z"
   },
   {
    "duration": 0,
    "start_time": "2022-08-14T10:33:40.099Z"
   },
   {
    "duration": 0,
    "start_time": "2022-08-14T10:33:40.100Z"
   },
   {
    "duration": 0,
    "start_time": "2022-08-14T10:33:40.102Z"
   },
   {
    "duration": 0,
    "start_time": "2022-08-14T10:33:40.103Z"
   },
   {
    "duration": 411,
    "start_time": "2022-08-14T10:39:27.289Z"
   },
   {
    "duration": 20,
    "start_time": "2022-08-14T10:39:27.702Z"
   },
   {
    "duration": 41,
    "start_time": "2022-08-14T10:39:27.723Z"
   },
   {
    "duration": 44,
    "start_time": "2022-08-14T10:39:27.766Z"
   },
   {
    "duration": 41,
    "start_time": "2022-08-14T10:39:27.811Z"
   },
   {
    "duration": 24,
    "start_time": "2022-08-14T10:39:27.853Z"
   },
   {
    "duration": 25,
    "start_time": "2022-08-14T10:39:27.878Z"
   },
   {
    "duration": 36,
    "start_time": "2022-08-14T10:39:27.904Z"
   },
   {
    "duration": 26,
    "start_time": "2022-08-14T10:39:27.942Z"
   },
   {
    "duration": 30,
    "start_time": "2022-08-14T10:39:27.970Z"
   },
   {
    "duration": 72,
    "start_time": "2022-08-14T10:39:28.002Z"
   },
   {
    "duration": 10,
    "start_time": "2022-08-14T10:39:28.075Z"
   },
   {
    "duration": 16,
    "start_time": "2022-08-14T10:39:28.087Z"
   },
   {
    "duration": 31,
    "start_time": "2022-08-14T10:39:28.104Z"
   },
   {
    "duration": 39,
    "start_time": "2022-08-14T10:39:28.137Z"
   },
   {
    "duration": 30,
    "start_time": "2022-08-14T10:39:28.177Z"
   },
   {
    "duration": 3,
    "start_time": "2022-08-14T10:39:28.209Z"
   },
   {
    "duration": 18,
    "start_time": "2022-08-14T10:39:28.213Z"
   },
   {
    "duration": 17,
    "start_time": "2022-08-14T10:39:28.232Z"
   },
   {
    "duration": 29,
    "start_time": "2022-08-14T10:39:28.250Z"
   },
   {
    "duration": 19,
    "start_time": "2022-08-14T10:39:28.280Z"
   },
   {
    "duration": 1005,
    "start_time": "2022-08-14T10:39:28.300Z"
   },
   {
    "duration": 19,
    "start_time": "2022-08-14T10:39:29.307Z"
   },
   {
    "duration": 65,
    "start_time": "2022-08-14T10:39:29.328Z"
   },
   {
    "duration": 1063,
    "start_time": "2022-08-14T10:39:29.394Z"
   },
   {
    "duration": 8,
    "start_time": "2022-08-14T10:39:30.459Z"
   },
   {
    "duration": 37,
    "start_time": "2022-08-14T10:39:30.468Z"
   },
   {
    "duration": 16,
    "start_time": "2022-08-14T10:39:30.508Z"
   },
   {
    "duration": 142,
    "start_time": "2022-08-14T10:39:30.526Z"
   },
   {
    "duration": 0,
    "start_time": "2022-08-14T10:39:30.670Z"
   },
   {
    "duration": 0,
    "start_time": "2022-08-14T10:39:30.671Z"
   },
   {
    "duration": 0,
    "start_time": "2022-08-14T10:39:30.672Z"
   },
   {
    "duration": 0,
    "start_time": "2022-08-14T10:39:30.673Z"
   },
   {
    "duration": 0,
    "start_time": "2022-08-14T10:39:30.674Z"
   },
   {
    "duration": 0,
    "start_time": "2022-08-14T10:39:30.676Z"
   },
   {
    "duration": 0,
    "start_time": "2022-08-14T10:39:30.677Z"
   },
   {
    "duration": 0,
    "start_time": "2022-08-14T10:39:30.679Z"
   },
   {
    "duration": 503,
    "start_time": "2022-08-14T10:40:23.211Z"
   },
   {
    "duration": 19,
    "start_time": "2022-08-14T10:40:23.716Z"
   },
   {
    "duration": 14,
    "start_time": "2022-08-14T10:40:23.737Z"
   },
   {
    "duration": 10,
    "start_time": "2022-08-14T10:40:23.753Z"
   },
   {
    "duration": 35,
    "start_time": "2022-08-14T10:40:23.764Z"
   },
   {
    "duration": 4,
    "start_time": "2022-08-14T10:40:23.800Z"
   },
   {
    "duration": 10,
    "start_time": "2022-08-14T10:40:23.805Z"
   },
   {
    "duration": 24,
    "start_time": "2022-08-14T10:40:23.816Z"
   },
   {
    "duration": 10,
    "start_time": "2022-08-14T10:40:23.842Z"
   },
   {
    "duration": 4,
    "start_time": "2022-08-14T10:40:23.855Z"
   },
   {
    "duration": 32,
    "start_time": "2022-08-14T10:40:23.860Z"
   },
   {
    "duration": 9,
    "start_time": "2022-08-14T10:40:23.893Z"
   },
   {
    "duration": 4,
    "start_time": "2022-08-14T10:40:23.903Z"
   },
   {
    "duration": 38,
    "start_time": "2022-08-14T10:40:23.908Z"
   },
   {
    "duration": 18,
    "start_time": "2022-08-14T10:40:23.947Z"
   },
   {
    "duration": 15,
    "start_time": "2022-08-14T10:40:23.966Z"
   },
   {
    "duration": 3,
    "start_time": "2022-08-14T10:40:23.982Z"
   },
   {
    "duration": 12,
    "start_time": "2022-08-14T10:40:23.987Z"
   },
   {
    "duration": 6,
    "start_time": "2022-08-14T10:40:24.000Z"
   },
   {
    "duration": 32,
    "start_time": "2022-08-14T10:40:24.008Z"
   },
   {
    "duration": 10,
    "start_time": "2022-08-14T10:40:24.041Z"
   },
   {
    "duration": 957,
    "start_time": "2022-08-14T10:40:24.053Z"
   },
   {
    "duration": 31,
    "start_time": "2022-08-14T10:40:25.012Z"
   },
   {
    "duration": 70,
    "start_time": "2022-08-14T10:40:25.046Z"
   },
   {
    "duration": 1175,
    "start_time": "2022-08-14T10:40:25.118Z"
   },
   {
    "duration": 10,
    "start_time": "2022-08-14T10:40:26.295Z"
   },
   {
    "duration": 3,
    "start_time": "2022-08-14T10:40:26.307Z"
   },
   {
    "duration": 4,
    "start_time": "2022-08-14T10:40:26.313Z"
   },
   {
    "duration": 233833,
    "start_time": "2022-08-14T10:40:26.318Z"
   },
   {
    "duration": 3,
    "start_time": "2022-08-14T10:44:20.153Z"
   },
   {
    "duration": 226,
    "start_time": "2022-08-14T10:44:20.157Z"
   },
   {
    "duration": 2002,
    "start_time": "2022-08-14T10:44:20.384Z"
   },
   {
    "duration": 22922,
    "start_time": "2022-08-14T10:44:22.388Z"
   },
   {
    "duration": 3,
    "start_time": "2022-08-14T10:44:45.312Z"
   },
   {
    "duration": 6,
    "start_time": "2022-08-14T10:44:45.316Z"
   },
   {
    "duration": 5,
    "start_time": "2022-08-14T10:44:45.323Z"
   },
   {
    "duration": 11,
    "start_time": "2022-08-14T10:44:45.330Z"
   },
   {
    "duration": 409,
    "start_time": "2022-08-14T10:45:15.298Z"
   },
   {
    "duration": 20,
    "start_time": "2022-08-14T10:45:15.709Z"
   },
   {
    "duration": 27,
    "start_time": "2022-08-14T10:45:15.730Z"
   },
   {
    "duration": 12,
    "start_time": "2022-08-14T10:45:15.759Z"
   },
   {
    "duration": 37,
    "start_time": "2022-08-14T10:45:15.773Z"
   },
   {
    "duration": 3,
    "start_time": "2022-08-14T10:45:15.811Z"
   },
   {
    "duration": 8,
    "start_time": "2022-08-14T10:45:15.816Z"
   },
   {
    "duration": 24,
    "start_time": "2022-08-14T10:45:15.825Z"
   },
   {
    "duration": 7,
    "start_time": "2022-08-14T10:45:15.850Z"
   },
   {
    "duration": 9,
    "start_time": "2022-08-14T10:45:15.859Z"
   },
   {
    "duration": 31,
    "start_time": "2022-08-14T10:45:15.869Z"
   },
   {
    "duration": 9,
    "start_time": "2022-08-14T10:45:15.901Z"
   },
   {
    "duration": 4,
    "start_time": "2022-08-14T10:45:15.911Z"
   },
   {
    "duration": 12,
    "start_time": "2022-08-14T10:45:15.916Z"
   },
   {
    "duration": 32,
    "start_time": "2022-08-14T10:45:15.929Z"
   },
   {
    "duration": 14,
    "start_time": "2022-08-14T10:45:15.963Z"
   },
   {
    "duration": 3,
    "start_time": "2022-08-14T10:45:15.978Z"
   },
   {
    "duration": 11,
    "start_time": "2022-08-14T10:45:15.982Z"
   },
   {
    "duration": 5,
    "start_time": "2022-08-14T10:45:15.994Z"
   },
   {
    "duration": 4,
    "start_time": "2022-08-14T10:45:16.000Z"
   },
   {
    "duration": 11,
    "start_time": "2022-08-14T10:45:16.005Z"
   },
   {
    "duration": 1005,
    "start_time": "2022-08-14T10:45:16.017Z"
   },
   {
    "duration": 30,
    "start_time": "2022-08-14T10:45:17.023Z"
   },
   {
    "duration": 58,
    "start_time": "2022-08-14T10:45:17.054Z"
   },
   {
    "duration": 8,
    "start_time": "2022-08-14T10:45:17.114Z"
   },
   {
    "duration": 1066,
    "start_time": "2022-08-14T10:45:17.123Z"
   },
   {
    "duration": 4,
    "start_time": "2022-08-14T10:45:18.191Z"
   },
   {
    "duration": 22,
    "start_time": "2022-08-14T10:45:18.199Z"
   },
   {
    "duration": 106596,
    "start_time": "2022-08-14T10:45:18.222Z"
   },
   {
    "duration": 3,
    "start_time": "2022-08-14T10:47:04.820Z"
   },
   {
    "duration": 224,
    "start_time": "2022-08-14T10:47:04.824Z"
   },
   {
    "duration": 1992,
    "start_time": "2022-08-14T10:47:05.051Z"
   },
   {
    "duration": 22351,
    "start_time": "2022-08-14T10:47:07.045Z"
   },
   {
    "duration": 2,
    "start_time": "2022-08-14T10:47:29.398Z"
   },
   {
    "duration": 14,
    "start_time": "2022-08-14T10:47:29.402Z"
   },
   {
    "duration": 4,
    "start_time": "2022-08-14T10:47:29.418Z"
   },
   {
    "duration": 6,
    "start_time": "2022-08-14T10:47:29.424Z"
   },
   {
    "duration": 397,
    "start_time": "2022-08-14T10:50:20.795Z"
   },
   {
    "duration": 20,
    "start_time": "2022-08-14T10:50:21.193Z"
   },
   {
    "duration": 25,
    "start_time": "2022-08-14T10:50:21.214Z"
   },
   {
    "duration": 19,
    "start_time": "2022-08-14T10:50:21.241Z"
   },
   {
    "duration": 35,
    "start_time": "2022-08-14T10:50:21.261Z"
   },
   {
    "duration": 3,
    "start_time": "2022-08-14T10:50:21.297Z"
   },
   {
    "duration": 35,
    "start_time": "2022-08-14T10:50:21.301Z"
   },
   {
    "duration": 6,
    "start_time": "2022-08-14T10:50:21.338Z"
   },
   {
    "duration": 14,
    "start_time": "2022-08-14T10:50:21.345Z"
   },
   {
    "duration": 20,
    "start_time": "2022-08-14T10:50:21.362Z"
   },
   {
    "duration": 36,
    "start_time": "2022-08-14T10:50:21.383Z"
   },
   {
    "duration": 8,
    "start_time": "2022-08-14T10:50:21.421Z"
   },
   {
    "duration": 17,
    "start_time": "2022-08-14T10:50:21.430Z"
   },
   {
    "duration": 19,
    "start_time": "2022-08-14T10:50:21.448Z"
   },
   {
    "duration": 32,
    "start_time": "2022-08-14T10:50:21.468Z"
   },
   {
    "duration": 16,
    "start_time": "2022-08-14T10:50:21.501Z"
   },
   {
    "duration": 3,
    "start_time": "2022-08-14T10:50:21.518Z"
   },
   {
    "duration": 20,
    "start_time": "2022-08-14T10:50:21.523Z"
   },
   {
    "duration": 13,
    "start_time": "2022-08-14T10:50:21.544Z"
   },
   {
    "duration": 10,
    "start_time": "2022-08-14T10:50:21.559Z"
   },
   {
    "duration": 24,
    "start_time": "2022-08-14T10:50:21.571Z"
   },
   {
    "duration": 944,
    "start_time": "2022-08-14T10:50:21.596Z"
   },
   {
    "duration": 22,
    "start_time": "2022-08-14T10:50:22.542Z"
   },
   {
    "duration": 58,
    "start_time": "2022-08-14T10:50:22.566Z"
   },
   {
    "duration": 19,
    "start_time": "2022-08-14T10:50:22.626Z"
   },
   {
    "duration": 950,
    "start_time": "2022-08-14T10:50:22.647Z"
   },
   {
    "duration": 3,
    "start_time": "2022-08-14T10:50:23.598Z"
   },
   {
    "duration": 8,
    "start_time": "2022-08-14T10:50:23.603Z"
   },
   {
    "duration": 457,
    "start_time": "2022-08-14T10:50:53.534Z"
   },
   {
    "duration": 19,
    "start_time": "2022-08-14T10:50:53.993Z"
   },
   {
    "duration": 13,
    "start_time": "2022-08-14T10:50:54.013Z"
   },
   {
    "duration": 16,
    "start_time": "2022-08-14T10:50:54.028Z"
   },
   {
    "duration": 30,
    "start_time": "2022-08-14T10:50:54.045Z"
   },
   {
    "duration": 3,
    "start_time": "2022-08-14T10:50:54.076Z"
   },
   {
    "duration": 8,
    "start_time": "2022-08-14T10:50:54.081Z"
   },
   {
    "duration": 5,
    "start_time": "2022-08-14T10:50:54.090Z"
   },
   {
    "duration": 7,
    "start_time": "2022-08-14T10:50:54.096Z"
   },
   {
    "duration": 34,
    "start_time": "2022-08-14T10:50:54.106Z"
   },
   {
    "duration": 32,
    "start_time": "2022-08-14T10:50:54.142Z"
   },
   {
    "duration": 10,
    "start_time": "2022-08-14T10:50:54.175Z"
   },
   {
    "duration": 6,
    "start_time": "2022-08-14T10:50:54.186Z"
   },
   {
    "duration": 11,
    "start_time": "2022-08-14T10:50:54.194Z"
   },
   {
    "duration": 41,
    "start_time": "2022-08-14T10:50:54.206Z"
   },
   {
    "duration": 17,
    "start_time": "2022-08-14T10:50:54.248Z"
   },
   {
    "duration": 4,
    "start_time": "2022-08-14T10:50:54.267Z"
   },
   {
    "duration": 17,
    "start_time": "2022-08-14T10:50:54.273Z"
   },
   {
    "duration": 11,
    "start_time": "2022-08-14T10:50:54.292Z"
   },
   {
    "duration": 8,
    "start_time": "2022-08-14T10:50:54.304Z"
   },
   {
    "duration": 19,
    "start_time": "2022-08-14T10:50:54.313Z"
   },
   {
    "duration": 915,
    "start_time": "2022-08-14T10:50:54.339Z"
   },
   {
    "duration": 21,
    "start_time": "2022-08-14T10:50:55.256Z"
   },
   {
    "duration": 70,
    "start_time": "2022-08-14T10:50:55.278Z"
   },
   {
    "duration": 9,
    "start_time": "2022-08-14T10:50:55.349Z"
   },
   {
    "duration": 986,
    "start_time": "2022-08-14T10:50:55.359Z"
   },
   {
    "duration": 3,
    "start_time": "2022-08-14T10:50:56.346Z"
   },
   {
    "duration": 4,
    "start_time": "2022-08-14T10:50:56.352Z"
   },
   {
    "duration": 36422,
    "start_time": "2022-08-14T10:50:56.357Z"
   },
   {
    "duration": 3,
    "start_time": "2022-08-14T10:51:32.780Z"
   },
   {
    "duration": 213,
    "start_time": "2022-08-14T10:51:32.784Z"
   },
   {
    "duration": 2006,
    "start_time": "2022-08-14T10:51:32.998Z"
   },
   {
    "duration": 22450,
    "start_time": "2022-08-14T10:51:35.006Z"
   },
   {
    "duration": 3,
    "start_time": "2022-08-14T10:51:57.457Z"
   },
   {
    "duration": 11,
    "start_time": "2022-08-14T10:51:57.461Z"
   },
   {
    "duration": 5,
    "start_time": "2022-08-14T10:51:57.474Z"
   },
   {
    "duration": 5,
    "start_time": "2022-08-14T10:51:57.481Z"
   },
   {
    "duration": 48,
    "start_time": "2022-08-14T10:59:04.426Z"
   },
   {
    "duration": 47,
    "start_time": "2022-08-14T11:02:20.858Z"
   },
   {
    "duration": 55,
    "start_time": "2022-08-14T11:02:25.481Z"
   },
   {
    "duration": 50,
    "start_time": "2022-08-14T11:02:31.265Z"
   },
   {
    "duration": 98,
    "start_time": "2022-08-14T11:02:44.152Z"
   },
   {
    "duration": 185,
    "start_time": "2022-08-14T11:11:01.010Z"
   },
   {
    "duration": 61,
    "start_time": "2022-08-14T11:11:56.808Z"
   },
   {
    "duration": 3,
    "start_time": "2022-08-14T11:12:03.089Z"
   },
   {
    "duration": 3,
    "start_time": "2022-08-14T11:12:22.416Z"
   },
   {
    "duration": 4,
    "start_time": "2022-08-14T11:12:29.320Z"
   },
   {
    "duration": 4,
    "start_time": "2022-08-14T11:12:34.616Z"
   },
   {
    "duration": 173,
    "start_time": "2022-08-14T11:13:41.520Z"
   },
   {
    "duration": 5,
    "start_time": "2022-08-14T11:13:51.479Z"
   },
   {
    "duration": 3,
    "start_time": "2022-08-14T11:14:29.631Z"
   },
   {
    "duration": 176,
    "start_time": "2022-08-14T11:40:51.349Z"
   },
   {
    "duration": 3,
    "start_time": "2022-08-14T11:42:21.205Z"
   },
   {
    "duration": 18,
    "start_time": "2022-08-14T12:00:42.026Z"
   },
   {
    "duration": 10,
    "start_time": "2022-08-14T12:01:41.098Z"
   },
   {
    "duration": 3,
    "start_time": "2022-08-14T12:01:41.627Z"
   },
   {
    "duration": 9,
    "start_time": "2022-08-14T12:01:58.290Z"
   },
   {
    "duration": 3,
    "start_time": "2022-08-14T12:01:58.634Z"
   },
   {
    "duration": 11,
    "start_time": "2022-08-14T12:02:10.946Z"
   },
   {
    "duration": 13,
    "start_time": "2022-08-14T12:25:07.688Z"
   },
   {
    "duration": 1216,
    "start_time": "2022-08-14T13:28:42.049Z"
   },
   {
    "duration": 436,
    "start_time": "2022-08-14T13:28:49.151Z"
   },
   {
    "duration": 21,
    "start_time": "2022-08-14T13:28:49.589Z"
   },
   {
    "duration": 37,
    "start_time": "2022-08-14T13:28:49.613Z"
   },
   {
    "duration": 12,
    "start_time": "2022-08-14T13:28:49.652Z"
   },
   {
    "duration": 38,
    "start_time": "2022-08-14T13:28:49.666Z"
   },
   {
    "duration": 4,
    "start_time": "2022-08-14T13:28:49.706Z"
   },
   {
    "duration": 15,
    "start_time": "2022-08-14T13:28:49.712Z"
   },
   {
    "duration": 4,
    "start_time": "2022-08-14T13:28:49.728Z"
   },
   {
    "duration": 16,
    "start_time": "2022-08-14T13:28:49.734Z"
   },
   {
    "duration": 11,
    "start_time": "2022-08-14T13:28:49.751Z"
   },
   {
    "duration": 35,
    "start_time": "2022-08-14T13:28:49.764Z"
   },
   {
    "duration": 10,
    "start_time": "2022-08-14T13:28:49.801Z"
   },
   {
    "duration": 4,
    "start_time": "2022-08-14T13:28:49.813Z"
   },
   {
    "duration": 28,
    "start_time": "2022-08-14T13:28:49.818Z"
   },
   {
    "duration": 20,
    "start_time": "2022-08-14T13:28:49.848Z"
   },
   {
    "duration": 15,
    "start_time": "2022-08-14T13:28:49.869Z"
   },
   {
    "duration": 4,
    "start_time": "2022-08-14T13:28:49.885Z"
   },
   {
    "duration": 10,
    "start_time": "2022-08-14T13:28:49.891Z"
   },
   {
    "duration": 6,
    "start_time": "2022-08-14T13:28:49.903Z"
   },
   {
    "duration": 3,
    "start_time": "2022-08-14T13:28:49.910Z"
   },
   {
    "duration": 37,
    "start_time": "2022-08-14T13:28:49.915Z"
   },
   {
    "duration": 964,
    "start_time": "2022-08-14T13:28:49.953Z"
   },
   {
    "duration": 632,
    "start_time": "2022-08-14T13:28:50.918Z"
   },
   {
    "duration": 21,
    "start_time": "2022-08-14T13:28:51.552Z"
   },
   {
    "duration": 64,
    "start_time": "2022-08-14T13:28:51.574Z"
   },
   {
    "duration": 16,
    "start_time": "2022-08-14T13:28:51.640Z"
   },
   {
    "duration": 995,
    "start_time": "2022-08-14T13:28:51.658Z"
   },
   {
    "duration": 3,
    "start_time": "2022-08-14T13:28:52.655Z"
   },
   {
    "duration": 11,
    "start_time": "2022-08-14T13:28:52.659Z"
   },
   {
    "duration": 247957,
    "start_time": "2022-08-14T13:28:52.671Z"
   },
   {
    "duration": 4,
    "start_time": "2022-08-14T13:33:00.629Z"
   },
   {
    "duration": 238,
    "start_time": "2022-08-14T13:33:00.639Z"
   },
   {
    "duration": 2078,
    "start_time": "2022-08-14T13:33:00.879Z"
   },
   {
    "duration": 23866,
    "start_time": "2022-08-14T13:33:02.959Z"
   },
   {
    "duration": 17,
    "start_time": "2022-08-14T13:33:26.826Z"
   },
   {
    "duration": 4,
    "start_time": "2022-08-14T13:33:26.844Z"
   },
   {
    "duration": 34,
    "start_time": "2022-08-14T13:33:26.849Z"
   },
   {
    "duration": 13,
    "start_time": "2022-08-14T13:33:26.885Z"
   },
   {
    "duration": 1080,
    "start_time": "2022-08-14T13:33:26.900Z"
   },
   {
    "duration": 0,
    "start_time": "2022-08-14T13:33:27.982Z"
   },
   {
    "duration": 10,
    "start_time": "2022-08-14T13:34:40.737Z"
   },
   {
    "duration": 11,
    "start_time": "2022-08-14T13:34:48.561Z"
   },
   {
    "duration": 447,
    "start_time": "2022-08-14T14:03:38.789Z"
   },
   {
    "duration": 26,
    "start_time": "2022-08-14T14:03:39.238Z"
   },
   {
    "duration": 16,
    "start_time": "2022-08-14T14:03:39.266Z"
   },
   {
    "duration": 8,
    "start_time": "2022-08-14T14:03:39.283Z"
   },
   {
    "duration": 55,
    "start_time": "2022-08-14T14:03:39.293Z"
   },
   {
    "duration": 3,
    "start_time": "2022-08-14T14:03:39.350Z"
   },
   {
    "duration": 18,
    "start_time": "2022-08-14T14:03:39.355Z"
   },
   {
    "duration": 9,
    "start_time": "2022-08-14T14:03:39.374Z"
   },
   {
    "duration": 16,
    "start_time": "2022-08-14T14:03:39.384Z"
   },
   {
    "duration": 15,
    "start_time": "2022-08-14T14:03:39.404Z"
   },
   {
    "duration": 43,
    "start_time": "2022-08-14T14:03:39.420Z"
   },
   {
    "duration": 9,
    "start_time": "2022-08-14T14:03:39.464Z"
   },
   {
    "duration": 3,
    "start_time": "2022-08-14T14:03:39.474Z"
   },
   {
    "duration": 12,
    "start_time": "2022-08-14T14:03:39.478Z"
   },
   {
    "duration": 30,
    "start_time": "2022-08-14T14:03:39.491Z"
   },
   {
    "duration": 32,
    "start_time": "2022-08-14T14:03:39.522Z"
   },
   {
    "duration": 4,
    "start_time": "2022-08-14T14:03:39.555Z"
   },
   {
    "duration": 13,
    "start_time": "2022-08-14T14:03:39.560Z"
   },
   {
    "duration": 9,
    "start_time": "2022-08-14T14:03:39.574Z"
   },
   {
    "duration": 9,
    "start_time": "2022-08-14T14:03:39.584Z"
   },
   {
    "duration": 19,
    "start_time": "2022-08-14T14:03:39.595Z"
   },
   {
    "duration": 995,
    "start_time": "2022-08-14T14:03:39.615Z"
   },
   {
    "duration": 615,
    "start_time": "2022-08-14T14:03:40.612Z"
   },
   {
    "duration": 24,
    "start_time": "2022-08-14T14:03:41.229Z"
   },
   {
    "duration": 62,
    "start_time": "2022-08-14T14:03:41.255Z"
   },
   {
    "duration": 8,
    "start_time": "2022-08-14T14:03:41.318Z"
   },
   {
    "duration": 1006,
    "start_time": "2022-08-14T14:03:41.327Z"
   },
   {
    "duration": 5,
    "start_time": "2022-08-14T14:03:42.336Z"
   },
   {
    "duration": 20,
    "start_time": "2022-08-14T14:03:42.342Z"
   },
   {
    "duration": 166646,
    "start_time": "2022-08-14T14:03:42.363Z"
   },
   {
    "duration": 5,
    "start_time": "2022-08-14T14:06:29.011Z"
   },
   {
    "duration": 281,
    "start_time": "2022-08-14T14:06:29.017Z"
   },
   {
    "duration": 2435,
    "start_time": "2022-08-14T14:06:29.301Z"
   },
   {
    "duration": 24577,
    "start_time": "2022-08-14T14:06:31.739Z"
   },
   {
    "duration": 22,
    "start_time": "2022-08-14T14:06:56.318Z"
   },
   {
    "duration": 4,
    "start_time": "2022-08-14T14:06:56.343Z"
   },
   {
    "duration": 30,
    "start_time": "2022-08-14T14:06:56.349Z"
   },
   {
    "duration": 4,
    "start_time": "2022-08-14T14:06:56.382Z"
   },
   {
    "duration": 28,
    "start_time": "2022-08-14T14:06:56.388Z"
   },
   {
    "duration": 20,
    "start_time": "2022-08-14T14:06:56.418Z"
   },
   {
    "duration": 1041,
    "start_time": "2022-08-14T14:08:25.066Z"
   },
   {
    "duration": 473,
    "start_time": "2022-08-14T14:10:48.362Z"
   },
   {
    "duration": 19,
    "start_time": "2022-08-14T14:10:48.837Z"
   },
   {
    "duration": 16,
    "start_time": "2022-08-14T14:10:48.858Z"
   },
   {
    "duration": 19,
    "start_time": "2022-08-14T14:10:48.876Z"
   },
   {
    "duration": 66,
    "start_time": "2022-08-14T14:10:48.897Z"
   },
   {
    "duration": 4,
    "start_time": "2022-08-14T14:10:48.965Z"
   },
   {
    "duration": 20,
    "start_time": "2022-08-14T14:10:48.971Z"
   },
   {
    "duration": 12,
    "start_time": "2022-08-14T14:10:48.993Z"
   },
   {
    "duration": 18,
    "start_time": "2022-08-14T14:10:49.007Z"
   },
   {
    "duration": 13,
    "start_time": "2022-08-14T14:10:49.030Z"
   },
   {
    "duration": 51,
    "start_time": "2022-08-14T14:10:49.045Z"
   },
   {
    "duration": 15,
    "start_time": "2022-08-14T14:10:49.098Z"
   },
   {
    "duration": 8,
    "start_time": "2022-08-14T14:10:49.115Z"
   },
   {
    "duration": 36,
    "start_time": "2022-08-14T14:10:49.124Z"
   },
   {
    "duration": 41,
    "start_time": "2022-08-14T14:10:49.162Z"
   },
   {
    "duration": 17,
    "start_time": "2022-08-14T14:10:49.204Z"
   },
   {
    "duration": 4,
    "start_time": "2022-08-14T14:10:49.222Z"
   },
   {
    "duration": 13,
    "start_time": "2022-08-14T14:10:49.227Z"
   },
   {
    "duration": 8,
    "start_time": "2022-08-14T14:10:49.242Z"
   },
   {
    "duration": 5,
    "start_time": "2022-08-14T14:10:49.252Z"
   },
   {
    "duration": 16,
    "start_time": "2022-08-14T14:10:49.259Z"
   },
   {
    "duration": 1011,
    "start_time": "2022-08-14T14:10:49.277Z"
   },
   {
    "duration": 8,
    "start_time": "2022-08-14T14:10:50.290Z"
   },
   {
    "duration": 636,
    "start_time": "2022-08-14T14:10:50.299Z"
   },
   {
    "duration": 23,
    "start_time": "2022-08-14T14:10:50.936Z"
   },
   {
    "duration": 81,
    "start_time": "2022-08-14T14:10:50.960Z"
   },
   {
    "duration": 8,
    "start_time": "2022-08-14T14:10:51.043Z"
   },
   {
    "duration": 991,
    "start_time": "2022-08-14T14:10:51.054Z"
   },
   {
    "duration": 3,
    "start_time": "2022-08-14T14:10:52.047Z"
   },
   {
    "duration": 6,
    "start_time": "2022-08-14T14:10:52.051Z"
   },
   {
    "duration": 237722,
    "start_time": "2022-08-14T14:10:52.059Z"
   },
   {
    "duration": 4,
    "start_time": "2022-08-14T14:14:49.782Z"
   },
   {
    "duration": 229,
    "start_time": "2022-08-14T14:14:49.787Z"
   },
   {
    "duration": 2086,
    "start_time": "2022-08-14T14:14:50.018Z"
   },
   {
    "duration": 23782,
    "start_time": "2022-08-14T14:14:52.106Z"
   },
   {
    "duration": 10,
    "start_time": "2022-08-14T14:15:15.890Z"
   },
   {
    "duration": 3,
    "start_time": "2022-08-14T14:15:15.902Z"
   },
   {
    "duration": 12,
    "start_time": "2022-08-14T14:15:15.906Z"
   },
   {
    "duration": 34,
    "start_time": "2022-08-14T14:15:15.920Z"
   },
   {
    "duration": 13,
    "start_time": "2022-08-14T14:15:15.955Z"
   },
   {
    "duration": 10,
    "start_time": "2022-08-14T14:15:15.970Z"
   },
   {
    "duration": 474,
    "start_time": "2022-08-14T14:16:34.137Z"
   },
   {
    "duration": 19,
    "start_time": "2022-08-14T14:16:34.613Z"
   },
   {
    "duration": 24,
    "start_time": "2022-08-14T14:16:34.636Z"
   },
   {
    "duration": 10,
    "start_time": "2022-08-14T14:16:34.661Z"
   },
   {
    "duration": 36,
    "start_time": "2022-08-14T14:16:34.673Z"
   },
   {
    "duration": 4,
    "start_time": "2022-08-14T14:16:34.710Z"
   },
   {
    "duration": 11,
    "start_time": "2022-08-14T14:16:34.715Z"
   },
   {
    "duration": 25,
    "start_time": "2022-08-14T14:16:34.727Z"
   },
   {
    "duration": 9,
    "start_time": "2022-08-14T14:16:34.756Z"
   },
   {
    "duration": 5,
    "start_time": "2022-08-14T14:16:34.766Z"
   },
   {
    "duration": 32,
    "start_time": "2022-08-14T14:16:34.772Z"
   },
   {
    "duration": 10,
    "start_time": "2022-08-14T14:16:34.805Z"
   },
   {
    "duration": 4,
    "start_time": "2022-08-14T14:16:34.817Z"
   },
   {
    "duration": 31,
    "start_time": "2022-08-14T14:16:34.822Z"
   },
   {
    "duration": 30,
    "start_time": "2022-08-14T14:16:34.854Z"
   },
   {
    "duration": 16,
    "start_time": "2022-08-14T14:16:34.886Z"
   },
   {
    "duration": 4,
    "start_time": "2022-08-14T14:16:34.903Z"
   },
   {
    "duration": 13,
    "start_time": "2022-08-14T14:16:34.908Z"
   },
   {
    "duration": 16,
    "start_time": "2022-08-14T14:16:34.923Z"
   },
   {
    "duration": 4,
    "start_time": "2022-08-14T14:16:34.950Z"
   },
   {
    "duration": 11,
    "start_time": "2022-08-14T14:16:34.956Z"
   },
   {
    "duration": 979,
    "start_time": "2022-08-14T14:16:34.968Z"
   },
   {
    "duration": 10,
    "start_time": "2022-08-14T14:16:35.949Z"
   },
   {
    "duration": 624,
    "start_time": "2022-08-14T14:16:35.960Z"
   },
   {
    "duration": 22,
    "start_time": "2022-08-14T14:16:36.586Z"
   },
   {
    "duration": 79,
    "start_time": "2022-08-14T14:16:36.609Z"
   },
   {
    "duration": 7,
    "start_time": "2022-08-14T14:16:36.692Z"
   },
   {
    "duration": 1052,
    "start_time": "2022-08-14T14:16:36.701Z"
   },
   {
    "duration": 3,
    "start_time": "2022-08-14T14:16:37.755Z"
   },
   {
    "duration": 6,
    "start_time": "2022-08-14T14:16:37.760Z"
   },
   {
    "duration": 440,
    "start_time": "2022-08-14T14:18:28.184Z"
   },
   {
    "duration": 28,
    "start_time": "2022-08-14T14:18:28.626Z"
   },
   {
    "duration": 29,
    "start_time": "2022-08-14T14:18:28.656Z"
   },
   {
    "duration": 9,
    "start_time": "2022-08-14T14:18:28.687Z"
   },
   {
    "duration": 46,
    "start_time": "2022-08-14T14:18:28.697Z"
   },
   {
    "duration": 6,
    "start_time": "2022-08-14T14:18:28.745Z"
   },
   {
    "duration": 14,
    "start_time": "2022-08-14T14:18:28.753Z"
   },
   {
    "duration": 8,
    "start_time": "2022-08-14T14:18:28.768Z"
   },
   {
    "duration": 23,
    "start_time": "2022-08-14T14:18:28.778Z"
   },
   {
    "duration": 11,
    "start_time": "2022-08-14T14:18:28.803Z"
   },
   {
    "duration": 59,
    "start_time": "2022-08-14T14:18:28.815Z"
   },
   {
    "duration": 12,
    "start_time": "2022-08-14T14:18:28.876Z"
   },
   {
    "duration": 14,
    "start_time": "2022-08-14T14:18:28.889Z"
   },
   {
    "duration": 27,
    "start_time": "2022-08-14T14:18:28.905Z"
   },
   {
    "duration": 47,
    "start_time": "2022-08-14T14:18:28.934Z"
   },
   {
    "duration": 20,
    "start_time": "2022-08-14T14:18:28.984Z"
   },
   {
    "duration": 5,
    "start_time": "2022-08-14T14:18:29.006Z"
   },
   {
    "duration": 35,
    "start_time": "2022-08-14T14:18:29.012Z"
   },
   {
    "duration": 26,
    "start_time": "2022-08-14T14:18:29.051Z"
   },
   {
    "duration": 19,
    "start_time": "2022-08-14T14:18:29.079Z"
   },
   {
    "duration": 21,
    "start_time": "2022-08-14T14:18:29.100Z"
   },
   {
    "duration": 1067,
    "start_time": "2022-08-14T14:18:29.123Z"
   },
   {
    "duration": 11,
    "start_time": "2022-08-14T14:18:30.192Z"
   },
   {
    "duration": 677,
    "start_time": "2022-08-14T14:18:30.204Z"
   },
   {
    "duration": 19,
    "start_time": "2022-08-14T14:18:30.882Z"
   },
   {
    "duration": 32,
    "start_time": "2022-08-14T14:18:30.903Z"
   },
   {
    "duration": 75,
    "start_time": "2022-08-14T14:18:30.939Z"
   },
   {
    "duration": 8,
    "start_time": "2022-08-14T14:18:31.017Z"
   },
   {
    "duration": 1051,
    "start_time": "2022-08-14T14:18:31.026Z"
   },
   {
    "duration": 3,
    "start_time": "2022-08-14T14:18:32.079Z"
   },
   {
    "duration": 6,
    "start_time": "2022-08-14T14:18:32.084Z"
   },
   {
    "duration": 239006,
    "start_time": "2022-08-14T14:18:32.092Z"
   },
   {
    "duration": 3,
    "start_time": "2022-08-14T14:22:31.100Z"
   },
   {
    "duration": 215,
    "start_time": "2022-08-14T14:22:31.104Z"
   },
   {
    "duration": 2025,
    "start_time": "2022-08-14T14:22:31.321Z"
   },
   {
    "duration": 23817,
    "start_time": "2022-08-14T14:22:33.349Z"
   },
   {
    "duration": 10,
    "start_time": "2022-08-14T14:22:57.168Z"
   },
   {
    "duration": 3,
    "start_time": "2022-08-14T14:22:57.179Z"
   },
   {
    "duration": 11,
    "start_time": "2022-08-14T14:22:57.184Z"
   },
   {
    "duration": 2,
    "start_time": "2022-08-14T14:22:57.197Z"
   },
   {
    "duration": 12,
    "start_time": "2022-08-14T14:22:57.201Z"
   },
   {
    "duration": 17,
    "start_time": "2022-08-14T14:22:57.238Z"
   },
   {
    "duration": 418,
    "start_time": "2022-08-14T14:47:41.577Z"
   },
   {
    "duration": 20,
    "start_time": "2022-08-14T14:47:41.997Z"
   },
   {
    "duration": 13,
    "start_time": "2022-08-14T14:47:42.020Z"
   },
   {
    "duration": 15,
    "start_time": "2022-08-14T14:47:42.035Z"
   },
   {
    "duration": 34,
    "start_time": "2022-08-14T14:47:42.055Z"
   },
   {
    "duration": 3,
    "start_time": "2022-08-14T14:47:42.090Z"
   },
   {
    "duration": 9,
    "start_time": "2022-08-14T14:47:42.094Z"
   },
   {
    "duration": 3,
    "start_time": "2022-08-14T14:47:42.105Z"
   },
   {
    "duration": 7,
    "start_time": "2022-08-14T14:47:42.111Z"
   },
   {
    "duration": 22,
    "start_time": "2022-08-14T14:47:42.120Z"
   },
   {
    "duration": 46,
    "start_time": "2022-08-14T14:47:42.143Z"
   },
   {
    "duration": 9,
    "start_time": "2022-08-14T14:47:42.191Z"
   },
   {
    "duration": 9,
    "start_time": "2022-08-14T14:47:42.201Z"
   },
   {
    "duration": 16,
    "start_time": "2022-08-14T14:47:42.212Z"
   },
   {
    "duration": 30,
    "start_time": "2022-08-14T14:47:42.229Z"
   },
   {
    "duration": 16,
    "start_time": "2022-08-14T14:47:42.261Z"
   },
   {
    "duration": 4,
    "start_time": "2022-08-14T14:47:42.278Z"
   },
   {
    "duration": 14,
    "start_time": "2022-08-14T14:47:42.283Z"
   },
   {
    "duration": 21,
    "start_time": "2022-08-14T14:47:42.299Z"
   },
   {
    "duration": 4,
    "start_time": "2022-08-14T14:47:42.322Z"
   },
   {
    "duration": 33,
    "start_time": "2022-08-14T14:47:42.328Z"
   },
   {
    "duration": 1092,
    "start_time": "2022-08-14T14:47:42.363Z"
   },
   {
    "duration": 8,
    "start_time": "2022-08-14T14:47:43.457Z"
   },
   {
    "duration": 618,
    "start_time": "2022-08-14T14:47:43.466Z"
   },
   {
    "duration": 23,
    "start_time": "2022-08-14T14:47:44.086Z"
   },
   {
    "duration": 83,
    "start_time": "2022-08-14T14:47:44.110Z"
   },
   {
    "duration": 8,
    "start_time": "2022-08-14T14:47:44.196Z"
   },
   {
    "duration": 1064,
    "start_time": "2022-08-14T14:47:44.205Z"
   },
   {
    "duration": 2,
    "start_time": "2022-08-14T14:47:45.271Z"
   },
   {
    "duration": 8,
    "start_time": "2022-08-14T14:47:45.275Z"
   },
   {
    "duration": 455,
    "start_time": "2022-08-14T14:51:49.873Z"
   },
   {
    "duration": 25,
    "start_time": "2022-08-14T14:51:50.330Z"
   },
   {
    "duration": 42,
    "start_time": "2022-08-14T14:51:50.356Z"
   },
   {
    "duration": 17,
    "start_time": "2022-08-14T14:51:50.400Z"
   },
   {
    "duration": 58,
    "start_time": "2022-08-14T14:51:50.418Z"
   },
   {
    "duration": 4,
    "start_time": "2022-08-14T14:51:50.480Z"
   },
   {
    "duration": 12,
    "start_time": "2022-08-14T14:51:50.486Z"
   },
   {
    "duration": 17,
    "start_time": "2022-08-14T14:51:50.500Z"
   },
   {
    "duration": 12,
    "start_time": "2022-08-14T14:51:50.518Z"
   },
   {
    "duration": 43,
    "start_time": "2022-08-14T14:51:50.533Z"
   },
   {
    "duration": 47,
    "start_time": "2022-08-14T14:51:50.578Z"
   },
   {
    "duration": 9,
    "start_time": "2022-08-14T14:51:50.627Z"
   },
   {
    "duration": 40,
    "start_time": "2022-08-14T14:51:50.638Z"
   },
   {
    "duration": 15,
    "start_time": "2022-08-14T14:51:50.680Z"
   },
   {
    "duration": 22,
    "start_time": "2022-08-14T14:51:50.696Z"
   },
   {
    "duration": 15,
    "start_time": "2022-08-14T14:51:50.720Z"
   },
   {
    "duration": 9,
    "start_time": "2022-08-14T14:51:50.736Z"
   },
   {
    "duration": 42,
    "start_time": "2022-08-14T14:51:50.748Z"
   },
   {
    "duration": 15,
    "start_time": "2022-08-14T14:51:50.791Z"
   },
   {
    "duration": 8,
    "start_time": "2022-08-14T14:51:50.807Z"
   },
   {
    "duration": 12,
    "start_time": "2022-08-14T14:51:50.817Z"
   },
   {
    "duration": 1021,
    "start_time": "2022-08-14T14:51:50.830Z"
   },
   {
    "duration": 13,
    "start_time": "2022-08-14T14:51:51.854Z"
   },
   {
    "duration": 615,
    "start_time": "2022-08-14T14:51:51.870Z"
   },
   {
    "duration": 21,
    "start_time": "2022-08-14T14:51:52.487Z"
   },
   {
    "duration": 87,
    "start_time": "2022-08-14T14:51:52.509Z"
   },
   {
    "duration": 8,
    "start_time": "2022-08-14T14:51:52.597Z"
   },
   {
    "duration": 1078,
    "start_time": "2022-08-14T14:51:52.607Z"
   },
   {
    "duration": 4,
    "start_time": "2022-08-14T14:51:53.687Z"
   },
   {
    "duration": 7,
    "start_time": "2022-08-14T14:51:53.692Z"
   },
   {
    "duration": 260332,
    "start_time": "2022-08-14T14:51:53.701Z"
   },
   {
    "duration": 4,
    "start_time": "2022-08-14T14:56:14.035Z"
   },
   {
    "duration": 297,
    "start_time": "2022-08-14T14:56:14.042Z"
   },
   {
    "duration": 2272,
    "start_time": "2022-08-14T14:56:14.342Z"
   },
   {
    "duration": 23879,
    "start_time": "2022-08-14T14:56:16.617Z"
   },
   {
    "duration": 12,
    "start_time": "2022-08-14T14:56:40.500Z"
   },
   {
    "duration": 6,
    "start_time": "2022-08-14T14:56:40.514Z"
   },
   {
    "duration": 17,
    "start_time": "2022-08-14T14:56:40.521Z"
   },
   {
    "duration": 9,
    "start_time": "2022-08-14T14:56:40.540Z"
   },
   {
    "duration": 38,
    "start_time": "2022-08-14T14:56:40.553Z"
   },
   {
    "duration": 11,
    "start_time": "2022-08-14T14:56:40.593Z"
   },
   {
    "duration": 460,
    "start_time": "2022-08-15T17:38:37.098Z"
   },
   {
    "duration": 22,
    "start_time": "2022-08-15T17:38:37.560Z"
   },
   {
    "duration": 16,
    "start_time": "2022-08-15T17:38:37.583Z"
   },
   {
    "duration": 9,
    "start_time": "2022-08-15T17:38:37.601Z"
   },
   {
    "duration": 56,
    "start_time": "2022-08-15T17:38:37.612Z"
   },
   {
    "duration": 4,
    "start_time": "2022-08-15T17:38:37.669Z"
   },
   {
    "duration": 12,
    "start_time": "2022-08-15T17:38:37.675Z"
   },
   {
    "duration": 4,
    "start_time": "2022-08-15T17:38:37.689Z"
   },
   {
    "duration": 10,
    "start_time": "2022-08-15T17:38:37.695Z"
   },
   {
    "duration": 5,
    "start_time": "2022-08-15T17:38:37.708Z"
   },
   {
    "duration": 66,
    "start_time": "2022-08-15T17:38:37.714Z"
   },
   {
    "duration": 10,
    "start_time": "2022-08-15T17:38:37.781Z"
   },
   {
    "duration": 5,
    "start_time": "2022-08-15T17:38:37.793Z"
   },
   {
    "duration": 13,
    "start_time": "2022-08-15T17:38:37.800Z"
   },
   {
    "duration": 24,
    "start_time": "2022-08-15T17:38:37.815Z"
   },
   {
    "duration": 46,
    "start_time": "2022-08-15T17:38:37.841Z"
   },
   {
    "duration": 4,
    "start_time": "2022-08-15T17:38:37.888Z"
   },
   {
    "duration": 14,
    "start_time": "2022-08-15T17:38:37.894Z"
   },
   {
    "duration": 9,
    "start_time": "2022-08-15T17:38:37.910Z"
   },
   {
    "duration": 6,
    "start_time": "2022-08-15T17:38:37.921Z"
   },
   {
    "duration": 13,
    "start_time": "2022-08-15T17:38:37.928Z"
   },
   {
    "duration": 1436,
    "start_time": "2022-08-15T17:38:37.943Z"
   },
   {
    "duration": 10,
    "start_time": "2022-08-15T17:38:39.381Z"
   },
   {
    "duration": 687,
    "start_time": "2022-08-15T17:38:39.393Z"
   },
   {
    "duration": 25,
    "start_time": "2022-08-15T17:38:40.082Z"
   },
   {
    "duration": 90,
    "start_time": "2022-08-15T17:38:40.109Z"
   },
   {
    "duration": 9,
    "start_time": "2022-08-15T17:38:40.201Z"
   },
   {
    "duration": 1204,
    "start_time": "2022-08-15T17:38:40.213Z"
   },
   {
    "duration": 4,
    "start_time": "2022-08-15T17:38:41.419Z"
   },
   {
    "duration": 24,
    "start_time": "2022-08-15T17:38:41.425Z"
   },
   {
    "duration": 534,
    "start_time": "2022-08-15T17:38:52.452Z"
   },
   {
    "duration": 25,
    "start_time": "2022-08-15T17:38:52.988Z"
   },
   {
    "duration": 15,
    "start_time": "2022-08-15T17:38:53.014Z"
   },
   {
    "duration": 12,
    "start_time": "2022-08-15T17:38:53.031Z"
   },
   {
    "duration": 33,
    "start_time": "2022-08-15T17:38:53.069Z"
   },
   {
    "duration": 3,
    "start_time": "2022-08-15T17:38:53.104Z"
   },
   {
    "duration": 10,
    "start_time": "2022-08-15T17:38:53.109Z"
   },
   {
    "duration": 4,
    "start_time": "2022-08-15T17:38:53.121Z"
   },
   {
    "duration": 10,
    "start_time": "2022-08-15T17:38:53.127Z"
   },
   {
    "duration": 31,
    "start_time": "2022-08-15T17:38:53.139Z"
   },
   {
    "duration": 38,
    "start_time": "2022-08-15T17:38:53.172Z"
   },
   {
    "duration": 10,
    "start_time": "2022-08-15T17:38:53.211Z"
   },
   {
    "duration": 4,
    "start_time": "2022-08-15T17:38:53.223Z"
   },
   {
    "duration": 11,
    "start_time": "2022-08-15T17:38:53.230Z"
   },
   {
    "duration": 42,
    "start_time": "2022-08-15T17:38:53.243Z"
   },
   {
    "duration": 18,
    "start_time": "2022-08-15T17:38:53.287Z"
   },
   {
    "duration": 3,
    "start_time": "2022-08-15T17:38:53.307Z"
   },
   {
    "duration": 14,
    "start_time": "2022-08-15T17:38:53.312Z"
   },
   {
    "duration": 16,
    "start_time": "2022-08-15T17:38:53.328Z"
   },
   {
    "duration": 22,
    "start_time": "2022-08-15T17:38:53.346Z"
   },
   {
    "duration": 14,
    "start_time": "2022-08-15T17:38:53.370Z"
   },
   {
    "duration": 1460,
    "start_time": "2022-08-15T17:38:53.385Z"
   },
   {
    "duration": 9,
    "start_time": "2022-08-15T17:38:54.846Z"
   },
   {
    "duration": 686,
    "start_time": "2022-08-15T17:38:54.858Z"
   },
   {
    "duration": 32,
    "start_time": "2022-08-15T17:38:55.546Z"
   },
   {
    "duration": 65,
    "start_time": "2022-08-15T17:38:55.580Z"
   },
   {
    "duration": 8,
    "start_time": "2022-08-15T17:38:55.647Z"
   },
   {
    "duration": 1155,
    "start_time": "2022-08-15T17:38:55.657Z"
   },
   {
    "duration": 3,
    "start_time": "2022-08-15T17:38:56.815Z"
   },
   {
    "duration": 25,
    "start_time": "2022-08-15T17:38:56.820Z"
   },
   {
    "duration": 299584,
    "start_time": "2022-08-15T17:38:56.847Z"
   },
   {
    "duration": 5,
    "start_time": "2022-08-15T17:43:56.469Z"
   },
   {
    "duration": 624,
    "start_time": "2022-08-15T17:43:56.476Z"
   },
   {
    "duration": 5973,
    "start_time": "2022-08-15T17:43:57.102Z"
   },
   {
    "duration": 26731,
    "start_time": "2022-08-15T17:44:03.077Z"
   },
   {
    "duration": 12,
    "start_time": "2022-08-15T17:44:29.810Z"
   },
   {
    "duration": 4,
    "start_time": "2022-08-15T17:44:29.824Z"
   },
   {
    "duration": 15,
    "start_time": "2022-08-15T17:44:29.829Z"
   },
   {
    "duration": 23,
    "start_time": "2022-08-15T17:44:29.846Z"
   },
   {
    "duration": 16,
    "start_time": "2022-08-15T17:44:29.871Z"
   },
   {
    "duration": 13,
    "start_time": "2022-08-15T17:44:29.891Z"
   },
   {
    "duration": 508,
    "start_time": "2022-08-15T17:47:00.283Z"
   },
   {
    "duration": 27,
    "start_time": "2022-08-15T17:47:00.793Z"
   },
   {
    "duration": 116,
    "start_time": "2022-08-15T17:47:00.821Z"
   },
   {
    "duration": 61,
    "start_time": "2022-08-15T17:47:00.939Z"
   },
   {
    "duration": 108,
    "start_time": "2022-08-15T17:47:01.001Z"
   },
   {
    "duration": 60,
    "start_time": "2022-08-15T17:47:01.111Z"
   },
   {
    "duration": 67,
    "start_time": "2022-08-15T17:47:01.173Z"
   },
   {
    "duration": 22,
    "start_time": "2022-08-15T17:47:01.242Z"
   },
   {
    "duration": 87,
    "start_time": "2022-08-15T17:47:01.266Z"
   },
   {
    "duration": 108,
    "start_time": "2022-08-15T17:47:01.356Z"
   },
   {
    "duration": 124,
    "start_time": "2022-08-15T17:47:01.466Z"
   },
   {
    "duration": 69,
    "start_time": "2022-08-15T17:47:01.592Z"
   },
   {
    "duration": 20,
    "start_time": "2022-08-15T17:47:01.663Z"
   },
   {
    "duration": 65,
    "start_time": "2022-08-15T17:47:01.685Z"
   },
   {
    "duration": 97,
    "start_time": "2022-08-15T17:47:01.752Z"
   },
   {
    "duration": 49,
    "start_time": "2022-08-15T17:47:01.851Z"
   },
   {
    "duration": 3,
    "start_time": "2022-08-15T17:47:01.902Z"
   },
   {
    "duration": 43,
    "start_time": "2022-08-15T17:47:01.908Z"
   },
   {
    "duration": 9,
    "start_time": "2022-08-15T17:47:01.954Z"
   },
   {
    "duration": 9,
    "start_time": "2022-08-15T17:47:01.965Z"
   },
   {
    "duration": 30,
    "start_time": "2022-08-15T17:47:01.976Z"
   },
   {
    "duration": 1500,
    "start_time": "2022-08-15T17:47:02.008Z"
   },
   {
    "duration": 9,
    "start_time": "2022-08-15T17:47:03.510Z"
   },
   {
    "duration": 741,
    "start_time": "2022-08-15T17:47:03.521Z"
   },
   {
    "duration": 26,
    "start_time": "2022-08-15T17:47:04.267Z"
   },
   {
    "duration": 79,
    "start_time": "2022-08-15T17:47:04.295Z"
   },
   {
    "duration": 9,
    "start_time": "2022-08-15T17:47:04.375Z"
   },
   {
    "duration": 1122,
    "start_time": "2022-08-15T17:47:04.387Z"
   },
   {
    "duration": 3,
    "start_time": "2022-08-15T17:47:05.511Z"
   },
   {
    "duration": 10,
    "start_time": "2022-08-15T17:47:05.516Z"
   },
   {
    "duration": 545,
    "start_time": "2022-08-16T16:49:58.728Z"
   },
   {
    "duration": 24,
    "start_time": "2022-08-16T16:49:59.275Z"
   },
   {
    "duration": 17,
    "start_time": "2022-08-16T16:49:59.303Z"
   },
   {
    "duration": 18,
    "start_time": "2022-08-16T16:49:59.322Z"
   },
   {
    "duration": 76,
    "start_time": "2022-08-16T16:49:59.342Z"
   },
   {
    "duration": 5,
    "start_time": "2022-08-16T16:49:59.420Z"
   },
   {
    "duration": 14,
    "start_time": "2022-08-16T16:49:59.426Z"
   },
   {
    "duration": 6,
    "start_time": "2022-08-16T16:49:59.442Z"
   },
   {
    "duration": 12,
    "start_time": "2022-08-16T16:49:59.450Z"
   },
   {
    "duration": 5,
    "start_time": "2022-08-16T16:49:59.464Z"
   },
   {
    "duration": 38,
    "start_time": "2022-08-16T16:49:59.494Z"
   },
   {
    "duration": 12,
    "start_time": "2022-08-16T16:49:59.534Z"
   },
   {
    "duration": 4,
    "start_time": "2022-08-16T16:49:59.550Z"
   },
   {
    "duration": 52,
    "start_time": "2022-08-16T16:49:59.555Z"
   },
   {
    "duration": 30,
    "start_time": "2022-08-16T16:49:59.609Z"
   },
   {
    "duration": 19,
    "start_time": "2022-08-16T16:49:59.640Z"
   },
   {
    "duration": 3,
    "start_time": "2022-08-16T16:49:59.661Z"
   },
   {
    "duration": 28,
    "start_time": "2022-08-16T16:49:59.666Z"
   },
   {
    "duration": 9,
    "start_time": "2022-08-16T16:49:59.696Z"
   },
   {
    "duration": 4,
    "start_time": "2022-08-16T16:49:59.707Z"
   },
   {
    "duration": 16,
    "start_time": "2022-08-16T16:49:59.713Z"
   },
   {
    "duration": 1414,
    "start_time": "2022-08-16T16:49:59.731Z"
   },
   {
    "duration": 11,
    "start_time": "2022-08-16T16:50:01.147Z"
   },
   {
    "duration": 829,
    "start_time": "2022-08-16T16:50:01.160Z"
   },
   {
    "duration": 29,
    "start_time": "2022-08-16T16:50:01.991Z"
   },
   {
    "duration": 102,
    "start_time": "2022-08-16T16:50:02.021Z"
   },
   {
    "duration": 13,
    "start_time": "2022-08-16T16:50:02.125Z"
   },
   {
    "duration": 1282,
    "start_time": "2022-08-16T16:50:02.139Z"
   },
   {
    "duration": 4,
    "start_time": "2022-08-16T16:50:03.423Z"
   },
   {
    "duration": 10,
    "start_time": "2022-08-16T16:50:03.429Z"
   },
   {
    "duration": 282673,
    "start_time": "2022-08-16T16:50:03.441Z"
   },
   {
    "duration": 6,
    "start_time": "2022-08-16T16:54:46.116Z"
   },
   {
    "duration": 253,
    "start_time": "2022-08-16T16:54:46.124Z"
   },
   {
    "duration": 4228,
    "start_time": "2022-08-16T16:54:46.379Z"
   },
   {
    "duration": 25691,
    "start_time": "2022-08-16T16:54:50.609Z"
   },
   {
    "duration": 12,
    "start_time": "2022-08-16T16:55:16.302Z"
   },
   {
    "duration": 3,
    "start_time": "2022-08-16T16:55:16.316Z"
   },
   {
    "duration": 18,
    "start_time": "2022-08-16T16:55:16.320Z"
   },
   {
    "duration": 3,
    "start_time": "2022-08-16T16:55:16.340Z"
   },
   {
    "duration": 15,
    "start_time": "2022-08-16T16:55:16.346Z"
   },
   {
    "duration": 37,
    "start_time": "2022-08-16T16:55:16.363Z"
   },
   {
    "duration": 491,
    "start_time": "2022-08-16T19:08:56.532Z"
   },
   {
    "duration": 28,
    "start_time": "2022-08-16T19:08:57.025Z"
   },
   {
    "duration": 18,
    "start_time": "2022-08-16T19:08:57.055Z"
   },
   {
    "duration": 12,
    "start_time": "2022-08-16T19:08:57.093Z"
   },
   {
    "duration": 46,
    "start_time": "2022-08-16T19:08:57.106Z"
   },
   {
    "duration": 9,
    "start_time": "2022-08-16T19:08:57.154Z"
   },
   {
    "duration": 30,
    "start_time": "2022-08-16T19:08:57.166Z"
   },
   {
    "duration": 6,
    "start_time": "2022-08-16T19:08:57.198Z"
   },
   {
    "duration": 19,
    "start_time": "2022-08-16T19:08:57.206Z"
   },
   {
    "duration": 8,
    "start_time": "2022-08-16T19:08:57.229Z"
   },
   {
    "duration": 61,
    "start_time": "2022-08-16T19:08:57.239Z"
   },
   {
    "duration": 11,
    "start_time": "2022-08-16T19:08:57.302Z"
   },
   {
    "duration": 20,
    "start_time": "2022-08-16T19:08:57.314Z"
   },
   {
    "duration": 20,
    "start_time": "2022-08-16T19:08:57.336Z"
   },
   {
    "duration": 38,
    "start_time": "2022-08-16T19:08:57.358Z"
   },
   {
    "duration": 20,
    "start_time": "2022-08-16T19:08:57.397Z"
   },
   {
    "duration": 4,
    "start_time": "2022-08-16T19:08:57.418Z"
   },
   {
    "duration": 26,
    "start_time": "2022-08-16T19:08:57.424Z"
   },
   {
    "duration": 28,
    "start_time": "2022-08-16T19:08:57.452Z"
   },
   {
    "duration": 18,
    "start_time": "2022-08-16T19:08:57.483Z"
   },
   {
    "duration": 35,
    "start_time": "2022-08-16T19:08:57.502Z"
   },
   {
    "duration": 1568,
    "start_time": "2022-08-16T19:08:57.539Z"
   },
   {
    "duration": 10,
    "start_time": "2022-08-16T19:08:59.109Z"
   },
   {
    "duration": 795,
    "start_time": "2022-08-16T19:08:59.122Z"
   },
   {
    "duration": 34,
    "start_time": "2022-08-16T19:08:59.919Z"
   },
   {
    "duration": 105,
    "start_time": "2022-08-16T19:08:59.956Z"
   },
   {
    "duration": 9,
    "start_time": "2022-08-16T19:09:00.063Z"
   },
   {
    "duration": 1192,
    "start_time": "2022-08-16T19:09:00.076Z"
   },
   {
    "duration": 3,
    "start_time": "2022-08-16T19:09:01.270Z"
   },
   {
    "duration": 34,
    "start_time": "2022-08-16T19:09:01.276Z"
   },
   {
    "duration": 38476,
    "start_time": "2022-08-16T19:09:01.312Z"
   },
   {
    "duration": 0,
    "start_time": "2022-08-16T19:09:39.791Z"
   },
   {
    "duration": 0,
    "start_time": "2022-08-16T19:09:39.793Z"
   },
   {
    "duration": 0,
    "start_time": "2022-08-16T19:09:39.795Z"
   },
   {
    "duration": 0,
    "start_time": "2022-08-16T19:09:39.797Z"
   },
   {
    "duration": 0,
    "start_time": "2022-08-16T19:09:39.798Z"
   },
   {
    "duration": 0,
    "start_time": "2022-08-16T19:09:39.800Z"
   },
   {
    "duration": 0,
    "start_time": "2022-08-16T19:09:39.801Z"
   },
   {
    "duration": 0,
    "start_time": "2022-08-16T19:09:39.803Z"
   },
   {
    "duration": 0,
    "start_time": "2022-08-16T19:09:39.804Z"
   },
   {
    "duration": 0,
    "start_time": "2022-08-16T19:09:39.805Z"
   },
   {
    "duration": 538,
    "start_time": "2023-02-19T07:16:45.314Z"
   },
   {
    "duration": 22,
    "start_time": "2023-02-19T07:16:45.854Z"
   },
   {
    "duration": 13,
    "start_time": "2023-02-19T07:16:45.879Z"
   },
   {
    "duration": 8,
    "start_time": "2023-02-19T07:16:45.895Z"
   },
   {
    "duration": 50,
    "start_time": "2023-02-19T07:16:45.904Z"
   },
   {
    "duration": 4,
    "start_time": "2023-02-19T07:16:45.956Z"
   },
   {
    "duration": 13,
    "start_time": "2023-02-19T07:16:45.963Z"
   },
   {
    "duration": 4,
    "start_time": "2023-02-19T07:16:45.977Z"
   },
   {
    "duration": 36,
    "start_time": "2023-02-19T07:16:45.982Z"
   },
   {
    "duration": 7,
    "start_time": "2023-02-19T07:16:46.020Z"
   },
   {
    "duration": 37,
    "start_time": "2023-02-19T07:16:46.028Z"
   },
   {
    "duration": 9,
    "start_time": "2023-02-19T07:16:46.067Z"
   },
   {
    "duration": 3,
    "start_time": "2023-02-19T07:16:46.080Z"
   },
   {
    "duration": 12,
    "start_time": "2023-02-19T07:16:46.084Z"
   },
   {
    "duration": 17,
    "start_time": "2023-02-19T07:16:46.098Z"
   },
   {
    "duration": 16,
    "start_time": "2023-02-19T07:16:46.137Z"
   },
   {
    "duration": 4,
    "start_time": "2023-02-19T07:16:46.154Z"
   },
   {
    "duration": 12,
    "start_time": "2023-02-19T07:16:46.159Z"
   },
   {
    "duration": 5,
    "start_time": "2023-02-19T07:16:46.173Z"
   },
   {
    "duration": 4,
    "start_time": "2023-02-19T07:16:46.179Z"
   },
   {
    "duration": 11,
    "start_time": "2023-02-19T07:16:46.185Z"
   },
   {
    "duration": 1133,
    "start_time": "2023-02-19T07:16:46.198Z"
   },
   {
    "duration": 9,
    "start_time": "2023-02-19T07:16:47.332Z"
   },
   {
    "duration": 645,
    "start_time": "2023-02-19T07:16:47.343Z"
   },
   {
    "duration": 22,
    "start_time": "2023-02-19T07:16:47.990Z"
   },
   {
    "duration": 67,
    "start_time": "2023-02-19T07:16:48.013Z"
   },
   {
    "duration": 7,
    "start_time": "2023-02-19T07:16:48.081Z"
   },
   {
    "duration": 1087,
    "start_time": "2023-02-19T07:16:48.089Z"
   },
   {
    "duration": 3,
    "start_time": "2023-02-19T07:16:49.177Z"
   },
   {
    "duration": 6,
    "start_time": "2023-02-19T07:16:49.182Z"
   },
   {
    "duration": 107403,
    "start_time": "2023-02-19T07:16:49.190Z"
   },
   {
    "duration": 3,
    "start_time": "2023-02-19T07:18:36.595Z"
   },
   {
    "duration": 295,
    "start_time": "2023-02-19T07:18:36.599Z"
   },
   {
    "duration": 3113,
    "start_time": "2023-02-19T07:18:36.896Z"
   },
   {
    "duration": 22817,
    "start_time": "2023-02-19T07:18:40.011Z"
   },
   {
    "duration": 17,
    "start_time": "2023-02-19T07:19:02.830Z"
   },
   {
    "duration": 7,
    "start_time": "2023-02-19T07:19:02.848Z"
   },
   {
    "duration": 13,
    "start_time": "2023-02-19T07:19:02.856Z"
   },
   {
    "duration": 3,
    "start_time": "2023-02-19T07:19:02.871Z"
   },
   {
    "duration": 17,
    "start_time": "2023-02-19T07:19:02.879Z"
   },
   {
    "duration": 11,
    "start_time": "2023-02-19T07:19:02.898Z"
   }
  ],
  "colab": {
   "name": "dpp_template_part2.ipynb",
   "provenance": []
  },
  "kernelspec": {
   "display_name": "Python 3 (ipykernel)",
   "language": "python",
   "name": "python3"
  },
  "language_info": {
   "codemirror_mode": {
    "name": "ipython",
    "version": 3
   },
   "file_extension": ".py",
   "mimetype": "text/x-python",
   "name": "python",
   "nbconvert_exporter": "python",
   "pygments_lexer": "ipython3",
   "version": "3.9.13"
  },
  "toc": {
   "base_numbering": 1,
   "nav_menu": {},
   "number_sections": true,
   "sideBar": true,
   "skip_h1_title": true,
   "title_cell": "Table of Contents",
   "title_sidebar": "Contents",
   "toc_cell": false,
   "toc_position": {},
   "toc_section_display": true,
   "toc_window_display": false
  }
 },
 "nbformat": 4,
 "nbformat_minor": 5
}
