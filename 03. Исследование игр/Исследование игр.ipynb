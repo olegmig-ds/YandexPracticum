{
 "cells": [
  {
   "cell_type": "code",
   "execution_count": 8,
   "metadata": {},
   "outputs": [],
   "source": [
    "import pandas as pd\n",
    "import matplotlib.pyplot as plt\n",
    "import seaborn as sns\n",
    "import numpy as np\n",
    "from scipy import stats as st\n",
    "import matplotlib.ticker as ticker\n",
    "from IPython.display import display_html\n",
    "from itertools import chain,cycle"
   ]
  },
  {
   "cell_type": "markdown",
   "metadata": {},
   "source": [
    "# 1. Изучение общей информации."
   ]
  },
  {
   "cell_type": "code",
   "execution_count": 9,
   "metadata": {},
   "outputs": [],
   "source": [
    "try:\n",
    "    data = pd.read_csv('datasets/games.csv', sep=',')\n",
    "except FileNotFoundError: \n",
    "    data = pd.read_csv('/datasets/games.csv', sep=',')"
   ]
  },
  {
   "cell_type": "code",
   "execution_count": 10,
   "metadata": {},
   "outputs": [
    {
     "data": {
      "text/html": [
       "<div>\n",
       "<style scoped>\n",
       "    .dataframe tbody tr th:only-of-type {\n",
       "        vertical-align: middle;\n",
       "    }\n",
       "\n",
       "    .dataframe tbody tr th {\n",
       "        vertical-align: top;\n",
       "    }\n",
       "\n",
       "    .dataframe thead th {\n",
       "        text-align: right;\n",
       "    }\n",
       "</style>\n",
       "<table border=\"1\" class=\"dataframe\">\n",
       "  <thead>\n",
       "    <tr style=\"text-align: right;\">\n",
       "      <th></th>\n",
       "      <th>Name</th>\n",
       "      <th>Platform</th>\n",
       "      <th>Year_of_Release</th>\n",
       "      <th>Genre</th>\n",
       "      <th>NA_sales</th>\n",
       "      <th>EU_sales</th>\n",
       "      <th>JP_sales</th>\n",
       "      <th>Other_sales</th>\n",
       "      <th>Critic_Score</th>\n",
       "      <th>User_Score</th>\n",
       "      <th>Rating</th>\n",
       "    </tr>\n",
       "  </thead>\n",
       "  <tbody>\n",
       "    <tr>\n",
       "      <th>0</th>\n",
       "      <td>Wii Sports</td>\n",
       "      <td>Wii</td>\n",
       "      <td>2006.0</td>\n",
       "      <td>Sports</td>\n",
       "      <td>41.36</td>\n",
       "      <td>28.96</td>\n",
       "      <td>3.77</td>\n",
       "      <td>8.45</td>\n",
       "      <td>76.0</td>\n",
       "      <td>8</td>\n",
       "      <td>E</td>\n",
       "    </tr>\n",
       "    <tr>\n",
       "      <th>1</th>\n",
       "      <td>Super Mario Bros.</td>\n",
       "      <td>NES</td>\n",
       "      <td>1985.0</td>\n",
       "      <td>Platform</td>\n",
       "      <td>29.08</td>\n",
       "      <td>3.58</td>\n",
       "      <td>6.81</td>\n",
       "      <td>0.77</td>\n",
       "      <td>NaN</td>\n",
       "      <td>NaN</td>\n",
       "      <td>NaN</td>\n",
       "    </tr>\n",
       "    <tr>\n",
       "      <th>2</th>\n",
       "      <td>Mario Kart Wii</td>\n",
       "      <td>Wii</td>\n",
       "      <td>2008.0</td>\n",
       "      <td>Racing</td>\n",
       "      <td>15.68</td>\n",
       "      <td>12.76</td>\n",
       "      <td>3.79</td>\n",
       "      <td>3.29</td>\n",
       "      <td>82.0</td>\n",
       "      <td>8.3</td>\n",
       "      <td>E</td>\n",
       "    </tr>\n",
       "    <tr>\n",
       "      <th>3</th>\n",
       "      <td>Wii Sports Resort</td>\n",
       "      <td>Wii</td>\n",
       "      <td>2009.0</td>\n",
       "      <td>Sports</td>\n",
       "      <td>15.61</td>\n",
       "      <td>10.93</td>\n",
       "      <td>3.28</td>\n",
       "      <td>2.95</td>\n",
       "      <td>80.0</td>\n",
       "      <td>8</td>\n",
       "      <td>E</td>\n",
       "    </tr>\n",
       "    <tr>\n",
       "      <th>4</th>\n",
       "      <td>Pokemon Red/Pokemon Blue</td>\n",
       "      <td>GB</td>\n",
       "      <td>1996.0</td>\n",
       "      <td>Role-Playing</td>\n",
       "      <td>11.27</td>\n",
       "      <td>8.89</td>\n",
       "      <td>10.22</td>\n",
       "      <td>1.00</td>\n",
       "      <td>NaN</td>\n",
       "      <td>NaN</td>\n",
       "      <td>NaN</td>\n",
       "    </tr>\n",
       "    <tr>\n",
       "      <th>...</th>\n",
       "      <td>...</td>\n",
       "      <td>...</td>\n",
       "      <td>...</td>\n",
       "      <td>...</td>\n",
       "      <td>...</td>\n",
       "      <td>...</td>\n",
       "      <td>...</td>\n",
       "      <td>...</td>\n",
       "      <td>...</td>\n",
       "      <td>...</td>\n",
       "      <td>...</td>\n",
       "    </tr>\n",
       "    <tr>\n",
       "      <th>16710</th>\n",
       "      <td>Samurai Warriors: Sanada Maru</td>\n",
       "      <td>PS3</td>\n",
       "      <td>2016.0</td>\n",
       "      <td>Action</td>\n",
       "      <td>0.00</td>\n",
       "      <td>0.00</td>\n",
       "      <td>0.01</td>\n",
       "      <td>0.00</td>\n",
       "      <td>NaN</td>\n",
       "      <td>NaN</td>\n",
       "      <td>NaN</td>\n",
       "    </tr>\n",
       "    <tr>\n",
       "      <th>16711</th>\n",
       "      <td>LMA Manager 2007</td>\n",
       "      <td>X360</td>\n",
       "      <td>2006.0</td>\n",
       "      <td>Sports</td>\n",
       "      <td>0.00</td>\n",
       "      <td>0.01</td>\n",
       "      <td>0.00</td>\n",
       "      <td>0.00</td>\n",
       "      <td>NaN</td>\n",
       "      <td>NaN</td>\n",
       "      <td>NaN</td>\n",
       "    </tr>\n",
       "    <tr>\n",
       "      <th>16712</th>\n",
       "      <td>Haitaka no Psychedelica</td>\n",
       "      <td>PSV</td>\n",
       "      <td>2016.0</td>\n",
       "      <td>Adventure</td>\n",
       "      <td>0.00</td>\n",
       "      <td>0.00</td>\n",
       "      <td>0.01</td>\n",
       "      <td>0.00</td>\n",
       "      <td>NaN</td>\n",
       "      <td>NaN</td>\n",
       "      <td>NaN</td>\n",
       "    </tr>\n",
       "    <tr>\n",
       "      <th>16713</th>\n",
       "      <td>Spirits &amp; Spells</td>\n",
       "      <td>GBA</td>\n",
       "      <td>2003.0</td>\n",
       "      <td>Platform</td>\n",
       "      <td>0.01</td>\n",
       "      <td>0.00</td>\n",
       "      <td>0.00</td>\n",
       "      <td>0.00</td>\n",
       "      <td>NaN</td>\n",
       "      <td>NaN</td>\n",
       "      <td>NaN</td>\n",
       "    </tr>\n",
       "    <tr>\n",
       "      <th>16714</th>\n",
       "      <td>Winning Post 8 2016</td>\n",
       "      <td>PSV</td>\n",
       "      <td>2016.0</td>\n",
       "      <td>Simulation</td>\n",
       "      <td>0.00</td>\n",
       "      <td>0.00</td>\n",
       "      <td>0.01</td>\n",
       "      <td>0.00</td>\n",
       "      <td>NaN</td>\n",
       "      <td>NaN</td>\n",
       "      <td>NaN</td>\n",
       "    </tr>\n",
       "  </tbody>\n",
       "</table>\n",
       "<p>16715 rows × 11 columns</p>\n",
       "</div>"
      ],
      "text/plain": [
       "                                Name Platform  Year_of_Release         Genre  \\\n",
       "0                         Wii Sports      Wii           2006.0        Sports   \n",
       "1                  Super Mario Bros.      NES           1985.0      Platform   \n",
       "2                     Mario Kart Wii      Wii           2008.0        Racing   \n",
       "3                  Wii Sports Resort      Wii           2009.0        Sports   \n",
       "4           Pokemon Red/Pokemon Blue       GB           1996.0  Role-Playing   \n",
       "...                              ...      ...              ...           ...   \n",
       "16710  Samurai Warriors: Sanada Maru      PS3           2016.0        Action   \n",
       "16711               LMA Manager 2007     X360           2006.0        Sports   \n",
       "16712        Haitaka no Psychedelica      PSV           2016.0     Adventure   \n",
       "16713               Spirits & Spells      GBA           2003.0      Platform   \n",
       "16714            Winning Post 8 2016      PSV           2016.0    Simulation   \n",
       "\n",
       "       NA_sales  EU_sales  JP_sales  Other_sales  Critic_Score User_Score  \\\n",
       "0         41.36     28.96      3.77         8.45          76.0          8   \n",
       "1         29.08      3.58      6.81         0.77           NaN        NaN   \n",
       "2         15.68     12.76      3.79         3.29          82.0        8.3   \n",
       "3         15.61     10.93      3.28         2.95          80.0          8   \n",
       "4         11.27      8.89     10.22         1.00           NaN        NaN   \n",
       "...         ...       ...       ...          ...           ...        ...   \n",
       "16710      0.00      0.00      0.01         0.00           NaN        NaN   \n",
       "16711      0.00      0.01      0.00         0.00           NaN        NaN   \n",
       "16712      0.00      0.00      0.01         0.00           NaN        NaN   \n",
       "16713      0.01      0.00      0.00         0.00           NaN        NaN   \n",
       "16714      0.00      0.00      0.01         0.00           NaN        NaN   \n",
       "\n",
       "      Rating  \n",
       "0          E  \n",
       "1        NaN  \n",
       "2          E  \n",
       "3          E  \n",
       "4        NaN  \n",
       "...      ...  \n",
       "16710    NaN  \n",
       "16711    NaN  \n",
       "16712    NaN  \n",
       "16713    NaN  \n",
       "16714    NaN  \n",
       "\n",
       "[16715 rows x 11 columns]"
      ]
     },
     "execution_count": 10,
     "metadata": {},
     "output_type": "execute_result"
    }
   ],
   "source": [
    "data"
   ]
  },
  {
   "cell_type": "code",
   "execution_count": 11,
   "metadata": {
    "scrolled": true
   },
   "outputs": [
    {
     "name": "stdout",
     "output_type": "stream",
     "text": [
      "<class 'pandas.core.frame.DataFrame'>\n",
      "RangeIndex: 16715 entries, 0 to 16714\n",
      "Data columns (total 11 columns):\n",
      " #   Column           Non-Null Count  Dtype  \n",
      "---  ------           --------------  -----  \n",
      " 0   Name             16713 non-null  object \n",
      " 1   Platform         16715 non-null  object \n",
      " 2   Year_of_Release  16446 non-null  float64\n",
      " 3   Genre            16713 non-null  object \n",
      " 4   NA_sales         16715 non-null  float64\n",
      " 5   EU_sales         16715 non-null  float64\n",
      " 6   JP_sales         16715 non-null  float64\n",
      " 7   Other_sales      16715 non-null  float64\n",
      " 8   Critic_Score     8137 non-null   float64\n",
      " 9   User_Score       10014 non-null  object \n",
      " 10  Rating           9949 non-null   object \n",
      "dtypes: float64(6), object(5)\n",
      "memory usage: 1.4+ MB\n"
     ]
    }
   ],
   "source": [
    "data.info()"
   ]
  },
  {
   "cell_type": "code",
   "execution_count": 12,
   "metadata": {},
   "outputs": [],
   "source": [
    "data.User_Score.replace({'tbd' : np.nan}, inplace=True)"
   ]
  },
  {
   "cell_type": "code",
   "execution_count": 13,
   "metadata": {},
   "outputs": [
    {
     "data": {
      "text/html": [
       "<style  type=\"text/css\" >\n",
       "#T_8fdb0_row0_col0,#T_8fdb0_row1_col0,#T_8fdb0_row3_col0,#T_8fdb0_row4_col0,#T_8fdb0_row5_col0,#T_8fdb0_row6_col0,#T_8fdb0_row7_col0{\n",
       "            background-color:  #3b4cc0;\n",
       "            color:  #f1f1f1;\n",
       "        }#T_8fdb0_row2_col0{\n",
       "            background-color:  #4358cb;\n",
       "            color:  #f1f1f1;\n",
       "        }#T_8fdb0_row8_col0{\n",
       "            background-color:  #ca3b37;\n",
       "            color:  #f1f1f1;\n",
       "        }#T_8fdb0_row9_col0{\n",
       "            background-color:  #b40426;\n",
       "            color:  #f1f1f1;\n",
       "        }#T_8fdb0_row10_col0{\n",
       "            background-color:  #f59d7e;\n",
       "            color:  #000000;\n",
       "        }</style><table id=\"T_8fdb0_\" ><thead>    <tr>        <th class=\"blank level0\" ></th>        <th class=\"col_heading level0 col0\" >0</th>    </tr></thead><tbody>\n",
       "                <tr>\n",
       "                        <th id=\"T_8fdb0_level0_row0\" class=\"row_heading level0 row0\" >Name</th>\n",
       "                        <td id=\"T_8fdb0_row0_col0\" class=\"data row0 col0\" >0.011970</td>\n",
       "            </tr>\n",
       "            <tr>\n",
       "                        <th id=\"T_8fdb0_level0_row1\" class=\"row_heading level0 row1\" >Platform</th>\n",
       "                        <td id=\"T_8fdb0_row1_col0\" class=\"data row1 col0\" >0.000000</td>\n",
       "            </tr>\n",
       "            <tr>\n",
       "                        <th id=\"T_8fdb0_level0_row2\" class=\"row_heading level0 row2\" >Year_of_Release</th>\n",
       "                        <td id=\"T_8fdb0_row2_col0\" class=\"data row2 col0\" >1.609330</td>\n",
       "            </tr>\n",
       "            <tr>\n",
       "                        <th id=\"T_8fdb0_level0_row3\" class=\"row_heading level0 row3\" >Genre</th>\n",
       "                        <td id=\"T_8fdb0_row3_col0\" class=\"data row3 col0\" >0.011970</td>\n",
       "            </tr>\n",
       "            <tr>\n",
       "                        <th id=\"T_8fdb0_level0_row4\" class=\"row_heading level0 row4\" >NA_sales</th>\n",
       "                        <td id=\"T_8fdb0_row4_col0\" class=\"data row4 col0\" >0.000000</td>\n",
       "            </tr>\n",
       "            <tr>\n",
       "                        <th id=\"T_8fdb0_level0_row5\" class=\"row_heading level0 row5\" >EU_sales</th>\n",
       "                        <td id=\"T_8fdb0_row5_col0\" class=\"data row5 col0\" >0.000000</td>\n",
       "            </tr>\n",
       "            <tr>\n",
       "                        <th id=\"T_8fdb0_level0_row6\" class=\"row_heading level0 row6\" >JP_sales</th>\n",
       "                        <td id=\"T_8fdb0_row6_col0\" class=\"data row6 col0\" >0.000000</td>\n",
       "            </tr>\n",
       "            <tr>\n",
       "                        <th id=\"T_8fdb0_level0_row7\" class=\"row_heading level0 row7\" >Other_sales</th>\n",
       "                        <td id=\"T_8fdb0_row7_col0\" class=\"data row7 col0\" >0.000000</td>\n",
       "            </tr>\n",
       "            <tr>\n",
       "                        <th id=\"T_8fdb0_level0_row8\" class=\"row_heading level0 row8\" >Critic_Score</th>\n",
       "                        <td id=\"T_8fdb0_row8_col0\" class=\"data row8 col0\" >51.319170</td>\n",
       "            </tr>\n",
       "            <tr>\n",
       "                        <th id=\"T_8fdb0_level0_row9\" class=\"row_heading level0 row9\" >User_Score</th>\n",
       "                        <td id=\"T_8fdb0_row9_col0\" class=\"data row9 col0\" >54.591680</td>\n",
       "            </tr>\n",
       "            <tr>\n",
       "                        <th id=\"T_8fdb0_level0_row10\" class=\"row_heading level0 row10\" >Rating</th>\n",
       "                        <td id=\"T_8fdb0_row10_col0\" class=\"data row10 col0\" >40.478610</td>\n",
       "            </tr>\n",
       "    </tbody></table>"
      ],
      "text/plain": [
       "<pandas.io.formats.style.Styler at 0x7fb6a66ee0a0>"
      ]
     },
     "execution_count": 13,
     "metadata": {},
     "output_type": "execute_result"
    }
   ],
   "source": [
    "pd.DataFrame(round(data.isna().mean()*100, 5)).style.background_gradient('coolwarm')"
   ]
  },
  {
   "cell_type": "markdown",
   "metadata": {},
   "source": [
    "# 2. Предобработка данных."
   ]
  },
  {
   "cell_type": "code",
   "execution_count": 14,
   "metadata": {},
   "outputs": [],
   "source": [
    "data.columns = data.columns.str.lower()"
   ]
  },
  {
   "cell_type": "markdown",
   "metadata": {},
   "source": [
    "### 2.1 Заполнение пропусков в данных.\n",
    "* Заполняем пропуски в столбцах, где их немного. \n",
    "* В столбцах \"critic_score\", \"user_score\", \"rating\" пропусков > 40% и любой способ их заполнения может привести к искажению результатов исследования. В дальнейшем попробуем изучить срез данных, в котором эти данные заполнены."
   ]
  },
  {
   "cell_type": "code",
   "execution_count": 15,
   "metadata": {
    "scrolled": true
   },
   "outputs": [
    {
     "name": "stderr",
     "output_type": "stream",
     "text": [
      "/opt/conda/lib/python3.9/site-packages/pandas/core/series.py:4463: SettingWithCopyWarning: \n",
      "A value is trying to be set on a copy of a slice from a DataFrame\n",
      "\n",
      "See the caveats in the documentation: https://pandas.pydata.org/pandas-docs/stable/user_guide/indexing.html#returning-a-view-versus-a-copy\n",
      "  return super().fillna(\n"
     ]
    }
   ],
   "source": [
    "data.name.fillna('unknown', inplace=True)\n",
    "data = data[data.year_of_release.notnull()]\n",
    "data.genre.fillna(data.genre.mode(), inplace=True)"
   ]
  },
  {
   "cell_type": "code",
   "execution_count": 43,
   "metadata": {},
   "outputs": [
    {
     "data": {
      "text/plain": [
       "name                  0\n",
       "platform              0\n",
       "year_of_release       0\n",
       "genre                 2\n",
       "na_sales              0\n",
       "eu_sales              0\n",
       "jp_sales              0\n",
       "other_sales           0\n",
       "critic_score       8463\n",
       "user_score         8983\n",
       "rating             6678\n",
       "total_sales           0\n",
       "dtype: int64"
      ]
     },
     "execution_count": 43,
     "metadata": {},
     "output_type": "execute_result"
    }
   ],
   "source": [
    "# Код ревьюера\n",
    "\n",
    "data.isna().sum()"
   ]
  },
  {
   "cell_type": "code",
   "execution_count": 44,
   "metadata": {},
   "outputs": [],
   "source": [
    "# Код ревьюера\n",
    "\n",
    "data['genre'] = data['genre'].fillna(data['genre'].mode().squeeze())"
   ]
  },
  {
   "cell_type": "code",
   "execution_count": 45,
   "metadata": {},
   "outputs": [
    {
     "data": {
      "text/plain": [
       "name                  0\n",
       "platform              0\n",
       "year_of_release       0\n",
       "genre                 0\n",
       "na_sales              0\n",
       "eu_sales              0\n",
       "jp_sales              0\n",
       "other_sales           0\n",
       "critic_score       8463\n",
       "user_score         8983\n",
       "rating             6678\n",
       "total_sales           0\n",
       "dtype: int64"
      ]
     },
     "execution_count": 45,
     "metadata": {},
     "output_type": "execute_result"
    }
   ],
   "source": [
    "# Код ревьюера\n",
    "\n",
    "data.isna().sum()"
   ]
  },
  {
   "cell_type": "code",
   "execution_count": 17,
   "metadata": {},
   "outputs": [
    {
     "data": {
      "text/plain": [
       "0    2.0\n",
       "1    3.0\n",
       "2    3.0\n",
       "3    4.0\n",
       "Name: col_1, dtype: float64"
      ]
     },
     "execution_count": 17,
     "metadata": {},
     "output_type": "execute_result"
    }
   ],
   "source": [
    "# Код ревьюера\n",
    "\n",
    "demo = pd.DataFrame({'col_1' : [None, None, 3, 4]})\n",
    "s_1 = pd.Series([2,2,3,3]).mode()\n",
    "\n",
    "demo['col_1'].fillna(s_1)"
   ]
  },
  {
   "cell_type": "markdown",
   "metadata": {},
   "source": [
    "### 2.2 Преобразуем типы данных по столбцам.\n",
    "* Год релиза в string, т.к. год является целым числом (можно было бы и в строку, но с числом работать удобнее).\n",
    "* Оценку пользователя в float, предварительно обработав значения \"tbd\" как пропуск. (tbd - \"будет заполнено\", но на данный момент этой информации нет).\n",
    "* Отнормируем значения оценок критиков и пользователей (приведем к общей 10 бальной шкале).\n",
    "* Количество продаж по регионам оставим в млн. штук, так удобнее с ними работать."
   ]
  },
  {
   "cell_type": "code",
   "execution_count": 18,
   "metadata": {},
   "outputs": [],
   "source": [
    "data = data.astype({\n",
    "                    'year_of_release' : 'int64', \n",
    "                    'user_score' : 'float64',\n",
    "                   })\n",
    "\n",
    "data.critic_score = data.critic_score/10"
   ]
  },
  {
   "cell_type": "code",
   "execution_count": 19,
   "metadata": {},
   "outputs": [
    {
     "name": "stdout",
     "output_type": "stream",
     "text": [
      "<class 'pandas.core.frame.DataFrame'>\n",
      "Int64Index: 16446 entries, 0 to 16714\n",
      "Data columns (total 11 columns):\n",
      " #   Column           Non-Null Count  Dtype  \n",
      "---  ------           --------------  -----  \n",
      " 0   name             16446 non-null  object \n",
      " 1   platform         16446 non-null  object \n",
      " 2   year_of_release  16446 non-null  int64  \n",
      " 3   genre            16444 non-null  object \n",
      " 4   na_sales         16446 non-null  float64\n",
      " 5   eu_sales         16446 non-null  float64\n",
      " 6   jp_sales         16446 non-null  float64\n",
      " 7   other_sales      16446 non-null  float64\n",
      " 8   critic_score     7983 non-null   float64\n",
      " 9   user_score       7463 non-null   float64\n",
      " 10  rating           9768 non-null   object \n",
      "dtypes: float64(6), int64(1), object(4)\n",
      "memory usage: 1.5+ MB\n"
     ]
    }
   ],
   "source": [
    "data.info()"
   ]
  },
  {
   "cell_type": "code",
   "execution_count": 20,
   "metadata": {},
   "outputs": [],
   "source": [
    "data['total_sales'] = data.eu_sales + data.na_sales + data.jp_sales + data.other_sales"
   ]
  },
  {
   "cell_type": "markdown",
   "metadata": {},
   "source": [
    "# 3. Исследовательский анализ данных."
   ]
  },
  {
   "cell_type": "markdown",
   "metadata": {},
   "source": [
    "### 3.1 Проанализируем общие показатели количества релизов и оценок по годам."
   ]
  },
  {
   "cell_type": "code",
   "execution_count": 21,
   "metadata": {},
   "outputs": [],
   "source": [
    "sales_years_pivot = pd.pivot_table(data = data, index = 'year_of_release', values='name', aggfunc='count')"
   ]
  },
  {
   "cell_type": "code",
   "execution_count": 22,
   "metadata": {
    "scrolled": true
   },
   "outputs": [
    {
     "data": {
      "text/plain": [
       "[Text(0, 0.5, 'Количество релизов'),\n",
       " Text(0.5, 0, 'Годы'),\n",
       " Text(0.5, 1.0, 'Количество игровых релизов по годам')]"
      ]
     },
     "execution_count": 22,
     "metadata": {},
     "output_type": "execute_result"
    },
    {
     "data": {
      "image/png": "[encoded data removed]",
      "text/plain": [
       "<Figure size 1080x720 with 1 Axes>"
      ]
     },
     "metadata": {
      "needs_background": "light"
     },
     "output_type": "display_data"
    }
   ],
   "source": [
    "fig, ax = plt.subplots(figsize=(15, 10))\n",
    "ax.tick_params(axis='x', rotation=90)\n",
    "\n",
    "sns.barplot(x = sales_years_pivot.index,y = sales_years_pivot.name, ax=ax).set(\n",
    "    ylabel='Количество релизов', \n",
    "    xlabel='Годы',\n",
    "    title='Количество игровых релизов по годам'\n",
    ")"
   ]
  },
  {
   "cell_type": "code",
   "execution_count": 23,
   "metadata": {},
   "outputs": [],
   "source": [
    "score_pivot = pd.pivot_table(data = data, index = 'year_of_release', \n",
    "                                  values=['critic_score', 'user_score', 'rating'], \n",
    "                                  aggfunc='count')\n",
    "score_pivot['games'] = sales_years_pivot.name"
   ]
  },
  {
   "cell_type": "code",
   "execution_count": 24,
   "metadata": {},
   "outputs": [],
   "source": [
    "for col in score_pivot.columns:\n",
    "    score_pivot.rename(columns={col : 'numbers_of_'+ col}, inplace=True)"
   ]
  },
  {
   "cell_type": "code",
   "execution_count": 25,
   "metadata": {},
   "outputs": [
    {
     "data": {
      "text/plain": [
       "<AxesSubplot:title={'center':'Количества релизов и количества оценок по годам'}, xlabel='year_of_release', ylabel='Количество'>"
      ]
     },
     "execution_count": 25,
     "metadata": {},
     "output_type": "execute_result"
    },
    {
     "data": {
      "image/png": "[encoded data removed]",
      "text/plain": [
       "<Figure size 1080x720 with 1 Axes>"
      ]
     },
     "metadata": {
      "needs_background": "light"
     },
     "output_type": "display_data"
    }
   ],
   "source": [
    "fig1, ax1 = plt.subplots(figsize=(15, 10))\n",
    "ax1.set_title('Количества релизов и количества оценок по годам')\n",
    "ax1.set_xlabel('Годы')\n",
    "ax1.set_ylabel('Количество')\n",
    "score_pivot.plot(ax = ax1, kind='area', stacked=False)"
   ]
  },
  {
   "cell_type": "markdown",
   "metadata": {},
   "source": [
    "* период с 1980 по 1997 можем не учитывать, количество выходивших игр, а также оценок слишком мало, чтобы оказать заметное влияние на результат исследования. Также данные за этот период не являются актуальными."
   ]
  },
  {
   "cell_type": "markdown",
   "metadata": {},
   "source": [
    "### 3.2 Проанализируем продажи игр самых популярных платформ."
   ]
  },
  {
   "cell_type": "code",
   "execution_count": 27,
   "metadata": {},
   "outputs": [],
   "source": [
    "platform_sales = data.groupby('platform')[['total_sales']] \\\n",
    "    .sum().sort_values('total_sales', ascending=False)"
   ]
  },
  {
   "cell_type": "code",
   "execution_count": 28,
   "metadata": {},
   "outputs": [
    {
     "data": {
      "text/plain": [
       "<AxesSubplot:title={'center':'Распределение продаж главных платформ по годам'}, xlabel='year_of_release', ylabel='platform'>"
      ]
     },
     "execution_count": 28,
     "metadata": {},
     "output_type": "execute_result"
    },
    {
     "data": {
      "image/png": "[encoded data removed]",
      "text/plain": [
       "<Figure size 1224x1080 with 2 Axes>"
      ]
     },
     "metadata": {
      "needs_background": "light"
     },
     "output_type": "display_data"
    }
   ],
   "source": [
    "fig2, ax2 = plt.subplots(figsize=(17, 15))\n",
    "ax2.tick_params(axis='x', rotation=90)\n",
    "ax2.set_title('Распределение продаж главных платформ по годам')\n",
    "sns.heatmap(data.query('year_of_release >1997').pivot_table(\n",
    "                        index='platform', \n",
    "                        columns='year_of_release', \n",
    "                        values ='total_sales'), annot=True, fmt = '.2f', ax=ax2)"
   ]
  },
  {
   "cell_type": "code",
   "execution_count": 29,
   "metadata": {
    "scrolled": true
   },
   "outputs": [
    {
     "data": {
      "text/plain": [
       "7.67741935483871"
      ]
     },
     "execution_count": 29,
     "metadata": {},
     "output_type": "execute_result"
    }
   ],
   "source": [
    "(data.year_of_release.nunique()-data.pivot_table(\n",
    "    index='year_of_release', \n",
    "    columns='platform', \n",
    "    values ='total_sales').isnull().sum()).mean()"
   ]
  },
  {
   "cell_type": "markdown",
   "metadata": {},
   "source": [
    "* Средний уровень \"жизни\" платформы около 7 лет"
   ]
  },
  {
   "cell_type": "code",
   "execution_count": 30,
   "metadata": {},
   "outputs": [
    {
     "data": {
      "text/html": [
       "<style  type=\"text/css\" >\n",
       "#T_8a122_row0_col0{\n",
       "            width:  10em;\n",
       "             height:  80%;\n",
       "            background:  linear-gradient(90deg,#d65f5f 100.0%, transparent 100.0%);\n",
       "        }#T_8a122_row1_col0{\n",
       "            width:  10em;\n",
       "             height:  80%;\n",
       "            background:  linear-gradient(90deg,#d65f5f 77.9%, transparent 77.9%);\n",
       "        }#T_8a122_row2_col0{\n",
       "            width:  10em;\n",
       "             height:  80%;\n",
       "            background:  linear-gradient(90deg,#d65f5f 75.5%, transparent 75.5%);\n",
       "        }#T_8a122_row3_col0{\n",
       "            width:  10em;\n",
       "             height:  80%;\n",
       "            background:  linear-gradient(90deg,#d65f5f 72.2%, transparent 72.2%);\n",
       "        }#T_8a122_row4_col0{\n",
       "            width:  10em;\n",
       "             height:  80%;\n",
       "            background:  linear-gradient(90deg,#d65f5f 65.1%, transparent 65.1%);\n",
       "        }#T_8a122_row5_col0{\n",
       "            width:  10em;\n",
       "             height:  80%;\n",
       "            background:  linear-gradient(90deg,#d65f5f 59.0%, transparent 59.0%);\n",
       "        }#T_8a122_row6_col0{\n",
       "            width:  10em;\n",
       "             height:  80%;\n",
       "            background:  linear-gradient(90deg,#d65f5f 25.5%, transparent 25.5%);\n",
       "        }#T_8a122_row7_col0{\n",
       "            width:  10em;\n",
       "             height:  80%;\n",
       "            background:  linear-gradient(90deg,#d65f5f 25.4%, transparent 25.4%);\n",
       "        }#T_8a122_row8_col0{\n",
       "            width:  10em;\n",
       "             height:  80%;\n",
       "            background:  linear-gradient(90deg,#d65f5f 23.5%, transparent 23.5%);\n",
       "        }#T_8a122_row9_col0{\n",
       "            width:  10em;\n",
       "             height:  80%;\n",
       "            background:  linear-gradient(90deg,#d65f5f 20.9%, transparent 20.9%);\n",
       "        }#T_8a122_row10_col0{\n",
       "            width:  10em;\n",
       "             height:  80%;\n",
       "            background:  linear-gradient(90deg,#d65f5f 20.7%, transparent 20.7%);\n",
       "        }#T_8a122_row11_col0{\n",
       "            width:  10em;\n",
       "             height:  80%;\n",
       "            background:  linear-gradient(90deg,#d65f5f 20.6%, transparent 20.6%);\n",
       "        }#T_8a122_row12_col0{\n",
       "            width:  10em;\n",
       "             height:  80%;\n",
       "            background:  linear-gradient(90deg,#d65f5f 20.4%, transparent 20.4%);\n",
       "        }#T_8a122_row13_col0{\n",
       "            width:  10em;\n",
       "             height:  80%;\n",
       "            background:  linear-gradient(90deg,#d65f5f 20.3%, transparent 20.3%);\n",
       "        }#T_8a122_row14_col0{\n",
       "            width:  10em;\n",
       "             height:  80%;\n",
       "            background:  linear-gradient(90deg,#d65f5f 17.7%, transparent 17.7%);\n",
       "        }#T_8a122_row15_col0{\n",
       "            width:  10em;\n",
       "             height:  80%;\n",
       "            background:  linear-gradient(90deg,#d65f5f 16.2%, transparent 16.2%);\n",
       "        }#T_8a122_row16_col0{\n",
       "            width:  10em;\n",
       "             height:  80%;\n",
       "            background:  linear-gradient(90deg,#d65f5f 15.9%, transparent 15.9%);\n",
       "        }#T_8a122_row17_col0{\n",
       "            width:  10em;\n",
       "             height:  80%;\n",
       "            background:  linear-gradient(90deg,#d65f5f 12.9%, transparent 12.9%);\n",
       "        }#T_8a122_row18_col0{\n",
       "            width:  10em;\n",
       "             height:  80%;\n",
       "            background:  linear-gradient(90deg,#d65f5f 7.0%, transparent 7.0%);\n",
       "        }#T_8a122_row19_col0{\n",
       "            width:  10em;\n",
       "             height:  80%;\n",
       "            background:  linear-gradient(90deg,#d65f5f 6.7%, transparent 6.7%);\n",
       "        }#T_8a122_row20_col0{\n",
       "            width:  10em;\n",
       "             height:  80%;\n",
       "            background:  linear-gradient(90deg,#d65f5f 4.4%, transparent 4.4%);\n",
       "        }#T_8a122_row21_col0{\n",
       "            width:  10em;\n",
       "             height:  80%;\n",
       "            background:  linear-gradient(90deg,#d65f5f 2.7%, transparent 2.7%);\n",
       "        }#T_8a122_row22_col0{\n",
       "            width:  10em;\n",
       "             height:  80%;\n",
       "            background:  linear-gradient(90deg,#d65f5f 2.5%, transparent 2.5%);\n",
       "        }#T_8a122_row23_col0{\n",
       "            width:  10em;\n",
       "             height:  80%;\n",
       "            background:  linear-gradient(90deg,#d65f5f 1.3%, transparent 1.3%);\n",
       "        }#T_8a122_row24_col0,#T_8a122_row25_col0,#T_8a122_row26_col0{\n",
       "            width:  10em;\n",
       "             height:  80%;\n",
       "            background:  linear-gradient(90deg,#d65f5f 0.1%, transparent 0.1%);\n",
       "        }#T_8a122_row27_col0,#T_8a122_row28_col0,#T_8a122_row29_col0{\n",
       "            width:  10em;\n",
       "             height:  80%;\n",
       "            background:  linear-gradient(90deg,#d65f5f 0.0%, transparent 0.0%);\n",
       "        }#T_8a122_row30_col0{\n",
       "            width:  10em;\n",
       "             height:  80%;\n",
       "        }</style><table id=\"T_8a122_\" ><thead>    <tr>        <th class=\"blank level0\" ></th>        <th class=\"col_heading level0 col0\" >total_sales</th>    </tr>    <tr>        <th class=\"index_name level0\" >platform</th>        <th class=\"blank\" ></th>    </tr></thead><tbody>\n",
       "                <tr>\n",
       "                        <th id=\"T_8a122_level0_row0\" class=\"row_heading level0 row0\" >PS2</th>\n",
       "                        <td id=\"T_8a122_row0_col0\" class=\"data row0 col0\" >1233.560000</td>\n",
       "            </tr>\n",
       "            <tr>\n",
       "                        <th id=\"T_8a122_level0_row1\" class=\"row_heading level0 row1\" >X360</th>\n",
       "                        <td id=\"T_8a122_row1_col0\" class=\"data row1 col0\" >961.240000</td>\n",
       "            </tr>\n",
       "            <tr>\n",
       "                        <th id=\"T_8a122_level0_row2\" class=\"row_heading level0 row2\" >PS3</th>\n",
       "                        <td id=\"T_8a122_row2_col0\" class=\"data row2 col0\" >931.340000</td>\n",
       "            </tr>\n",
       "            <tr>\n",
       "                        <th id=\"T_8a122_level0_row3\" class=\"row_heading level0 row3\" >Wii</th>\n",
       "                        <td id=\"T_8a122_row3_col0\" class=\"data row3 col0\" >891.180000</td>\n",
       "            </tr>\n",
       "            <tr>\n",
       "                        <th id=\"T_8a122_level0_row4\" class=\"row_heading level0 row4\" >DS</th>\n",
       "                        <td id=\"T_8a122_row4_col0\" class=\"data row4 col0\" >802.780000</td>\n",
       "            </tr>\n",
       "            <tr>\n",
       "                        <th id=\"T_8a122_level0_row5\" class=\"row_heading level0 row5\" >PS</th>\n",
       "                        <td id=\"T_8a122_row5_col0\" class=\"data row5 col0\" >727.580000</td>\n",
       "            </tr>\n",
       "            <tr>\n",
       "                        <th id=\"T_8a122_level0_row6\" class=\"row_heading level0 row6\" >PS4</th>\n",
       "                        <td id=\"T_8a122_row6_col0\" class=\"data row6 col0\" >314.140000</td>\n",
       "            </tr>\n",
       "            <tr>\n",
       "                        <th id=\"T_8a122_level0_row7\" class=\"row_heading level0 row7\" >GBA</th>\n",
       "                        <td id=\"T_8a122_row7_col0\" class=\"data row7 col0\" >312.880000</td>\n",
       "            </tr>\n",
       "            <tr>\n",
       "                        <th id=\"T_8a122_level0_row8\" class=\"row_heading level0 row8\" >PSP</th>\n",
       "                        <td id=\"T_8a122_row8_col0\" class=\"data row8 col0\" >289.530000</td>\n",
       "            </tr>\n",
       "            <tr>\n",
       "                        <th id=\"T_8a122_level0_row9\" class=\"row_heading level0 row9\" >3DS</th>\n",
       "                        <td id=\"T_8a122_row9_col0\" class=\"data row9 col0\" >257.810000</td>\n",
       "            </tr>\n",
       "            <tr>\n",
       "                        <th id=\"T_8a122_level0_row10\" class=\"row_heading level0 row10\" >PC</th>\n",
       "                        <td id=\"T_8a122_row10_col0\" class=\"data row10 col0\" >255.760000</td>\n",
       "            </tr>\n",
       "            <tr>\n",
       "                        <th id=\"T_8a122_level0_row11\" class=\"row_heading level0 row11\" >GB</th>\n",
       "                        <td id=\"T_8a122_row11_col0\" class=\"data row11 col0\" >254.430000</td>\n",
       "            </tr>\n",
       "            <tr>\n",
       "                        <th id=\"T_8a122_level0_row12\" class=\"row_heading level0 row12\" >XB</th>\n",
       "                        <td id=\"T_8a122_row12_col0\" class=\"data row12 col0\" >251.570000</td>\n",
       "            </tr>\n",
       "            <tr>\n",
       "                        <th id=\"T_8a122_level0_row13\" class=\"row_heading level0 row13\" >NES</th>\n",
       "                        <td id=\"T_8a122_row13_col0\" class=\"data row13 col0\" >251.050000</td>\n",
       "            </tr>\n",
       "            <tr>\n",
       "                        <th id=\"T_8a122_level0_row14\" class=\"row_heading level0 row14\" >N64</th>\n",
       "                        <td id=\"T_8a122_row14_col0\" class=\"data row14 col0\" >218.010000</td>\n",
       "            </tr>\n",
       "            <tr>\n",
       "                        <th id=\"T_8a122_level0_row15\" class=\"row_heading level0 row15\" >SNES</th>\n",
       "                        <td id=\"T_8a122_row15_col0\" class=\"data row15 col0\" >200.040000</td>\n",
       "            </tr>\n",
       "            <tr>\n",
       "                        <th id=\"T_8a122_level0_row16\" class=\"row_heading level0 row16\" >GC</th>\n",
       "                        <td id=\"T_8a122_row16_col0\" class=\"data row16 col0\" >196.730000</td>\n",
       "            </tr>\n",
       "            <tr>\n",
       "                        <th id=\"T_8a122_level0_row17\" class=\"row_heading level0 row17\" >XOne</th>\n",
       "                        <td id=\"T_8a122_row17_col0\" class=\"data row17 col0\" >159.320000</td>\n",
       "            </tr>\n",
       "            <tr>\n",
       "                        <th id=\"T_8a122_level0_row18\" class=\"row_heading level0 row18\" >2600</th>\n",
       "                        <td id=\"T_8a122_row18_col0\" class=\"data row18 col0\" >86.480000</td>\n",
       "            </tr>\n",
       "            <tr>\n",
       "                        <th id=\"T_8a122_level0_row19\" class=\"row_heading level0 row19\" >WiiU</th>\n",
       "                        <td id=\"T_8a122_row19_col0\" class=\"data row19 col0\" >82.190000</td>\n",
       "            </tr>\n",
       "            <tr>\n",
       "                        <th id=\"T_8a122_level0_row20\" class=\"row_heading level0 row20\" >PSV</th>\n",
       "                        <td id=\"T_8a122_row20_col0\" class=\"data row20 col0\" >53.810000</td>\n",
       "            </tr>\n",
       "            <tr>\n",
       "                        <th id=\"T_8a122_level0_row21\" class=\"row_heading level0 row21\" >SAT</th>\n",
       "                        <td id=\"T_8a122_row21_col0\" class=\"data row21 col0\" >33.590000</td>\n",
       "            </tr>\n",
       "            <tr>\n",
       "                        <th id=\"T_8a122_level0_row22\" class=\"row_heading level0 row22\" >GEN</th>\n",
       "                        <td id=\"T_8a122_row22_col0\" class=\"data row22 col0\" >30.770000</td>\n",
       "            </tr>\n",
       "            <tr>\n",
       "                        <th id=\"T_8a122_level0_row23\" class=\"row_heading level0 row23\" >DC</th>\n",
       "                        <td id=\"T_8a122_row23_col0\" class=\"data row23 col0\" >15.950000</td>\n",
       "            </tr>\n",
       "            <tr>\n",
       "                        <th id=\"T_8a122_level0_row24\" class=\"row_heading level0 row24\" >SCD</th>\n",
       "                        <td id=\"T_8a122_row24_col0\" class=\"data row24 col0\" >1.860000</td>\n",
       "            </tr>\n",
       "            <tr>\n",
       "                        <th id=\"T_8a122_level0_row25\" class=\"row_heading level0 row25\" >NG</th>\n",
       "                        <td id=\"T_8a122_row25_col0\" class=\"data row25 col0\" >1.440000</td>\n",
       "            </tr>\n",
       "            <tr>\n",
       "                        <th id=\"T_8a122_level0_row26\" class=\"row_heading level0 row26\" >WS</th>\n",
       "                        <td id=\"T_8a122_row26_col0\" class=\"data row26 col0\" >1.420000</td>\n",
       "            </tr>\n",
       "            <tr>\n",
       "                        <th id=\"T_8a122_level0_row27\" class=\"row_heading level0 row27\" >TG16</th>\n",
       "                        <td id=\"T_8a122_row27_col0\" class=\"data row27 col0\" >0.160000</td>\n",
       "            </tr>\n",
       "            <tr>\n",
       "                        <th id=\"T_8a122_level0_row28\" class=\"row_heading level0 row28\" >3DO</th>\n",
       "                        <td id=\"T_8a122_row28_col0\" class=\"data row28 col0\" >0.100000</td>\n",
       "            </tr>\n",
       "            <tr>\n",
       "                        <th id=\"T_8a122_level0_row29\" class=\"row_heading level0 row29\" >GG</th>\n",
       "                        <td id=\"T_8a122_row29_col0\" class=\"data row29 col0\" >0.040000</td>\n",
       "            </tr>\n",
       "            <tr>\n",
       "                        <th id=\"T_8a122_level0_row30\" class=\"row_heading level0 row30\" >PCFX</th>\n",
       "                        <td id=\"T_8a122_row30_col0\" class=\"data row30 col0\" >0.030000</td>\n",
       "            </tr>\n",
       "    </tbody></table>"
      ],
      "text/plain": [
       "<pandas.io.formats.style.Styler at 0x7fb69dc901c0>"
      ]
     },
     "execution_count": 30,
     "metadata": {},
     "output_type": "execute_result"
    }
   ],
   "source": [
    "platform_sales.style.bar()"
   ]
  },
  {
   "cell_type": "markdown",
   "metadata": {},
   "source": [
    "* Видно,что первые 6 платформ сильно оторвались по продажам от остальных"
   ]
  },
  {
   "cell_type": "markdown",
   "metadata": {},
   "source": [
    "* Сужаем актуальный период с (1998-2016) до (2013-2016) т.к. с 2013 года представлены почти все популярные платформы (видно из тепловой карты).\n",
    "* После пика в 2013 году продажи игр на основных платформах падают (даже с учетом неполных данных за 2016 год).\n",
    "* Можно предположить, что потенциально прибыльные платформы это PS4, XONE, 3DS. PS4, XONE относительно \"свежие\" (срок их жизни почти в 2 раза меньше среднего). Падение продаж 3DS не такое значительное, как у остальных платформ."
   ]
  },
  {
   "cell_type": "code",
   "execution_count": 31,
   "metadata": {},
   "outputs": [],
   "source": [
    "data_research = data.query('year_of_release >= 2013')"
   ]
  },
  {
   "cell_type": "code",
   "execution_count": 32,
   "metadata": {},
   "outputs": [
    {
     "name": "stdout",
     "output_type": "stream",
     "text": [
      "<class 'pandas.core.frame.DataFrame'>\n",
      "Int64Index: 2233 entries, 16 to 16714\n",
      "Data columns (total 12 columns):\n",
      " #   Column           Non-Null Count  Dtype  \n",
      "---  ------           --------------  -----  \n",
      " 0   name             2233 non-null   object \n",
      " 1   platform         2233 non-null   object \n",
      " 2   year_of_release  2233 non-null   int64  \n",
      " 3   genre            2233 non-null   object \n",
      " 4   na_sales         2233 non-null   float64\n",
      " 5   eu_sales         2233 non-null   float64\n",
      " 6   jp_sales         2233 non-null   float64\n",
      " 7   other_sales      2233 non-null   float64\n",
      " 8   critic_score     991 non-null    float64\n",
      " 9   user_score       1192 non-null   float64\n",
      " 10  rating           1256 non-null   object \n",
      " 11  total_sales      2233 non-null   float64\n",
      "dtypes: float64(7), int64(1), object(4)\n",
      "memory usage: 226.8+ KB\n"
     ]
    }
   ],
   "source": [
    "data_research.info()"
   ]
  },
  {
   "cell_type": "code",
   "execution_count": 33,
   "metadata": {},
   "outputs": [],
   "source": [
    "platform_sales = data_research.groupby('platform')[['total_sales']] \\\n",
    ".sum().sort_values('total_sales', ascending=False)"
   ]
  },
  {
   "cell_type": "code",
   "execution_count": 34,
   "metadata": {},
   "outputs": [
    {
     "data": {
      "text/html": [
       "<style  type=\"text/css\" >\n",
       "#T_f8f28_row0_col0{\n",
       "            width:  10em;\n",
       "             height:  80%;\n",
       "            background:  linear-gradient(90deg,#d65f5f 100.0%, transparent 100.0%);\n",
       "        }#T_f8f28_row1_col0{\n",
       "            width:  10em;\n",
       "             height:  80%;\n",
       "            background:  linear-gradient(90deg,#d65f5f 57.5%, transparent 57.5%);\n",
       "        }#T_f8f28_row2_col0{\n",
       "            width:  10em;\n",
       "             height:  80%;\n",
       "            background:  linear-gradient(90deg,#d65f5f 50.5%, transparent 50.5%);\n",
       "        }#T_f8f28_row3_col0{\n",
       "            width:  10em;\n",
       "             height:  80%;\n",
       "            background:  linear-gradient(90deg,#d65f5f 45.3%, transparent 45.3%);\n",
       "        }#T_f8f28_row4_col0{\n",
       "            width:  10em;\n",
       "             height:  80%;\n",
       "            background:  linear-gradient(90deg,#d65f5f 43.3%, transparent 43.3%);\n",
       "        }#T_f8f28_row5_col0{\n",
       "            width:  10em;\n",
       "             height:  80%;\n",
       "            background:  linear-gradient(90deg,#d65f5f 20.2%, transparent 20.2%);\n",
       "        }#T_f8f28_row6_col0{\n",
       "            width:  10em;\n",
       "             height:  80%;\n",
       "            background:  linear-gradient(90deg,#d65f5f 12.1%, transparent 12.1%);\n",
       "        }#T_f8f28_row7_col0{\n",
       "            width:  10em;\n",
       "             height:  80%;\n",
       "            background:  linear-gradient(90deg,#d65f5f 10.1%, transparent 10.1%);\n",
       "        }#T_f8f28_row8_col0{\n",
       "            width:  10em;\n",
       "             height:  80%;\n",
       "            background:  linear-gradient(90deg,#d65f5f 3.9%, transparent 3.9%);\n",
       "        }#T_f8f28_row9_col0{\n",
       "            width:  10em;\n",
       "             height:  80%;\n",
       "            background:  linear-gradient(90deg,#d65f5f 0.6%, transparent 0.6%);\n",
       "        }#T_f8f28_row10_col0{\n",
       "            width:  10em;\n",
       "             height:  80%;\n",
       "        }</style><table id=\"T_f8f28_\" ><thead>    <tr>        <th class=\"blank level0\" ></th>        <th class=\"col_heading level0 col0\" >total_sales</th>    </tr>    <tr>        <th class=\"index_name level0\" >platform</th>        <th class=\"blank\" ></th>    </tr></thead><tbody>\n",
       "                <tr>\n",
       "                        <th id=\"T_f8f28_level0_row0\" class=\"row_heading level0 row0\" >PS4</th>\n",
       "                        <td id=\"T_f8f28_row0_col0\" class=\"data row0 col0\" >314.140000</td>\n",
       "            </tr>\n",
       "            <tr>\n",
       "                        <th id=\"T_f8f28_level0_row1\" class=\"row_heading level0 row1\" >PS3</th>\n",
       "                        <td id=\"T_f8f28_row1_col0\" class=\"data row1 col0\" >181.430000</td>\n",
       "            </tr>\n",
       "            <tr>\n",
       "                        <th id=\"T_f8f28_level0_row2\" class=\"row_heading level0 row2\" >XOne</th>\n",
       "                        <td id=\"T_f8f28_row2_col0\" class=\"data row2 col0\" >159.320000</td>\n",
       "            </tr>\n",
       "            <tr>\n",
       "                        <th id=\"T_f8f28_level0_row3\" class=\"row_heading level0 row3\" >3DS</th>\n",
       "                        <td id=\"T_f8f28_row3_col0\" class=\"data row3 col0\" >143.250000</td>\n",
       "            </tr>\n",
       "            <tr>\n",
       "                        <th id=\"T_f8f28_level0_row4\" class=\"row_heading level0 row4\" >X360</th>\n",
       "                        <td id=\"T_f8f28_row4_col0\" class=\"data row4 col0\" >136.800000</td>\n",
       "            </tr>\n",
       "            <tr>\n",
       "                        <th id=\"T_f8f28_level0_row5\" class=\"row_heading level0 row5\" >WiiU</th>\n",
       "                        <td id=\"T_f8f28_row5_col0\" class=\"data row5 col0\" >64.630000</td>\n",
       "            </tr>\n",
       "            <tr>\n",
       "                        <th id=\"T_f8f28_level0_row6\" class=\"row_heading level0 row6\" >PC</th>\n",
       "                        <td id=\"T_f8f28_row6_col0\" class=\"data row6 col0\" >39.430000</td>\n",
       "            </tr>\n",
       "            <tr>\n",
       "                        <th id=\"T_f8f28_level0_row7\" class=\"row_heading level0 row7\" >PSV</th>\n",
       "                        <td id=\"T_f8f28_row7_col0\" class=\"data row7 col0\" >32.990000</td>\n",
       "            </tr>\n",
       "            <tr>\n",
       "                        <th id=\"T_f8f28_level0_row8\" class=\"row_heading level0 row8\" >Wii</th>\n",
       "                        <td id=\"T_f8f28_row8_col0\" class=\"data row8 col0\" >13.660000</td>\n",
       "            </tr>\n",
       "            <tr>\n",
       "                        <th id=\"T_f8f28_level0_row9\" class=\"row_heading level0 row9\" >PSP</th>\n",
       "                        <td id=\"T_f8f28_row9_col0\" class=\"data row9 col0\" >3.500000</td>\n",
       "            </tr>\n",
       "            <tr>\n",
       "                        <th id=\"T_f8f28_level0_row10\" class=\"row_heading level0 row10\" >DS</th>\n",
       "                        <td id=\"T_f8f28_row10_col0\" class=\"data row10 col0\" >1.540000</td>\n",
       "            </tr>\n",
       "    </tbody></table>"
      ],
      "text/plain": [
       "<pandas.io.formats.style.Styler at 0x7fb69dc9b790>"
      ]
     },
     "execution_count": 34,
     "metadata": {},
     "output_type": "execute_result"
    }
   ],
   "source": [
    "platform_sales.style.bar()"
   ]
  },
  {
   "cell_type": "code",
   "execution_count": 35,
   "metadata": {},
   "outputs": [
    {
     "data": {
      "text/plain": [
       "<AxesSubplot:xlabel='total_sales', ylabel='platform'>"
      ]
     },
     "execution_count": 35,
     "metadata": {},
     "output_type": "execute_result"
    },
    {
     "data": {
      "image/png": "[encoded data removed]",
      "text/plain": [
       "<Figure size 720x720 with 1 Axes>"
      ]
     },
     "metadata": {
      "needs_background": "light"
     },
     "output_type": "display_data"
    }
   ],
   "source": [
    "fig5, ax5 = plt.subplots(figsize=(10, 10))\n",
    "sns.boxplot(x='total_sales', y='platform', data=data_research, orient='h')"
   ]
  },
  {
   "cell_type": "markdown",
   "metadata": {},
   "source": [
    "* выбросы на этом графике - наиболее успешные игры (скорее всего эксклюзивы для этих платформ)\n",
    "* больше всего успешных игр на платформах от Sony (PS3, PS4)."
   ]
  },
  {
   "cell_type": "code",
   "execution_count": 47,
   "metadata": {},
   "outputs": [
    {
     "data": {
      "text/plain": [
       "<AxesSubplot:xlabel='total_sales', ylabel='platform'>"
      ]
     },
     "execution_count": 47,
     "metadata": {},
     "output_type": "execute_result"
    },
    {
     "data": {
      "image/png": "[encoded data removed]",
      "text/plain": [
       "<Figure size 1500x1500 with 1 Axes>"
      ]
     },
     "metadata": {
      "needs_background": "light"
     },
     "output_type": "display_data"
    }
   ],
   "source": [
    "# Код ревьюера\n",
    "\n",
    "fig5, ax5 = plt.subplots(figsize=(10, 10), dpi=150)\n",
    "sns.boxplot(x='total_sales', y='platform', data=data_research, orient='h', showfliers=False)"
   ]
  },
  {
   "cell_type": "markdown",
   "metadata": {},
   "source": [
    "### 3.3 Зависимость оценок и продаж."
   ]
  },
  {
   "cell_type": "code",
   "execution_count": 36,
   "metadata": {},
   "outputs": [],
   "source": [
    "data_x360 = data_research.query('platform == \"X360\"').query('total_sales <10')\n",
    "data_ps4= data_research.query('platform == \"PS4\"').query('total_sales <10')"
   ]
  },
  {
   "cell_type": "code",
   "execution_count": 37,
   "metadata": {},
   "outputs": [
    {
     "name": "stdout",
     "output_type": "stream",
     "text": [
      "Коэффициент корреляции Пирсона: 0.478\n",
      "Коэффициент корреляции Пирсона: -0.028\n"
     ]
    },
    {
     "data": {
      "image/png": "[encoded data removed]",
      "text/plain": [
       "<Figure size 432x288 with 1 Axes>"
      ]
     },
     "metadata": {
      "needs_background": "light"
     },
     "output_type": "display_data"
    }
   ],
   "source": [
    "sns.scatterplot(data=data_x360, y='total_sales', x='critic_score')\n",
    "sns.scatterplot(data=data_x360, y='total_sales', x='user_score')\n",
    "print (f'Коэффициент корреляции Пирсона: {round(data_x360.total_sales.corr(data_x360.critic_score),3)}')\n",
    "print (f'Коэффициент корреляции Пирсона: {round(data_x360.total_sales.corr(data_x360.user_score),3)}')"
   ]
  },
  {
   "cell_type": "code",
   "execution_count": 38,
   "metadata": {
    "scrolled": true
   },
   "outputs": [
    {
     "name": "stdout",
     "output_type": "stream",
     "text": [
      "Коэффициент корреляции Пирсона: 0.245\n",
      "Коэффициент корреляции Пирсона: 0.088\n"
     ]
    },
    {
     "data": {
      "image/png": "[encoded data removed]",
      "text/plain": [
       "<Figure size 432x288 with 1 Axes>"
      ]
     },
     "metadata": {
      "needs_background": "light"
     },
     "output_type": "display_data"
    }
   ],
   "source": [
    "sns.scatterplot(data=data_ps4, y='total_sales', x='critic_score')\n",
    "sns.scatterplot(data=data_ps4, y='total_sales', x='user_score')\n",
    "print (f'Коэффициент корреляции Пирсона: {round(data.total_sales.corr(data.critic_score), 3)}')\n",
    "print (f'Коэффициент корреляции Пирсона: {round(data.total_sales.corr(data.user_score), 3)}')"
   ]
  },
  {
   "cell_type": "markdown",
   "metadata": {},
   "source": [
    "* Оценки критиков имеют бОльший вес, чем оценки пользователей как для  Х360, так и для PS4.\n",
    "* Для Х360 оценки критиков влияют сильнее, чем для PS4.\n",
    "* Оценки пользователей практически не влияют на продажи, в случае с X360 зафиксирована даже небольшая отрицательная корреляция."
   ]
  },
  {
   "cell_type": "code",
   "execution_count": 48,
   "metadata": {},
   "outputs": [
    {
     "name": "stderr",
     "output_type": "stream",
     "text": [
      "/opt/conda/lib/python3.9/site-packages/numpy/lib/function_base.py:2683: RuntimeWarning: Degrees of freedom <= 0 for slice\n",
      "  c = cov(x, y, rowvar, dtype=dtype)\n",
      "/opt/conda/lib/python3.9/site-packages/numpy/lib/function_base.py:2542: RuntimeWarning: divide by zero encountered in true_divide\n",
      "  c *= np.true_divide(1, fact)\n"
     ]
    },
    {
     "data": {
      "text/html": [
       "<div>\n",
       "<style scoped>\n",
       "    .dataframe tbody tr th:only-of-type {\n",
       "        vertical-align: middle;\n",
       "    }\n",
       "\n",
       "    .dataframe tbody tr th {\n",
       "        vertical-align: top;\n",
       "    }\n",
       "\n",
       "    .dataframe thead th {\n",
       "        text-align: right;\n",
       "    }\n",
       "</style>\n",
       "<table border=\"1\" class=\"dataframe\">\n",
       "  <thead>\n",
       "    <tr style=\"text-align: right;\">\n",
       "      <th></th>\n",
       "      <th>user_score</th>\n",
       "      <th>critic_score</th>\n",
       "    </tr>\n",
       "    <tr>\n",
       "      <th>platform</th>\n",
       "      <th></th>\n",
       "      <th></th>\n",
       "    </tr>\n",
       "  </thead>\n",
       "  <tbody>\n",
       "    <tr>\n",
       "      <th>3DS</th>\n",
       "      <td>0.24</td>\n",
       "      <td>0.36</td>\n",
       "    </tr>\n",
       "    <tr>\n",
       "      <th>DS</th>\n",
       "      <td>NaN</td>\n",
       "      <td>NaN</td>\n",
       "    </tr>\n",
       "    <tr>\n",
       "      <th>PC</th>\n",
       "      <td>-0.09</td>\n",
       "      <td>0.20</td>\n",
       "    </tr>\n",
       "    <tr>\n",
       "      <th>PS3</th>\n",
       "      <td>0.00</td>\n",
       "      <td>0.33</td>\n",
       "    </tr>\n",
       "    <tr>\n",
       "      <th>PS4</th>\n",
       "      <td>-0.03</td>\n",
       "      <td>0.41</td>\n",
       "    </tr>\n",
       "    <tr>\n",
       "      <th>PSP</th>\n",
       "      <td>-1.00</td>\n",
       "      <td>NaN</td>\n",
       "    </tr>\n",
       "    <tr>\n",
       "      <th>PSV</th>\n",
       "      <td>0.00</td>\n",
       "      <td>0.25</td>\n",
       "    </tr>\n",
       "    <tr>\n",
       "      <th>Wii</th>\n",
       "      <td>0.68</td>\n",
       "      <td>NaN</td>\n",
       "    </tr>\n",
       "    <tr>\n",
       "      <th>WiiU</th>\n",
       "      <td>0.42</td>\n",
       "      <td>0.38</td>\n",
       "    </tr>\n",
       "    <tr>\n",
       "      <th>X360</th>\n",
       "      <td>-0.01</td>\n",
       "      <td>0.35</td>\n",
       "    </tr>\n",
       "    <tr>\n",
       "      <th>XOne</th>\n",
       "      <td>-0.07</td>\n",
       "      <td>0.42</td>\n",
       "    </tr>\n",
       "  </tbody>\n",
       "</table>\n",
       "</div>"
      ],
      "text/plain": [
       "          user_score  critic_score\n",
       "platform                          \n",
       "3DS             0.24          0.36\n",
       "DS               NaN           NaN\n",
       "PC             -0.09          0.20\n",
       "PS3             0.00          0.33\n",
       "PS4            -0.03          0.41\n",
       "PSP            -1.00           NaN\n",
       "PSV             0.00          0.25\n",
       "Wii             0.68           NaN\n",
       "WiiU            0.42          0.38\n",
       "X360           -0.01          0.35\n",
       "XOne           -0.07          0.42"
      ]
     },
     "execution_count": 48,
     "metadata": {},
     "output_type": "execute_result"
    }
   ],
   "source": [
    "# Код ревьюера\n",
    "\n",
    "data_research.groupby('platform')[['user_score','critic_score']].corrwith(data_research['total_sales']).round(2)"
   ]
  },
  {
   "cell_type": "markdown",
   "metadata": {},
   "source": [
    "\n",
    "### 3.3 Зависимость жанра и продаж.\n"
   ]
  },
  {
   "cell_type": "code",
   "execution_count": 39,
   "metadata": {},
   "outputs": [
    {
     "data": {
      "text/html": [
       "<style  type=\"text/css\" >\n",
       "#T_54cb2_row0_col0{\n",
       "            width:  10em;\n",
       "             height:  80%;\n",
       "            background:  linear-gradient(90deg,#d65f5f 100.0%, transparent 100.0%);\n",
       "        }#T_54cb2_row1_col0{\n",
       "            width:  10em;\n",
       "             height:  80%;\n",
       "            background:  linear-gradient(90deg,#d65f5f 52.9%, transparent 52.9%);\n",
       "        }#T_54cb2_row2_col0{\n",
       "            width:  10em;\n",
       "             height:  80%;\n",
       "            background:  linear-gradient(90deg,#d65f5f 41.7%, transparent 41.7%);\n",
       "        }#T_54cb2_row3_col0{\n",
       "            width:  10em;\n",
       "             height:  80%;\n",
       "            background:  linear-gradient(90deg,#d65f5f 35.1%, transparent 35.1%);\n",
       "        }#T_54cb2_row4_col0{\n",
       "            width:  10em;\n",
       "             height:  80%;\n",
       "            background:  linear-gradient(90deg,#d65f5f 32.4%, transparent 32.4%);\n",
       "        }#T_54cb2_row5_col0{\n",
       "            width:  10em;\n",
       "             height:  80%;\n",
       "            background:  linear-gradient(90deg,#d65f5f 30.0%, transparent 30.0%);\n",
       "        }#T_54cb2_row6_col0{\n",
       "            width:  10em;\n",
       "             height:  80%;\n",
       "            background:  linear-gradient(90deg,#d65f5f 28.2%, transparent 28.2%);\n",
       "        }#T_54cb2_row7_col0{\n",
       "            width:  10em;\n",
       "             height:  80%;\n",
       "            background:  linear-gradient(90deg,#d65f5f 26.9%, transparent 26.9%);\n",
       "        }#T_54cb2_row8_col0{\n",
       "            width:  10em;\n",
       "             height:  80%;\n",
       "            background:  linear-gradient(90deg,#d65f5f 22.1%, transparent 22.1%);\n",
       "        }#T_54cb2_row9_col0{\n",
       "            width:  10em;\n",
       "             height:  80%;\n",
       "            background:  linear-gradient(90deg,#d65f5f 7.8%, transparent 7.8%);\n",
       "        }#T_54cb2_row10_col0{\n",
       "            width:  10em;\n",
       "             height:  80%;\n",
       "            background:  linear-gradient(90deg,#d65f5f 7.3%, transparent 7.3%);\n",
       "        }#T_54cb2_row11_col0{\n",
       "            width:  10em;\n",
       "             height:  80%;\n",
       "        }</style><table id=\"T_54cb2_\" ><thead>    <tr>        <th class=\"blank level0\" ></th>        <th class=\"col_heading level0 col0\" >total_sales</th>    </tr>    <tr>        <th class=\"index_name level0\" >genre</th>        <th class=\"blank\" ></th>    </tr></thead><tbody>\n",
       "                <tr>\n",
       "                        <th id=\"T_54cb2_level0_row0\" class=\"row_heading level0 row0\" >Shooter</th>\n",
       "                        <td id=\"T_54cb2_row0_col0\" class=\"data row0 col0\" >1.245882</td>\n",
       "            </tr>\n",
       "            <tr>\n",
       "                        <th id=\"T_54cb2_level0_row1\" class=\"row_heading level0 row1\" >Sports</th>\n",
       "                        <td id=\"T_54cb2_row1_col0\" class=\"data row1 col0\" >0.703972</td>\n",
       "            </tr>\n",
       "            <tr>\n",
       "                        <th id=\"T_54cb2_level0_row2\" class=\"row_heading level0 row2\" >Platform</th>\n",
       "                        <td id=\"T_54cb2_row2_col0\" class=\"data row2 col0\" >0.576081</td>\n",
       "            </tr>\n",
       "            <tr>\n",
       "                        <th id=\"T_54cb2_level0_row3\" class=\"row_heading level0 row3\" >Role-Playing</th>\n",
       "                        <td id=\"T_54cb2_row3_col0\" class=\"data row3 col0\" >0.499623</td>\n",
       "            </tr>\n",
       "            <tr>\n",
       "                        <th id=\"T_54cb2_level0_row4\" class=\"row_heading level0 row4\" >Racing</th>\n",
       "                        <td id=\"T_54cb2_row4_col0\" class=\"data row4 col0\" >0.469294</td>\n",
       "            </tr>\n",
       "            <tr>\n",
       "                        <th id=\"T_54cb2_level0_row5\" class=\"row_heading level0 row5\" >Fighting</th>\n",
       "                        <td id=\"T_54cb2_row5_col0\" class=\"data row5 col0\" >0.441375</td>\n",
       "            </tr>\n",
       "            <tr>\n",
       "                        <th id=\"T_54cb2_level0_row6\" class=\"row_heading level0 row6\" >Action</th>\n",
       "                        <td id=\"T_54cb2_row6_col0\" class=\"data row6 col0\" >0.420196</td>\n",
       "            </tr>\n",
       "            <tr>\n",
       "                        <th id=\"T_54cb2_level0_row7\" class=\"row_heading level0 row7\" >Misc</th>\n",
       "                        <td id=\"T_54cb2_row7_col0\" class=\"data row7 col0\" >0.405290</td>\n",
       "            </tr>\n",
       "            <tr>\n",
       "                        <th id=\"T_54cb2_level0_row8\" class=\"row_heading level0 row8\" >Simulation</th>\n",
       "                        <td id=\"T_54cb2_row8_col0\" class=\"data row8 col0\" >0.350968</td>\n",
       "            </tr>\n",
       "            <tr>\n",
       "                        <th id=\"T_54cb2_level0_row9\" class=\"row_heading level0 row9\" >Puzzle</th>\n",
       "                        <td id=\"T_54cb2_row9_col0\" class=\"data row9 col0\" >0.186471</td>\n",
       "            </tr>\n",
       "            <tr>\n",
       "                        <th id=\"T_54cb2_level0_row10\" class=\"row_heading level0 row10\" >Strategy</th>\n",
       "                        <td id=\"T_54cb2_row10_col0\" class=\"data row10 col0\" >0.180000</td>\n",
       "            </tr>\n",
       "            <tr>\n",
       "                        <th id=\"T_54cb2_level0_row11\" class=\"row_heading level0 row11\" >Adventure</th>\n",
       "                        <td id=\"T_54cb2_row11_col0\" class=\"data row11 col0\" >0.096490</td>\n",
       "            </tr>\n",
       "    </tbody></table>"
      ],
      "text/plain": [
       "<pandas.io.formats.style.Styler at 0x7fb69c2dbd60>"
      ]
     },
     "execution_count": 39,
     "metadata": {},
     "output_type": "execute_result"
    }
   ],
   "source": [
    "data_research.pivot_table(index='genre', values ='total_sales') \\\n",
    ".sort_values(by='total_sales', ascending=False).style.bar()"
   ]
  },
  {
   "cell_type": "markdown",
   "metadata": {},
   "source": [
    "* Самые прибыльные жанр - шутер.\n",
    "* Хуже всего продаются адвенчуры (приключенческие игры)."
   ]
  },
  {
   "cell_type": "markdown",
   "metadata": {},
   "source": [
    "# 4. Составляем портрет пользователя разных регионов."
   ]
  },
  {
   "cell_type": "code",
   "execution_count": 56,
   "metadata": {},
   "outputs": [],
   "source": [
    "def display_side_by_side(*args,titles=cycle([''])):\n",
    "    html_str=''\n",
    "    for df,title in zip(args, chain(titles,cycle(['</br>'])) ):\n",
    "        html_str+='<th style=\"text-align:center\"><td style=\"vertical-align:top\">'\n",
    "        html_str+=f'<h2 style=\"text-align: center;\">{title}</h2>'\n",
    "#         Код ревьюера\n",
    "#         html_str+=df.to_html().replace('table','table style=\"display:inline\"')\n",
    "        html_str+=df.render().replace('table','table style=\"display:inline\"')\n",
    "        html_str+='</td></th>'\n",
    "    display_html(html_str,raw=True)"
   ]
  },
  {
   "cell_type": "markdown",
   "metadata": {},
   "source": [
    "### 4.1 Влияние платформы на продажи по регионам."
   ]
  },
  {
   "cell_type": "code",
   "execution_count": 57,
   "metadata": {
    "scrolled": true
   },
   "outputs": [
    {
     "data": {
      "text/html": [
       "<th style=\"text-align:center\"><td style=\"vertical-align:top\"><h2 style=\"text-align: center;\"></h2><style  type=\"text/css\" >\n",
       "#T_b33a3_row0_col0{\n",
       "            width:  10em;\n",
       "             height:  80%;\n",
       "            background:  linear-gradient(90deg,#d65f5f 100.0%, transparent 100.0%);\n",
       "        }#T_b33a3_row1_col0{\n",
       "            width:  10em;\n",
       "             height:  80%;\n",
       "            background:  linear-gradient(90deg,#d65f5f 77.9%, transparent 77.9%);\n",
       "        }#T_b33a3_row2_col0{\n",
       "            width:  10em;\n",
       "             height:  80%;\n",
       "            background:  linear-gradient(90deg,#d65f5f 61.6%, transparent 61.6%);\n",
       "        }#T_b33a3_row3_col0{\n",
       "            width:  10em;\n",
       "             height:  80%;\n",
       "            background:  linear-gradient(90deg,#d65f5f 35.9%, transparent 35.9%);\n",
       "        }#T_b33a3_row4_col0{\n",
       "            width:  10em;\n",
       "             height:  80%;\n",
       "        }</style><table style=\"display:inline\" id=\"T_b33a3_\" ><thead>    <tr>        <th class=\"blank level0\" ></th>        <th class=\"col_heading level0 col0\" >na_sales</th>    </tr>    <tr>        <th class=\"index_name level0\" >platform</th>        <th class=\"blank\" ></th>    </tr></thead><tbody>\n",
       "                <tr>\n",
       "                        <th id=\"T_b33a3_level0_row0\" class=\"row_heading level0 row0\" >PS4</th>\n",
       "                        <td id=\"T_b33a3_row0_col0\" class=\"data row0 col0\" >0.248429</td>\n",
       "            </tr>\n",
       "            <tr>\n",
       "                        <th id=\"T_b33a3_level0_row1\" class=\"row_heading level0 row1\" >XOne</th>\n",
       "                        <td id=\"T_b33a3_row1_col0\" class=\"data row1 col0\" >0.212744</td>\n",
       "            </tr>\n",
       "            <tr>\n",
       "                        <th id=\"T_b33a3_level0_row2\" class=\"row_heading level0 row2\" >X360</th>\n",
       "                        <td id=\"T_b33a3_row2_col0\" class=\"data row2 col0\" >0.186562</td>\n",
       "            </tr>\n",
       "            <tr>\n",
       "                        <th id=\"T_b33a3_level0_row3\" class=\"row_heading level0 row3\" >PS3</th>\n",
       "                        <td id=\"T_b33a3_row3_col0\" class=\"data row3 col0\" >0.145073</td>\n",
       "            </tr>\n",
       "            <tr>\n",
       "                        <th id=\"T_b33a3_level0_row4\" class=\"row_heading level0 row4\" >3DS</th>\n",
       "                        <td id=\"T_b33a3_row4_col0\" class=\"data row4 col0\" >0.087272</td>\n",
       "            </tr>\n",
       "    </tbody></table style=\"display:inline\"></td></th><th style=\"text-align:center\"><td style=\"vertical-align:top\"><h2 style=\"text-align: center;\"></h2><style  type=\"text/css\" >\n",
       "#T_983b7_row0_col0{\n",
       "            width:  10em;\n",
       "             height:  80%;\n",
       "            background:  linear-gradient(90deg,#d65f5f 100.0%, transparent 100.0%);\n",
       "        }#T_983b7_row1_col0{\n",
       "            width:  10em;\n",
       "             height:  80%;\n",
       "            background:  linear-gradient(90deg,#d65f5f 33.5%, transparent 33.5%);\n",
       "        }#T_983b7_row2_col0{\n",
       "            width:  10em;\n",
       "             height:  80%;\n",
       "            background:  linear-gradient(90deg,#d65f5f 18.7%, transparent 18.7%);\n",
       "        }#T_983b7_row3_col0{\n",
       "            width:  10em;\n",
       "             height:  80%;\n",
       "            background:  linear-gradient(90deg,#d65f5f 10.5%, transparent 10.5%);\n",
       "        }#T_983b7_row4_col0{\n",
       "            width:  10em;\n",
       "             height:  80%;\n",
       "        }</style><table style=\"display:inline\" id=\"T_983b7_\" ><thead>    <tr>        <th class=\"blank level0\" ></th>        <th class=\"col_heading level0 col0\" >eu_sales</th>    </tr>    <tr>        <th class=\"index_name level0\" >platform</th>        <th class=\"blank\" ></th>    </tr></thead><tbody>\n",
       "                <tr>\n",
       "                        <th id=\"T_983b7_level0_row0\" class=\"row_heading level0 row0\" >PS4</th>\n",
       "                        <td id=\"T_983b7_row0_col0\" class=\"data row0 col0\" >0.359712</td>\n",
       "            </tr>\n",
       "            <tr>\n",
       "                        <th id=\"T_983b7_level0_row1\" class=\"row_heading level0 row1\" >PS3</th>\n",
       "                        <td id=\"T_983b7_row1_col0\" class=\"data row1 col0\" >0.172883</td>\n",
       "            </tr>\n",
       "            <tr>\n",
       "                        <th id=\"T_983b7_level0_row2\" class=\"row_heading level0 row2\" >XOne</th>\n",
       "                        <td id=\"T_983b7_row2_col0\" class=\"data row2 col0\" >0.131530</td>\n",
       "            </tr>\n",
       "            <tr>\n",
       "                        <th id=\"T_983b7_level0_row3\" class=\"row_heading level0 row3\" >X360</th>\n",
       "                        <td id=\"T_983b7_row3_col0\" class=\"data row3 col0\" >0.108406</td>\n",
       "            </tr>\n",
       "            <tr>\n",
       "                        <th id=\"T_983b7_level0_row4\" class=\"row_heading level0 row4\" >3DS</th>\n",
       "                        <td id=\"T_983b7_row4_col0\" class=\"data row4 col0\" >0.078933</td>\n",
       "            </tr>\n",
       "    </tbody></table style=\"display:inline\"></td></th><th style=\"text-align:center\"><td style=\"vertical-align:top\"><h2 style=\"text-align: center;\"></h2><style  type=\"text/css\" >\n",
       "#T_aa9bd_row0_col0{\n",
       "            width:  10em;\n",
       "             height:  80%;\n",
       "            background:  linear-gradient(90deg,#d65f5f 100.0%, transparent 100.0%);\n",
       "        }#T_aa9bd_row1_col0{\n",
       "            width:  10em;\n",
       "             height:  80%;\n",
       "            background:  linear-gradient(90deg,#d65f5f 21.9%, transparent 21.9%);\n",
       "        }#T_aa9bd_row2_col0{\n",
       "            width:  10em;\n",
       "             height:  80%;\n",
       "            background:  linear-gradient(90deg,#d65f5f 13.5%, transparent 13.5%);\n",
       "        }#T_aa9bd_row3_col0{\n",
       "            width:  10em;\n",
       "             height:  80%;\n",
       "            background:  linear-gradient(90deg,#d65f5f 8.9%, transparent 8.9%);\n",
       "        }#T_aa9bd_row4_col0{\n",
       "            width:  10em;\n",
       "             height:  80%;\n",
       "        }</style><table style=\"display:inline\" id=\"T_aa9bd_\" ><thead>    <tr>        <th class=\"blank level0\" ></th>        <th class=\"col_heading level0 col0\" >jp_sales</th>    </tr>    <tr>        <th class=\"index_name level0\" >platform</th>        <th class=\"blank\" ></th>    </tr></thead><tbody>\n",
       "                <tr>\n",
       "                        <th id=\"T_aa9bd_level0_row0\" class=\"row_heading level0 row0\" >3DS</th>\n",
       "                        <td id=\"T_aa9bd_row0_col0\" class=\"data row0 col0\" >0.154920</td>\n",
       "            </tr>\n",
       "            <tr>\n",
       "                        <th id=\"T_aa9bd_level0_row1\" class=\"row_heading level0 row1\" >PS3</th>\n",
       "                        <td id=\"T_aa9bd_row1_col0\" class=\"data row1 col0\" >0.053346</td>\n",
       "            </tr>\n",
       "            <tr>\n",
       "                        <th id=\"T_aa9bd_level0_row2\" class=\"row_heading level0 row2\" >PSV</th>\n",
       "                        <td id=\"T_aa9bd_row2_col0\" class=\"data row2 col0\" >0.042471</td>\n",
       "            </tr>\n",
       "            <tr>\n",
       "                        <th id=\"T_aa9bd_level0_row3\" class=\"row_heading level0 row3\" >PS4</th>\n",
       "                        <td id=\"T_aa9bd_row3_col0\" class=\"data row3 col0\" >0.036462</td>\n",
       "            </tr>\n",
       "            <tr>\n",
       "                        <th id=\"T_aa9bd_level0_row4\" class=\"row_heading level0 row4\" >WiiU</th>\n",
       "                        <td id=\"T_aa9bd_row4_col0\" class=\"data row4 col0\" >0.024857</td>\n",
       "            </tr>\n",
       "    </tbody></table style=\"display:inline\"></td></th>"
      ]
     },
     "metadata": {},
     "output_type": "display_data"
    }
   ],
   "source": [
    "na_platform = data_research.groupby('platform')[['na_sales']].agg(sum)/ data_research.na_sales.sum()\n",
    "na_platform = na_platform.sort_values(by='na_sales', ascending=False)[:5].style.bar()\n",
    "\n",
    "eu_platform = data_research.groupby('platform')[['eu_sales']].agg(sum)/ data_research.eu_sales.sum()\n",
    "eu_platform = eu_platform.sort_values(by='eu_sales', ascending=False)[:5].style.bar()\n",
    "\n",
    "jp_platform = data_research.groupby('platform')[['jp_sales']].agg(sum)/ data_research.na_sales.sum()\n",
    "jp_platform = jp_platform.sort_values(by='jp_sales', ascending=False)[:5].style.bar()\n",
    "\n",
    "display_side_by_side(na_platform,eu_platform,jp_platform)"
   ]
  },
  {
   "cell_type": "markdown",
   "metadata": {},
   "source": [
    "* В Северной Америке распределение долей продаж более плавное, чем в стальных, нет доминирующей платфоррмы.\n",
    "* В Европе c существенным отрывом лидирует PS4 (в сумме с PS3 платформы от Sony, доминирую на этом рынке)\n",
    "* В Японии c существенным отрывом лидирует платформа 3DS от японской же компании Nintendo."
   ]
  },
  {
   "cell_type": "markdown",
   "metadata": {},
   "source": [
    "### 4.2 Влияние жанра на продажи по регионам."
   ]
  },
  {
   "cell_type": "code",
   "execution_count": 51,
   "metadata": {},
   "outputs": [
    {
     "data": {
      "text/html": [
       "<th style=\"text-align:center\"><td style=\"vertical-align:top\"><h2 style=\"text-align: center;\"></h2><style  type=\"text/css\" >\n",
       "#T_8dde5_row0_col0{\n",
       "            width:  10em;\n",
       "             height:  80%;\n",
       "            background:  linear-gradient(90deg,#d65f5f 100.0%, transparent 100.0%);\n",
       "        }#T_8dde5_row1_col0{\n",
       "            width:  10em;\n",
       "             height:  80%;\n",
       "            background:  linear-gradient(90deg,#d65f5f 83.5%, transparent 83.5%);\n",
       "        }#T_8dde5_row2_col0{\n",
       "            width:  10em;\n",
       "             height:  80%;\n",
       "            background:  linear-gradient(90deg,#d65f5f 38.3%, transparent 38.3%);\n",
       "        }#T_8dde5_row3_col0{\n",
       "            width:  10em;\n",
       "             height:  80%;\n",
       "            background:  linear-gradient(90deg,#d65f5f 19.2%, transparent 19.2%);\n",
       "        }#T_8dde5_row4_col0{\n",
       "            width:  10em;\n",
       "             height:  80%;\n",
       "        }</style><table style=\"display:inline\" id=\"T_8dde5_\" ><thead>    <tr>        <th class=\"blank level0\" ></th>        <th class=\"col_heading level0 col0\" >na_sales</th>    </tr>    <tr>        <th class=\"index_name level0\" >genre</th>        <th class=\"blank\" ></th>    </tr></thead><tbody>\n",
       "                <tr>\n",
       "                        <th id=\"T_8dde5_level0_row0\" class=\"row_heading level0 row0\" >Action</th>\n",
       "                        <td id=\"T_8dde5_row0_col0\" class=\"data row0 col0\" >0.287976</td>\n",
       "            </tr>\n",
       "            <tr>\n",
       "                        <th id=\"T_8dde5_level0_row1\" class=\"row_heading level0 row1\" >Shooter</th>\n",
       "                        <td id=\"T_8dde5_row1_col0\" class=\"data row1 col0\" >0.250714</td>\n",
       "            </tr>\n",
       "            <tr>\n",
       "                        <th id=\"T_8dde5_level0_row2\" class=\"row_heading level0 row2\" >Sports</th>\n",
       "                        <td id=\"T_8dde5_row2_col0\" class=\"data row2 col0\" >0.149117</td>\n",
       "            </tr>\n",
       "            <tr>\n",
       "                        <th id=\"T_8dde5_level0_row3\" class=\"row_heading level0 row3\" >Role-Playing</th>\n",
       "                        <td id=\"T_8dde5_row3_col0\" class=\"data row3 col0\" >0.106006</td>\n",
       "            </tr>\n",
       "            <tr>\n",
       "                        <th id=\"T_8dde5_level0_row4\" class=\"row_heading level0 row4\" >Misc</th>\n",
       "                        <td id=\"T_8dde5_row4_col0\" class=\"data row4 col0\" >0.062804</td>\n",
       "            </tr>\n",
       "    </tbody></table style=\"display:inline\"></td></th><th style=\"text-align:center\"><td style=\"vertical-align:top\"><h2 style=\"text-align: center;\"></h2><style  type=\"text/css\" >\n",
       "#T_e7830_row0_col0{\n",
       "            width:  10em;\n",
       "             height:  80%;\n",
       "            background:  linear-gradient(90deg,#d65f5f 100.0%, transparent 100.0%);\n",
       "        }#T_e7830_row1_col0{\n",
       "            width:  10em;\n",
       "             height:  80%;\n",
       "            background:  linear-gradient(90deg,#d65f5f 69.1%, transparent 69.1%);\n",
       "        }#T_e7830_row2_col0{\n",
       "            width:  10em;\n",
       "             height:  80%;\n",
       "            background:  linear-gradient(90deg,#d65f5f 41.2%, transparent 41.2%);\n",
       "        }#T_e7830_row3_col0{\n",
       "            width:  10em;\n",
       "             height:  80%;\n",
       "            background:  linear-gradient(90deg,#d65f5f 17.1%, transparent 17.1%);\n",
       "        }#T_e7830_row4_col0{\n",
       "            width:  10em;\n",
       "             height:  80%;\n",
       "        }</style><table style=\"display:inline\" id=\"T_e7830_\" ><thead>    <tr>        <th class=\"blank level0\" ></th>        <th class=\"col_heading level0 col0\" >eu_sales</th>    </tr>    <tr>        <th class=\"index_name level0\" >genre</th>        <th class=\"blank\" ></th>    </tr></thead><tbody>\n",
       "                <tr>\n",
       "                        <th id=\"T_e7830_level0_row0\" class=\"row_heading level0 row0\" >Action</th>\n",
       "                        <td id=\"T_e7830_row0_col0\" class=\"data row0 col0\" >0.301175</td>\n",
       "            </tr>\n",
       "            <tr>\n",
       "                        <th id=\"T_e7830_level0_row1\" class=\"row_heading level0 row1\" >Shooter</th>\n",
       "                        <td id=\"T_e7830_row1_col0\" class=\"data row1 col0\" >0.224001</td>\n",
       "            </tr>\n",
       "            <tr>\n",
       "                        <th id=\"T_e7830_level0_row2\" class=\"row_heading level0 row2\" >Sports</th>\n",
       "                        <td id=\"T_e7830_row2_col0\" class=\"data row2 col0\" >0.154297</td>\n",
       "            </tr>\n",
       "            <tr>\n",
       "                        <th id=\"T_e7830_level0_row3\" class=\"row_heading level0 row3\" >Role-Playing</th>\n",
       "                        <td id=\"T_e7830_row3_col0\" class=\"data row3 col0\" >0.094256</td>\n",
       "            </tr>\n",
       "            <tr>\n",
       "                        <th id=\"T_e7830_level0_row4\" class=\"row_heading level0 row4\" >Racing</th>\n",
       "                        <td id=\"T_e7830_row4_col0\" class=\"data row4 col0\" >0.051475</td>\n",
       "            </tr>\n",
       "    </tbody></table style=\"display:inline\"></td></th><th style=\"text-align:center\"><td style=\"vertical-align:top\"><h2 style=\"text-align: center;\"></h2><style  type=\"text/css\" >\n",
       "#T_8c854_row0_col0{\n",
       "            width:  10em;\n",
       "             height:  80%;\n",
       "            background:  linear-gradient(90deg,#d65f5f 100.0%, transparent 100.0%);\n",
       "        }#T_8c854_row1_col0{\n",
       "            width:  10em;\n",
       "             height:  80%;\n",
       "            background:  linear-gradient(90deg,#d65f5f 76.3%, transparent 76.3%);\n",
       "        }#T_8c854_row2_col0{\n",
       "            width:  10em;\n",
       "             height:  80%;\n",
       "            background:  linear-gradient(90deg,#d65f5f 5.8%, transparent 5.8%);\n",
       "        }#T_8c854_row3_col0{\n",
       "            width:  10em;\n",
       "             height:  80%;\n",
       "            background:  linear-gradient(90deg,#d65f5f 2.3%, transparent 2.3%);\n",
       "        }#T_8c854_row4_col0{\n",
       "            width:  10em;\n",
       "             height:  80%;\n",
       "        }</style><table style=\"display:inline\" id=\"T_8c854_\" ><thead>    <tr>        <th class=\"blank level0\" ></th>        <th class=\"col_heading level0 col0\" >jp_sales</th>    </tr>    <tr>        <th class=\"index_name level0\" >genre</th>        <th class=\"blank\" ></th>    </tr></thead><tbody>\n",
       "                <tr>\n",
       "                        <th id=\"T_8c854_level0_row0\" class=\"row_heading level0 row0\" >Role-Playing</th>\n",
       "                        <td id=\"T_8c854_row0_col0\" class=\"data row0 col0\" >0.116607</td>\n",
       "            </tr>\n",
       "            <tr>\n",
       "                        <th id=\"T_8c854_level0_row1\" class=\"row_heading level0 row1\" >Action</th>\n",
       "                        <td id=\"T_8c854_row1_col0\" class=\"data row1 col0\" >0.092504</td>\n",
       "            </tr>\n",
       "            <tr>\n",
       "                        <th id=\"T_8c854_level0_row2\" class=\"row_heading level0 row2\" >Misc</th>\n",
       "                        <td id=\"T_8c854_row2_col0\" class=\"data row2 col0\" >0.021018</td>\n",
       "            </tr>\n",
       "            <tr>\n",
       "                        <th id=\"T_8c854_level0_row3\" class=\"row_heading level0 row3\" >Fighting</th>\n",
       "                        <td id=\"T_8c854_row3_col0\" class=\"data row3 col0\" >0.017477</td>\n",
       "            </tr>\n",
       "            <tr>\n",
       "                        <th id=\"T_8c854_level0_row4\" class=\"row_heading level0 row4\" >Shooter</th>\n",
       "                        <td id=\"T_8c854_row4_col0\" class=\"data row4 col0\" >0.015101</td>\n",
       "            </tr>\n",
       "    </tbody></table style=\"display:inline\"></td></th>"
      ]
     },
     "metadata": {},
     "output_type": "display_data"
    }
   ],
   "source": [
    "na_genre = data_research.groupby('genre')[['na_sales']].agg(sum)/ data_research.na_sales.sum()\n",
    "na_genre = na_genre.sort_values(by='na_sales', ascending=False)[:5].style.bar()\n",
    "\n",
    "eu_genre = data_research.groupby('genre')[['eu_sales']].agg(sum)/ data_research.eu_sales.sum()\n",
    "eu_genre = eu_genre.sort_values(by='eu_sales', ascending=False)[:5].style.bar()\n",
    "\n",
    "jp_genre = data_research.groupby('genre')[['jp_sales']].agg(sum)/ data_research.na_sales.sum()\n",
    "jp_genre = jp_genre.sort_values(by='jp_sales', ascending=False)[:5].style.bar()\n",
    "\n",
    "\n",
    "display_side_by_side(na_genre,eu_genre,jp_genre)"
   ]
  },
  {
   "cell_type": "markdown",
   "metadata": {},
   "source": [
    "* в Северной Америке и Европе топ 5 платформ схожи.\n",
    "* в Северной Америке и Европе популярены шутеры, в Японии - компьютерные(видимо) ролевые игры."
   ]
  },
  {
   "cell_type": "markdown",
   "metadata": {},
   "source": [
    "### 4.3 Влияние рейтига на продажи по регионам."
   ]
  },
  {
   "cell_type": "code",
   "execution_count": 52,
   "metadata": {},
   "outputs": [
    {
     "name": "stderr",
     "output_type": "stream",
     "text": [
      "/opt/conda/lib/python3.9/site-packages/pandas/core/series.py:4463: SettingWithCopyWarning: \n",
      "A value is trying to be set on a copy of a slice from a DataFrame\n",
      "\n",
      "See the caveats in the documentation: https://pandas.pydata.org/pandas-docs/stable/user_guide/indexing.html#returning-a-view-versus-a-copy\n",
      "  return super().fillna(\n"
     ]
    },
    {
     "data": {
      "text/html": [
       "<div>\n",
       "<style scoped>\n",
       "    .dataframe tbody tr th:only-of-type {\n",
       "        vertical-align: middle;\n",
       "    }\n",
       "\n",
       "    .dataframe tbody tr th {\n",
       "        vertical-align: top;\n",
       "    }\n",
       "\n",
       "    .dataframe thead th {\n",
       "        text-align: right;\n",
       "    }\n",
       "</style>\n",
       "<table border=\"1\" class=\"dataframe\">\n",
       "  <thead>\n",
       "    <tr style=\"text-align: right;\">\n",
       "      <th></th>\n",
       "      <th>na_sales</th>\n",
       "      <th>eu_sales</th>\n",
       "      <th>jp_sales</th>\n",
       "    </tr>\n",
       "    <tr>\n",
       "      <th>rating</th>\n",
       "      <th></th>\n",
       "      <th></th>\n",
       "      <th></th>\n",
       "    </tr>\n",
       "  </thead>\n",
       "  <tbody>\n",
       "    <tr>\n",
       "      <th>E</th>\n",
       "      <td>0.180599</td>\n",
       "      <td>0.212528</td>\n",
       "      <td>0.107544</td>\n",
       "    </tr>\n",
       "    <tr>\n",
       "      <th>E10+</th>\n",
       "      <td>0.123918</td>\n",
       "      <td>0.108839</td>\n",
       "      <td>0.041838</td>\n",
       "    </tr>\n",
       "    <tr>\n",
       "      <th>M</th>\n",
       "      <td>0.377442</td>\n",
       "      <td>0.370497</td>\n",
       "      <td>0.100227</td>\n",
       "    </tr>\n",
       "    <tr>\n",
       "      <th>T</th>\n",
       "      <td>0.113751</td>\n",
       "      <td>0.106953</td>\n",
       "      <td>0.146257</td>\n",
       "    </tr>\n",
       "    <tr>\n",
       "      <th>unknown</th>\n",
       "      <td>0.204291</td>\n",
       "      <td>0.201183</td>\n",
       "      <td>0.604134</td>\n",
       "    </tr>\n",
       "  </tbody>\n",
       "</table>\n",
       "</div>"
      ],
      "text/plain": [
       "         na_sales  eu_sales  jp_sales\n",
       "rating                               \n",
       "E        0.180599  0.212528  0.107544\n",
       "E10+     0.123918  0.108839  0.041838\n",
       "M        0.377442  0.370497  0.100227\n",
       "T        0.113751  0.106953  0.146257\n",
       "unknown  0.204291  0.201183  0.604134"
      ]
     },
     "execution_count": 52,
     "metadata": {},
     "output_type": "execute_result"
    }
   ],
   "source": [
    "data_research.rating.fillna('unknown', inplace=True)\n",
    "\n",
    "rating_sales = data_research.groupby('rating')[['na_sales', 'eu_sales', 'jp_sales']].agg(sum)\n",
    "\n",
    "rating_sales.na_sales = rating_sales.na_sales / data_research.na_sales.sum()\n",
    "rating_sales.eu_sales = rating_sales.eu_sales / data_research.eu_sales.sum()\n",
    "rating_sales.jp_sales = rating_sales.jp_sales / data_research.jp_sales.sum()\n",
    "\n",
    "rating_sales "
   ]
  },
  {
   "cell_type": "code",
   "execution_count": 53,
   "metadata": {},
   "outputs": [
    {
     "data": {
      "text/plain": [
       "<AxesSubplot:xlabel='rating', ylabel='jp_sales'>"
      ]
     },
     "execution_count": 53,
     "metadata": {},
     "output_type": "execute_result"
    },
    {
     "data": {
      "image/png": "[encoded data removed]",
      "text/plain": [
       "<Figure size 720x1080 with 3 Axes>"
      ]
     },
     "metadata": {
      "needs_background": "light"
     },
     "output_type": "display_data"
    }
   ],
   "source": [
    "fig8, ax8 = plt.subplots(3, 1, figsize=(10, 15))\n",
    "sns.barplot(data=rating_sales, x=rating_sales.index, y='na_sales', ax=ax8[0])\n",
    "sns.barplot(data=rating_sales, x=rating_sales.index, y='eu_sales', ax=ax8[1])\n",
    "sns.barplot(data=rating_sales, x=rating_sales.index, y='jp_sales', ax=ax8[2])\n"
   ]
  },
  {
   "cell_type": "markdown",
   "metadata": {},
   "source": [
    "* В Европе и Северной америке очень похожие распределения продаж по рейтингам. Игры с рейтингом \"М\" лучше продаются в этих регионах. \n",
    "* В Японии суммарные продажи игр с неизвестным рейтингом (или без него) слишком велико, чтобы сделать выводы о влиянии рейтинга на продажи."
   ]
  },
  {
   "cell_type": "markdown",
   "metadata": {},
   "source": [
    "# 5. Проверки гипотез."
   ]
  },
  {
   "cell_type": "markdown",
   "metadata": {},
   "source": [
    "### 5.1 Средние пользовательские рейтинги платформ Xbox One и PC одинаковые."
   ]
  },
  {
   "cell_type": "markdown",
   "metadata": {},
   "source": [
    "<p>\n",
    "<font size=\"4\">\n",
    "H<sub>0</sub> - Средние пользовательские рейтинги платформ Xbox One и PC одинаковые.\n",
    "<font>\n",
    "</p>\n",
    "    \n",
    "<p>\n",
    "<font size=\"4\">\n",
    "H<sub>1</sub> - Средние пользовательские рейтинги платформ Xbox One и PC отличаются.\n",
    "<font>\n",
    "</p>\n",
    "    "
   ]
  },
  {
   "cell_type": "code",
   "execution_count": 58,
   "metadata": {},
   "outputs": [],
   "source": [
    "user_score_xone = data_research.query('platform ==\"XOne\"').dropna().user_score\n",
    "user_score_pc = data_research.query('platform ==\"PC\"').dropna().user_score"
   ]
  },
  {
   "cell_type": "code",
   "execution_count": 59,
   "metadata": {
    "scrolled": true
   },
   "outputs": [
    {
     "name": "stderr",
     "output_type": "stream",
     "text": [
      "/opt/conda/lib/python3.9/site-packages/seaborn/_decorators.py:36: FutureWarning: Pass the following variable as a keyword arg: x. From version 0.12, the only valid positional argument will be `data`, and passing other arguments without an explicit keyword will result in an error or misinterpretation.\n",
      "  warnings.warn(\n",
      "/opt/conda/lib/python3.9/site-packages/seaborn/_decorators.py:36: FutureWarning: Pass the following variable as a keyword arg: x. From version 0.12, the only valid positional argument will be `data`, and passing other arguments without an explicit keyword will result in an error or misinterpretation.\n",
      "  warnings.warn(\n"
     ]
    },
    {
     "data": {
      "text/plain": [
       "<bound method Figure.show of <Figure size 1080x720 with 4 Axes>>"
      ]
     },
     "execution_count": 59,
     "metadata": {},
     "output_type": "execute_result"
    },
    {
     "data": {
      "image/png": "[encoded data removed]",
      "text/plain": [
       "<Figure size 1080x720 with 4 Axes>"
      ]
     },
     "metadata": {
      "needs_background": "light"
     },
     "output_type": "display_data"
    }
   ],
   "source": [
    "fig7, ax7 = plt.subplots(2,2, figsize=(15, 10))\n",
    "sns.histplot(user_score_xone, kde=True, ax = ax7[0][0])\n",
    "sns.histplot(user_score_pc, kde=True, ax = ax7[0][1])\n",
    "sns.boxplot(user_score_xone, ax = ax7[1][0])\n",
    "sns.boxplot(user_score_pc, ax = ax7[1][1])\n",
    "fig7.show"
   ]
  },
  {
   "cell_type": "code",
   "execution_count": 60,
   "metadata": {
    "scrolled": true
   },
   "outputs": [
    {
     "name": "stdout",
     "output_type": "stream",
     "text": [
      "Не получилось отвергнуть нулевую гипотезу\n"
     ]
    }
   ],
   "source": [
    "alpha = 0.05 \n",
    "results = st.ttest_ind(\n",
    "    user_score_xone,\n",
    "    user_score_pc\n",
    ")\n",
    "if results.pvalue < alpha: \n",
    "    print(\"Отвергаем нулевую гипотезу\")\n",
    "else:\n",
    "    print(\"Не получилось отвергнуть нулевую гипотезу\")"
   ]
  },
  {
   "cell_type": "markdown",
   "metadata": {},
   "source": [
    "* средние равны."
   ]
  },
  {
   "cell_type": "markdown",
   "metadata": {},
   "source": [
    "### 5.2 Средние пользовательские рейтинги жанров Action (англ. «действие», экшен-игры) и Sports (англ. «спортивные соревнования») разные."
   ]
  },
  {
   "cell_type": "markdown",
   "metadata": {},
   "source": [
    "<p>\n",
    "<font size=\"4\">\n",
    "H<sub>0</sub> - Средние пользовательские рейтинги жанров Action и Sports одинаковы.\n",
    "<font>\n",
    "</p>\n",
    "    \n",
    "<p>\n",
    "<font size=\"4\">\n",
    "H<sub>1</sub> - Средние пользовательские рейтинги жанров Action и Sports различаются.\n",
    "<font>\n",
    "</p>\n"
   ]
  },
  {
   "cell_type": "code",
   "execution_count": 61,
   "metadata": {},
   "outputs": [],
   "source": [
    "user_score_action = data_research.query('genre ==\"Action\"').dropna().user_score\n",
    "user_score_sports = data_research.query('genre ==\"Sports\"').dropna().user_score"
   ]
  },
  {
   "cell_type": "code",
   "execution_count": 62,
   "metadata": {},
   "outputs": [
    {
     "name": "stderr",
     "output_type": "stream",
     "text": [
      "/opt/conda/lib/python3.9/site-packages/seaborn/_decorators.py:36: FutureWarning: Pass the following variable as a keyword arg: x. From version 0.12, the only valid positional argument will be `data`, and passing other arguments without an explicit keyword will result in an error or misinterpretation.\n",
      "  warnings.warn(\n",
      "/opt/conda/lib/python3.9/site-packages/seaborn/_decorators.py:36: FutureWarning: Pass the following variable as a keyword arg: x. From version 0.12, the only valid positional argument will be `data`, and passing other arguments without an explicit keyword will result in an error or misinterpretation.\n",
      "  warnings.warn(\n"
     ]
    },
    {
     "data": {
      "text/plain": [
       "<bound method Figure.show of <Figure size 1080x720 with 4 Axes>>"
      ]
     },
     "execution_count": 62,
     "metadata": {},
     "output_type": "execute_result"
    },
    {
     "data": {
      "image/png": "[encoded data removed]",
      "text/plain": [
       "<Figure size 1080x720 with 4 Axes>"
      ]
     },
     "metadata": {
      "needs_background": "light"
     },
     "output_type": "display_data"
    }
   ],
   "source": [
    "fig7, ax7 = plt.subplots(2,2, figsize=(15, 10))\n",
    "sns.histplot(user_score_action, kde=True, ax = ax7[0][0])\n",
    "sns.histplot(user_score_sports, kde=True, ax = ax7[0][1])\n",
    "sns.boxplot(user_score_action, ax = ax7[1][0])\n",
    "sns.boxplot(user_score_sports, ax = ax7[1][1])\n",
    "fig7.show"
   ]
  },
  {
   "cell_type": "code",
   "execution_count": 63,
   "metadata": {
    "scrolled": true
   },
   "outputs": [
    {
     "name": "stdout",
     "output_type": "stream",
     "text": [
      "Отвергаем нулевую гипотезу\n"
     ]
    }
   ],
   "source": [
    "alpha = 0.05 \n",
    "results = st.ttest_ind(\n",
    "    user_score_action,\n",
    "    user_score_sports\n",
    ")\n",
    "if results.pvalue < alpha: \n",
    "    print(\"Отвергаем нулевую гипотезу\")\n",
    "else:\n",
    "    print(\"Не получилось отвергнуть нулевую гипотезу\")"
   ]
  },
  {
   "cell_type": "markdown",
   "metadata": {},
   "source": [
    "* средние не равны."
   ]
  },
  {
   "cell_type": "code",
   "execution_count": 66,
   "metadata": {},
   "outputs": [
    {
     "data": {
      "text/plain": [
       "'22%'"
      ]
     },
     "execution_count": 66,
     "metadata": {},
     "output_type": "execute_result"
    }
   ],
   "source": [
    "# Код ревьюера\n",
    "\n",
    "'{:.0%}'.format(user_score_action.mean() / user_score_sports.mean() - 1)"
   ]
  },
  {
   "cell_type": "markdown",
   "metadata": {},
   "source": [
    "# 6. Выводы."
   ]
  },
  {
   "cell_type": "markdown",
   "metadata": {},
   "source": [
    "1. Мало данных об оценках, особенно за период с 1980 по 1997. Связано с недостаточным развитием интернета и игровой прессы в этот период.\n",
    "2. Оценки критиков влияют на продажи сильнее оценок пользователей.\n",
    "3. Общие показатели продаж (распределение по платформам и рейтингу) в Японии, не сильно, но отличается от Европы и Америки. Скорее всего это связано с культурным аспектом."
   ]
  }
 ],
 "metadata": {
  "ExecuteTimeLog": [
   {
    "duration": 50,
    "start_time": "2022-09-23T21:53:30.281Z"
   },
   {
    "duration": 1363,
    "start_time": "2022-09-23T21:53:33.865Z"
   },
   {
    "duration": 235,
    "start_time": "2022-09-23T21:53:35.231Z"
   },
   {
    "duration": 25,
    "start_time": "2022-09-23T21:53:35.468Z"
   },
   {
    "duration": 16,
    "start_time": "2022-09-23T21:53:35.494Z"
   },
   {
    "duration": 25,
    "start_time": "2022-09-23T21:53:35.512Z"
   },
   {
    "duration": 56,
    "start_time": "2022-09-23T21:53:35.538Z"
   },
   {
    "duration": 4,
    "start_time": "2022-09-23T21:53:35.595Z"
   },
   {
    "duration": 18,
    "start_time": "2022-09-23T21:53:35.601Z"
   },
   {
    "duration": 18,
    "start_time": "2022-09-23T21:53:35.621Z"
   },
   {
    "duration": 15,
    "start_time": "2022-09-23T21:53:35.641Z"
   },
   {
    "duration": 28,
    "start_time": "2022-09-23T21:53:35.658Z"
   },
   {
    "duration": 8,
    "start_time": "2022-09-23T21:53:35.688Z"
   },
   {
    "duration": 25,
    "start_time": "2022-09-23T21:53:35.697Z"
   },
   {
    "duration": 416,
    "start_time": "2022-09-23T21:53:35.726Z"
   },
   {
    "duration": 12,
    "start_time": "2022-09-23T21:53:36.144Z"
   },
   {
    "duration": 9,
    "start_time": "2022-09-23T21:53:36.158Z"
   },
   {
    "duration": 312,
    "start_time": "2022-09-23T21:53:36.169Z"
   },
   {
    "duration": 9,
    "start_time": "2022-09-23T21:53:36.483Z"
   },
   {
    "duration": 16,
    "start_time": "2022-09-23T21:53:36.494Z"
   },
   {
    "duration": 16,
    "start_time": "2022-09-23T21:53:36.512Z"
   },
   {
    "duration": 670,
    "start_time": "2022-09-23T21:53:36.530Z"
   },
   {
    "duration": 18,
    "start_time": "2022-09-23T21:53:37.202Z"
   },
   {
    "duration": 12,
    "start_time": "2022-09-23T21:53:37.222Z"
   },
   {
    "duration": 22,
    "start_time": "2022-09-23T21:53:37.236Z"
   },
   {
    "duration": 30,
    "start_time": "2022-09-23T21:53:37.260Z"
   },
   {
    "duration": 867,
    "start_time": "2022-09-23T21:53:37.292Z"
   },
   {
    "duration": 6,
    "start_time": "2022-09-23T21:53:38.161Z"
   },
   {
    "duration": 28,
    "start_time": "2022-09-23T21:53:38.169Z"
   },
   {
    "duration": 23,
    "start_time": "2022-09-23T21:53:38.199Z"
   },
   {
    "duration": 26,
    "start_time": "2022-09-23T21:53:38.225Z"
   },
   {
    "duration": 105,
    "start_time": "2022-09-23T21:53:38.253Z"
   },
   {
    "duration": 6,
    "start_time": "2022-09-23T21:53:38.360Z"
   },
   {
    "duration": 200,
    "start_time": "2022-09-23T21:53:38.368Z"
   },
   {
    "duration": 224,
    "start_time": "2022-09-23T21:53:38.570Z"
   },
   {
    "duration": 17,
    "start_time": "2022-09-23T21:53:38.798Z"
   },
   {
    "duration": 43,
    "start_time": "2022-09-23T21:53:38.817Z"
   },
   {
    "duration": 27,
    "start_time": "2022-09-23T21:53:38.862Z"
   },
   {
    "duration": 22,
    "start_time": "2022-09-23T21:53:38.891Z"
   },
   {
    "duration": 23,
    "start_time": "2022-09-23T21:53:38.914Z"
   },
   {
    "duration": 24,
    "start_time": "2022-09-23T21:53:38.939Z"
   },
   {
    "duration": 24,
    "start_time": "2022-09-23T21:53:38.967Z"
   },
   {
    "duration": 21,
    "start_time": "2022-09-23T21:53:38.992Z"
   },
   {
    "duration": 446,
    "start_time": "2022-09-23T21:53:39.015Z"
   },
   {
    "duration": 13,
    "start_time": "2022-09-23T21:53:39.462Z"
   },
   {
    "duration": 545,
    "start_time": "2022-09-23T21:53:39.477Z"
   },
   {
    "duration": 6,
    "start_time": "2022-09-23T21:53:40.023Z"
   },
   {
    "duration": 18,
    "start_time": "2022-09-23T21:53:40.031Z"
   },
   {
    "duration": 624,
    "start_time": "2022-09-23T21:53:40.050Z"
   },
   {
    "duration": 6,
    "start_time": "2022-09-23T21:53:40.676Z"
   },
   {
    "duration": 204,
    "start_time": "2022-09-23T21:55:13.432Z"
   },
   {
    "duration": 427,
    "start_time": "2022-09-23T21:55:29.609Z"
   },
   {
    "duration": 411,
    "start_time": "2022-09-23T21:55:35.981Z"
   },
   {
    "duration": 396,
    "start_time": "2022-09-23T21:56:16.749Z"
   },
   {
    "duration": 285,
    "start_time": "2022-09-23T21:56:30.964Z"
   },
   {
    "duration": 269,
    "start_time": "2022-09-23T21:56:43.201Z"
   },
   {
    "duration": 480,
    "start_time": "2022-09-23T21:57:21.761Z"
   },
   {
    "duration": 92,
    "start_time": "2022-09-23T22:05:38.975Z"
   },
   {
    "duration": 4,
    "start_time": "2022-09-23T22:14:55.624Z"
   },
   {
    "duration": 436,
    "start_time": "2022-09-25T12:37:06.720Z"
   },
   {
    "duration": 12,
    "start_time": "2022-09-25T12:38:02.632Z"
   },
   {
    "duration": 6,
    "start_time": "2022-09-25T12:38:04.379Z"
   },
   {
    "duration": 8,
    "start_time": "2022-09-25T12:38:53.164Z"
   },
   {
    "duration": 8,
    "start_time": "2022-09-25T12:40:34.254Z"
   },
   {
    "duration": 7,
    "start_time": "2022-09-25T12:40:37.090Z"
   },
   {
    "duration": 67,
    "start_time": "2022-09-25T12:40:46.271Z"
   },
   {
    "duration": 784,
    "start_time": "2022-09-25T12:40:49.178Z"
   },
   {
    "duration": 93,
    "start_time": "2022-09-25T12:40:49.964Z"
   },
   {
    "duration": 33,
    "start_time": "2022-09-25T12:40:50.059Z"
   },
   {
    "duration": 28,
    "start_time": "2022-09-25T12:40:50.094Z"
   },
   {
    "duration": 8,
    "start_time": "2022-09-25T12:40:50.125Z"
   },
   {
    "duration": 58,
    "start_time": "2022-09-25T12:40:50.135Z"
   },
   {
    "duration": 4,
    "start_time": "2022-09-25T12:40:50.195Z"
   },
   {
    "duration": 13,
    "start_time": "2022-09-25T12:40:50.220Z"
   },
   {
    "duration": 19,
    "start_time": "2022-09-25T12:40:50.235Z"
   },
   {
    "duration": 10,
    "start_time": "2022-09-25T12:40:50.257Z"
   },
   {
    "duration": 24,
    "start_time": "2022-09-25T12:40:50.268Z"
   },
   {
    "duration": 32,
    "start_time": "2022-09-25T12:40:50.294Z"
   },
   {
    "duration": 6,
    "start_time": "2022-09-25T12:40:50.328Z"
   },
   {
    "duration": 24,
    "start_time": "2022-09-25T12:40:50.335Z"
   },
   {
    "duration": 881,
    "start_time": "2022-09-25T12:40:50.360Z"
   },
   {
    "duration": 11,
    "start_time": "2022-09-25T12:40:51.243Z"
   },
   {
    "duration": 10,
    "start_time": "2022-09-25T12:40:51.256Z"
   },
   {
    "duration": 854,
    "start_time": "2022-09-25T12:40:51.268Z"
   },
   {
    "duration": 877,
    "start_time": "2022-09-25T12:40:52.125Z"
   },
   {
    "duration": 20,
    "start_time": "2022-09-25T12:40:53.004Z"
   },
   {
    "duration": 1513,
    "start_time": "2022-09-25T12:40:53.026Z"
   },
   {
    "duration": 19,
    "start_time": "2022-09-25T12:40:54.541Z"
   },
   {
    "duration": 13,
    "start_time": "2022-09-25T12:40:54.561Z"
   },
   {
    "duration": 16,
    "start_time": "2022-09-25T12:40:54.576Z"
   },
   {
    "duration": 34,
    "start_time": "2022-09-25T12:40:54.594Z"
   },
   {
    "duration": 18,
    "start_time": "2022-09-25T12:40:54.631Z"
   },
   {
    "duration": 102,
    "start_time": "2022-09-25T12:40:54.651Z"
   },
   {
    "duration": 332,
    "start_time": "2022-09-25T12:40:54.758Z"
   },
   {
    "duration": 14,
    "start_time": "2022-09-25T12:40:55.092Z"
   },
   {
    "duration": 195,
    "start_time": "2022-09-25T12:40:55.108Z"
   },
   {
    "duration": 196,
    "start_time": "2022-09-25T12:40:55.304Z"
   },
   {
    "duration": 30,
    "start_time": "2022-09-25T12:40:55.502Z"
   },
   {
    "duration": 12,
    "start_time": "2022-09-25T12:40:55.534Z"
   },
   {
    "duration": 88,
    "start_time": "2022-09-25T12:40:55.548Z"
   },
   {
    "duration": 1,
    "start_time": "2022-09-25T12:40:55.638Z"
   },
   {
    "duration": 0,
    "start_time": "2022-09-25T12:40:55.640Z"
   },
   {
    "duration": 0,
    "start_time": "2022-09-25T12:40:55.641Z"
   },
   {
    "duration": 0,
    "start_time": "2022-09-25T12:40:55.642Z"
   },
   {
    "duration": 0,
    "start_time": "2022-09-25T12:40:55.643Z"
   },
   {
    "duration": 0,
    "start_time": "2022-09-25T12:40:55.645Z"
   },
   {
    "duration": 0,
    "start_time": "2022-09-25T12:40:55.647Z"
   },
   {
    "duration": 0,
    "start_time": "2022-09-25T12:40:55.648Z"
   },
   {
    "duration": 0,
    "start_time": "2022-09-25T12:40:55.650Z"
   },
   {
    "duration": 19,
    "start_time": "2022-09-25T12:41:39.189Z"
   },
   {
    "duration": 10,
    "start_time": "2022-09-25T12:41:42.686Z"
   },
   {
    "duration": 6,
    "start_time": "2022-09-25T12:42:27.359Z"
   },
   {
    "duration": 9,
    "start_time": "2022-09-25T12:42:32.680Z"
   },
   {
    "duration": 2053,
    "start_time": "2022-09-25T12:44:05.887Z"
   },
   {
    "duration": 386,
    "start_time": "2022-09-25T12:52:42.893Z"
   },
   {
    "duration": 38,
    "start_time": "2022-09-25T12:56:35.914Z"
   },
   {
    "duration": 5,
    "start_time": "2022-09-25T12:58:47.924Z"
   },
   {
    "duration": 30,
    "start_time": "2022-09-25T12:58:49.629Z"
   },
   {
    "duration": 30,
    "start_time": "2022-09-25T12:58:56.402Z"
   },
   {
    "duration": 21,
    "start_time": "2022-09-25T12:58:59.587Z"
   },
   {
    "duration": 378,
    "start_time": "2022-09-25T12:59:00.998Z"
   },
   {
    "duration": 4,
    "start_time": "2022-09-25T13:02:04.036Z"
   },
   {
    "duration": 121,
    "start_time": "2022-09-25T13:02:05.104Z"
   },
   {
    "duration": 5,
    "start_time": "2022-09-25T13:02:09.010Z"
   },
   {
    "duration": 30,
    "start_time": "2022-09-25T13:02:10.243Z"
   },
   {
    "duration": 13,
    "start_time": "2022-09-25T13:05:20.495Z"
   },
   {
    "duration": 477,
    "start_time": "2022-09-25T13:05:20.511Z"
   },
   {
    "duration": 5,
    "start_time": "2022-09-25T13:05:20.990Z"
   },
   {
    "duration": 26,
    "start_time": "2022-09-25T13:05:20.997Z"
   },
   {
    "duration": 488,
    "start_time": "2022-09-25T13:05:21.025Z"
   },
   {
    "duration": 4,
    "start_time": "2022-09-25T13:05:21.521Z"
   },
   {
    "duration": 6,
    "start_time": "2022-09-25T13:08:08.504Z"
   },
   {
    "duration": 5,
    "start_time": "2022-09-25T13:08:09.947Z"
   },
   {
    "duration": 4,
    "start_time": "2022-09-25T13:08:23.892Z"
   }
  ],
  "kernelspec": {
   "display_name": "Python 3 (ipykernel)",
   "language": "python",
   "name": "python3"
  },
  "language_info": {
   "codemirror_mode": {
    "name": "ipython",
    "version": 3
   },
   "file_extension": ".py",
   "mimetype": "text/x-python",
   "name": "python",
   "nbconvert_exporter": "python",
   "pygments_lexer": "ipython3",
   "version": "3.9.13"
  },
  "toc": {
   "base_numbering": 1,
   "nav_menu": {},
   "number_sections": true,
   "sideBar": true,
   "skip_h1_title": true,
   "title_cell": "Table of Contents",
   "title_sidebar": "Contents",
   "toc_cell": false,
   "toc_position": {},
   "toc_section_display": true,
   "toc_window_display": true
  }
 },
 "nbformat": 4,
 "nbformat_minor": 4
}
