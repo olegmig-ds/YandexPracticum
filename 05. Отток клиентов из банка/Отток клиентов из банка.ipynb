{
 "cells": [
  {
   "cell_type": "markdown",
   "metadata": {},
   "source": [
    "# Отток клиентов"
   ]
  },
  {
   "cell_type": "markdown",
   "metadata": {},
   "source": [
    "Из «Бета-Банка» стали уходить клиенты. Каждый месяц. Немного, но заметно. Банковские маркетологи посчитали: сохранять текущих клиентов дешевле, чем привлекать новых.\n",
    "\n",
    "Нужно спрогнозировать, уйдёт клиент из банка в ближайшее время или нет. Вам предоставлены исторические данные о поведении клиентов и расторжении договоров с банком. \n",
    "\n",
    "Постройте модель с предельно большим значением *F1*-меры. Чтобы сдать проект успешно, нужно довести метрику до 0.59. Проверьте *F1*-меру на тестовой выборке самостоятельно.\n",
    "\n",
    "Дополнительно измеряйте *AUC-ROC*, сравнивайте её значение с *F1*-мерой.\n",
    "\n",
    "Источник данных: [https://www.kaggle.com/barelydedicated/bank-customer-churn-modeling](https://www.kaggle.com/barelydedicated/bank-customer-churn-modeling)"
   ]
  },
  {
   "cell_type": "code",
   "execution_count": 1,
   "metadata": {
    "scrolled": true
   },
   "outputs": [],
   "source": [
    "import pandas as pd\n",
    "from catboost import CatBoostClassifier\n",
    "from sklearn.model_selection import train_test_split, StratifiedKFold, cross_val_score\n",
    "from sklearn.metrics import auc, roc_curve, f1_score\n",
    "from hyperopt import hp, fmin, tpe, STATUS_OK, Trials\n",
    "import matplotlib.pyplot as plt\n",
    "import seaborn as sns\n",
    "from sklearn.utils import shuffle\n",
    "# !pip install hyperopt\n",
    "from hyperopt import hp, fmin, tpe, STATUS_OK, Trials\n",
    "from hyperopt.pyll.base import scope\n",
    "from sklearn.ensemble import RandomForestClassifier, RandomForestClassifier\n",
    "from sklearn.tree import DecisionTreeRegressor\n",
    "import numpy as np\n",
    "import itertools"
   ]
  },
  {
   "cell_type": "code",
   "execution_count": 2,
   "metadata": {
    "scrolled": true
   },
   "outputs": [
    {
     "data": {
      "text/html": [
       "<div>\n",
       "<style scoped>\n",
       "    .dataframe tbody tr th:only-of-type {\n",
       "        vertical-align: middle;\n",
       "    }\n",
       "\n",
       "    .dataframe tbody tr th {\n",
       "        vertical-align: top;\n",
       "    }\n",
       "\n",
       "    .dataframe thead th {\n",
       "        text-align: right;\n",
       "    }\n",
       "</style>\n",
       "<table border=\"1\" class=\"dataframe\">\n",
       "  <thead>\n",
       "    <tr style=\"text-align: right;\">\n",
       "      <th></th>\n",
       "      <th>RowNumber</th>\n",
       "      <th>CustomerId</th>\n",
       "      <th>Surname</th>\n",
       "      <th>CreditScore</th>\n",
       "      <th>Geography</th>\n",
       "      <th>Gender</th>\n",
       "      <th>Age</th>\n",
       "      <th>Tenure</th>\n",
       "      <th>Balance</th>\n",
       "      <th>NumOfProducts</th>\n",
       "      <th>HasCrCard</th>\n",
       "      <th>IsActiveMember</th>\n",
       "      <th>EstimatedSalary</th>\n",
       "      <th>Exited</th>\n",
       "    </tr>\n",
       "  </thead>\n",
       "  <tbody>\n",
       "    <tr>\n",
       "      <th>0</th>\n",
       "      <td>1</td>\n",
       "      <td>15634602</td>\n",
       "      <td>Hargrave</td>\n",
       "      <td>619</td>\n",
       "      <td>France</td>\n",
       "      <td>Female</td>\n",
       "      <td>42</td>\n",
       "      <td>2.0</td>\n",
       "      <td>0.00</td>\n",
       "      <td>1</td>\n",
       "      <td>1</td>\n",
       "      <td>1</td>\n",
       "      <td>101348.88</td>\n",
       "      <td>1</td>\n",
       "    </tr>\n",
       "    <tr>\n",
       "      <th>1</th>\n",
       "      <td>2</td>\n",
       "      <td>15647311</td>\n",
       "      <td>Hill</td>\n",
       "      <td>608</td>\n",
       "      <td>Spain</td>\n",
       "      <td>Female</td>\n",
       "      <td>41</td>\n",
       "      <td>1.0</td>\n",
       "      <td>83807.86</td>\n",
       "      <td>1</td>\n",
       "      <td>0</td>\n",
       "      <td>1</td>\n",
       "      <td>112542.58</td>\n",
       "      <td>0</td>\n",
       "    </tr>\n",
       "    <tr>\n",
       "      <th>2</th>\n",
       "      <td>3</td>\n",
       "      <td>15619304</td>\n",
       "      <td>Onio</td>\n",
       "      <td>502</td>\n",
       "      <td>France</td>\n",
       "      <td>Female</td>\n",
       "      <td>42</td>\n",
       "      <td>8.0</td>\n",
       "      <td>159660.80</td>\n",
       "      <td>3</td>\n",
       "      <td>1</td>\n",
       "      <td>0</td>\n",
       "      <td>113931.57</td>\n",
       "      <td>1</td>\n",
       "    </tr>\n",
       "    <tr>\n",
       "      <th>3</th>\n",
       "      <td>4</td>\n",
       "      <td>15701354</td>\n",
       "      <td>Boni</td>\n",
       "      <td>699</td>\n",
       "      <td>France</td>\n",
       "      <td>Female</td>\n",
       "      <td>39</td>\n",
       "      <td>1.0</td>\n",
       "      <td>0.00</td>\n",
       "      <td>2</td>\n",
       "      <td>0</td>\n",
       "      <td>0</td>\n",
       "      <td>93826.63</td>\n",
       "      <td>0</td>\n",
       "    </tr>\n",
       "    <tr>\n",
       "      <th>4</th>\n",
       "      <td>5</td>\n",
       "      <td>15737888</td>\n",
       "      <td>Mitchell</td>\n",
       "      <td>850</td>\n",
       "      <td>Spain</td>\n",
       "      <td>Female</td>\n",
       "      <td>43</td>\n",
       "      <td>2.0</td>\n",
       "      <td>125510.82</td>\n",
       "      <td>1</td>\n",
       "      <td>1</td>\n",
       "      <td>1</td>\n",
       "      <td>79084.10</td>\n",
       "      <td>0</td>\n",
       "    </tr>\n",
       "  </tbody>\n",
       "</table>\n",
       "</div>"
      ],
      "text/plain": [
       "   RowNumber  CustomerId   Surname  CreditScore Geography  Gender  Age  \\\n",
       "0          1    15634602  Hargrave          619    France  Female   42   \n",
       "1          2    15647311      Hill          608     Spain  Female   41   \n",
       "2          3    15619304      Onio          502    France  Female   42   \n",
       "3          4    15701354      Boni          699    France  Female   39   \n",
       "4          5    15737888  Mitchell          850     Spain  Female   43   \n",
       "\n",
       "   Tenure    Balance  NumOfProducts  HasCrCard  IsActiveMember  \\\n",
       "0     2.0       0.00              1          1               1   \n",
       "1     1.0   83807.86              1          0               1   \n",
       "2     8.0  159660.80              3          1               0   \n",
       "3     1.0       0.00              2          0               0   \n",
       "4     2.0  125510.82              1          1               1   \n",
       "\n",
       "   EstimatedSalary  Exited  \n",
       "0        101348.88       1  \n",
       "1        112542.58       0  \n",
       "2        113931.57       1  \n",
       "3         93826.63       0  \n",
       "4         79084.10       0  "
      ]
     },
     "execution_count": 2,
     "metadata": {},
     "output_type": "execute_result"
    }
   ],
   "source": [
    "try:\n",
    "    data = pd.read_csv('datasets/Churn.csv', sep=',')\n",
    "except FileNotFoundError: \n",
    "    data = pd.read_csv('/datasets/Churn.csv', sep=',')\n",
    "data.head()"
   ]
  },
  {
   "cell_type": "code",
   "execution_count": 3,
   "metadata": {
    "scrolled": true
   },
   "outputs": [
    {
     "name": "stdout",
     "output_type": "stream",
     "text": [
      "<class 'pandas.core.frame.DataFrame'>\n",
      "RangeIndex: 10000 entries, 0 to 9999\n",
      "Data columns (total 14 columns):\n",
      " #   Column           Non-Null Count  Dtype  \n",
      "---  ------           --------------  -----  \n",
      " 0   RowNumber        10000 non-null  int64  \n",
      " 1   CustomerId       10000 non-null  int64  \n",
      " 2   Surname          10000 non-null  object \n",
      " 3   CreditScore      10000 non-null  int64  \n",
      " 4   Geography        10000 non-null  object \n",
      " 5   Gender           10000 non-null  object \n",
      " 6   Age              10000 non-null  int64  \n",
      " 7   Tenure           9091 non-null   float64\n",
      " 8   Balance          10000 non-null  float64\n",
      " 9   NumOfProducts    10000 non-null  int64  \n",
      " 10  HasCrCard        10000 non-null  int64  \n",
      " 11  IsActiveMember   10000 non-null  int64  \n",
      " 12  EstimatedSalary  10000 non-null  float64\n",
      " 13  Exited           10000 non-null  int64  \n",
      "dtypes: float64(3), int64(8), object(3)\n",
      "memory usage: 1.1+ MB\n"
     ]
    }
   ],
   "source": [
    "data.info()"
   ]
  },
  {
   "cell_type": "code",
   "execution_count": 38,
   "metadata": {},
   "outputs": [],
   "source": [
    "rng = 12345"
   ]
  },
  {
   "cell_type": "markdown",
   "metadata": {},
   "source": [
    "## Подготовка данных"
   ]
  },
  {
   "cell_type": "markdown",
   "metadata": {},
   "source": [
    "### Выбираем признаки."
   ]
  },
  {
   "cell_type": "code",
   "execution_count": 5,
   "metadata": {},
   "outputs": [],
   "source": [
    "data.columns = data.columns.str.lower() "
   ]
  },
  {
   "cell_type": "code",
   "execution_count": 6,
   "metadata": {},
   "outputs": [
    {
     "data": {
      "text/plain": [
       "0    79.63 %\n",
       "1    20.36 %\n",
       "Name: exited, dtype: object"
      ]
     },
     "execution_count": 6,
     "metadata": {},
     "output_type": "execute_result"
    }
   ],
   "source": [
    "data.exited.value_counts(normalize=True).apply(lambda x : str(x*100)[:5] + ' %')"
   ]
  },
  {
   "cell_type": "markdown",
   "metadata": {},
   "source": [
    "* в выборке дисбаланс классов примерно 80 на 20"
   ]
  },
  {
   "cell_type": "code",
   "execution_count": 7,
   "metadata": {},
   "outputs": [],
   "source": [
    "data_use_col = data.drop(['rownumber', 'customerid', 'surname'], axis=1) # исключаем лишние индексы"
   ]
  },
  {
   "cell_type": "code",
   "execution_count": 8,
   "metadata": {},
   "outputs": [
    {
     "data": {
      "text/html": [
       "<div>\n",
       "<style scoped>\n",
       "    .dataframe tbody tr th:only-of-type {\n",
       "        vertical-align: middle;\n",
       "    }\n",
       "\n",
       "    .dataframe tbody tr th {\n",
       "        vertical-align: top;\n",
       "    }\n",
       "\n",
       "    .dataframe thead th {\n",
       "        text-align: right;\n",
       "    }\n",
       "</style>\n",
       "<table border=\"1\" class=\"dataframe\">\n",
       "  <thead>\n",
       "    <tr style=\"text-align: right;\">\n",
       "      <th></th>\n",
       "      <th>creditscore</th>\n",
       "      <th>age</th>\n",
       "      <th>tenure</th>\n",
       "      <th>balance</th>\n",
       "      <th>numofproducts</th>\n",
       "      <th>hascrcard</th>\n",
       "      <th>isactivemember</th>\n",
       "      <th>estimatedsalary</th>\n",
       "      <th>exited</th>\n",
       "      <th>gender_Male</th>\n",
       "      <th>geography_Germany</th>\n",
       "      <th>geography_Spain</th>\n",
       "    </tr>\n",
       "  </thead>\n",
       "  <tbody>\n",
       "    <tr>\n",
       "      <th>0</th>\n",
       "      <td>619</td>\n",
       "      <td>42</td>\n",
       "      <td>2.0</td>\n",
       "      <td>0.00</td>\n",
       "      <td>1</td>\n",
       "      <td>1</td>\n",
       "      <td>1</td>\n",
       "      <td>101348.88</td>\n",
       "      <td>1</td>\n",
       "      <td>0</td>\n",
       "      <td>0</td>\n",
       "      <td>0</td>\n",
       "    </tr>\n",
       "    <tr>\n",
       "      <th>1</th>\n",
       "      <td>608</td>\n",
       "      <td>41</td>\n",
       "      <td>1.0</td>\n",
       "      <td>83807.86</td>\n",
       "      <td>1</td>\n",
       "      <td>0</td>\n",
       "      <td>1</td>\n",
       "      <td>112542.58</td>\n",
       "      <td>0</td>\n",
       "      <td>0</td>\n",
       "      <td>0</td>\n",
       "      <td>1</td>\n",
       "    </tr>\n",
       "    <tr>\n",
       "      <th>2</th>\n",
       "      <td>502</td>\n",
       "      <td>42</td>\n",
       "      <td>8.0</td>\n",
       "      <td>159660.80</td>\n",
       "      <td>3</td>\n",
       "      <td>1</td>\n",
       "      <td>0</td>\n",
       "      <td>113931.57</td>\n",
       "      <td>1</td>\n",
       "      <td>0</td>\n",
       "      <td>0</td>\n",
       "      <td>0</td>\n",
       "    </tr>\n",
       "    <tr>\n",
       "      <th>3</th>\n",
       "      <td>699</td>\n",
       "      <td>39</td>\n",
       "      <td>1.0</td>\n",
       "      <td>0.00</td>\n",
       "      <td>2</td>\n",
       "      <td>0</td>\n",
       "      <td>0</td>\n",
       "      <td>93826.63</td>\n",
       "      <td>0</td>\n",
       "      <td>0</td>\n",
       "      <td>0</td>\n",
       "      <td>0</td>\n",
       "    </tr>\n",
       "    <tr>\n",
       "      <th>4</th>\n",
       "      <td>850</td>\n",
       "      <td>43</td>\n",
       "      <td>2.0</td>\n",
       "      <td>125510.82</td>\n",
       "      <td>1</td>\n",
       "      <td>1</td>\n",
       "      <td>1</td>\n",
       "      <td>79084.10</td>\n",
       "      <td>0</td>\n",
       "      <td>0</td>\n",
       "      <td>0</td>\n",
       "      <td>1</td>\n",
       "    </tr>\n",
       "  </tbody>\n",
       "</table>\n",
       "</div>"
      ],
      "text/plain": [
       "   creditscore  age  tenure    balance  numofproducts  hascrcard  \\\n",
       "0          619   42     2.0       0.00              1          1   \n",
       "1          608   41     1.0   83807.86              1          0   \n",
       "2          502   42     8.0  159660.80              3          1   \n",
       "3          699   39     1.0       0.00              2          0   \n",
       "4          850   43     2.0  125510.82              1          1   \n",
       "\n",
       "   isactivemember  estimatedsalary  exited  gender_Male  geography_Germany  \\\n",
       "0               1        101348.88       1            0                  0   \n",
       "1               1        112542.58       0            0                  0   \n",
       "2               0        113931.57       1            0                  0   \n",
       "3               0         93826.63       0            0                  0   \n",
       "4               1         79084.10       0            0                  0   \n",
       "\n",
       "   geography_Spain  \n",
       "0                0  \n",
       "1                1  \n",
       "2                0  \n",
       "3                0  \n",
       "4                1  "
      ]
     },
     "execution_count": 8,
     "metadata": {},
     "output_type": "execute_result"
    }
   ],
   "source": [
    "data_ohe_use_col = pd.get_dummies(data_use_col, columns=['gender', 'geography'], drop_first=True)\n",
    "data_ohe_use_col.head() "
   ]
  },
  {
   "cell_type": "markdown",
   "metadata": {},
   "source": [
    "### Заполняем пропуски.\n",
    "* Поскольку пропуски есть только в одном столбце, попробуем запонить их предсказаниями \"легкой\" модели на основе решающего дерева."
   ]
  },
  {
   "cell_type": "code",
   "execution_count": 9,
   "metadata": {},
   "outputs": [
    {
     "data": {
      "text/plain": [
       "<AxesSubplot:>"
      ]
     },
     "execution_count": 9,
     "metadata": {},
     "output_type": "execute_result"
    },
    {
     "data": {
      "image/png": "[encoded data removed]",
      "text/plain": [
       "<Figure size 640x480 with 1 Axes>"
      ]
     },
     "metadata": {},
     "output_type": "display_data"
    }
   ],
   "source": [
    "data.tenure.hist()"
   ]
  },
  {
   "cell_type": "code",
   "execution_count": 10,
   "metadata": {},
   "outputs": [],
   "source": [
    "feature_tenure_train = data_ohe_use_col.loc[data_ohe_use_col.tenure.isnull() == False].drop(['tenure', 'exited'], axis=1)\n",
    "feature_tenure_test = data_ohe_use_col.loc[data_ohe_use_col.tenure.isnull() == True].drop(['tenure', 'exited'], axis=1)\n",
    "\n",
    "target_tenure_train = data_ohe_use_col['tenure'].loc[data_ohe_use_col.tenure.isnull() == False]\n",
    "\n",
    "\n",
    "dtr_tenure = RandomForestClassifier()\n",
    "dtr_tenure.fit(feature_tenure_train, target_tenure_train)\n",
    "\n",
    "data_ohe_use_col['tenure'].fillna(pd.Series(dtr_tenure.predict(feature_tenure_test), index = feature_tenure_test.index), inplace=True)"
   ]
  },
  {
   "cell_type": "code",
   "execution_count": 11,
   "metadata": {
    "scrolled": true
   },
   "outputs": [
    {
     "data": {
      "text/plain": [
       "<AxesSubplot:>"
      ]
     },
     "execution_count": 11,
     "metadata": {},
     "output_type": "execute_result"
    },
    {
     "data": {
      "image/png": "[encoded data removed]",
      "text/plain": [
       "<Figure size 640x480 with 1 Axes>"
      ]
     },
     "metadata": {},
     "output_type": "display_data"
    }
   ],
   "source": [
    "data_ohe_use_col.tenure.hist()"
   ]
  },
  {
   "cell_type": "code",
   "execution_count": 12,
   "metadata": {},
   "outputs": [],
   "source": [
    "data_ohe_use_col.tenure = data_ohe_use_col.tenure.astype('int64')"
   ]
  },
  {
   "cell_type": "code",
   "execution_count": 13,
   "metadata": {},
   "outputs": [
    {
     "data": {
      "text/html": [
       "<style type=\"text/css\">\n",
       "#T_8b2ac_row0_col0, #T_8b2ac_row1_col0, #T_8b2ac_row2_col0, #T_8b2ac_row3_col0, #T_8b2ac_row4_col0, #T_8b2ac_row5_col0, #T_8b2ac_row6_col0, #T_8b2ac_row7_col0, #T_8b2ac_row8_col0, #T_8b2ac_row9_col0, #T_8b2ac_row10_col0, #T_8b2ac_row11_col0 {\n",
       "  background-color: #3b4cc0;\n",
       "  color: #f1f1f1;\n",
       "}\n",
       "</style>\n",
       "<table id=\"T_8b2ac\">\n",
       "  <thead>\n",
       "    <tr>\n",
       "      <th class=\"blank level0\" >&nbsp;</th>\n",
       "      <th id=\"T_8b2ac_level0_col0\" class=\"col_heading level0 col0\" >0</th>\n",
       "    </tr>\n",
       "  </thead>\n",
       "  <tbody>\n",
       "    <tr>\n",
       "      <th id=\"T_8b2ac_level0_row0\" class=\"row_heading level0 row0\" >creditscore</th>\n",
       "      <td id=\"T_8b2ac_row0_col0\" class=\"data row0 col0\" >0.000000</td>\n",
       "    </tr>\n",
       "    <tr>\n",
       "      <th id=\"T_8b2ac_level0_row1\" class=\"row_heading level0 row1\" >age</th>\n",
       "      <td id=\"T_8b2ac_row1_col0\" class=\"data row1 col0\" >0.000000</td>\n",
       "    </tr>\n",
       "    <tr>\n",
       "      <th id=\"T_8b2ac_level0_row2\" class=\"row_heading level0 row2\" >tenure</th>\n",
       "      <td id=\"T_8b2ac_row2_col0\" class=\"data row2 col0\" >0.000000</td>\n",
       "    </tr>\n",
       "    <tr>\n",
       "      <th id=\"T_8b2ac_level0_row3\" class=\"row_heading level0 row3\" >balance</th>\n",
       "      <td id=\"T_8b2ac_row3_col0\" class=\"data row3 col0\" >0.000000</td>\n",
       "    </tr>\n",
       "    <tr>\n",
       "      <th id=\"T_8b2ac_level0_row4\" class=\"row_heading level0 row4\" >numofproducts</th>\n",
       "      <td id=\"T_8b2ac_row4_col0\" class=\"data row4 col0\" >0.000000</td>\n",
       "    </tr>\n",
       "    <tr>\n",
       "      <th id=\"T_8b2ac_level0_row5\" class=\"row_heading level0 row5\" >hascrcard</th>\n",
       "      <td id=\"T_8b2ac_row5_col0\" class=\"data row5 col0\" >0.000000</td>\n",
       "    </tr>\n",
       "    <tr>\n",
       "      <th id=\"T_8b2ac_level0_row6\" class=\"row_heading level0 row6\" >isactivemember</th>\n",
       "      <td id=\"T_8b2ac_row6_col0\" class=\"data row6 col0\" >0.000000</td>\n",
       "    </tr>\n",
       "    <tr>\n",
       "      <th id=\"T_8b2ac_level0_row7\" class=\"row_heading level0 row7\" >estimatedsalary</th>\n",
       "      <td id=\"T_8b2ac_row7_col0\" class=\"data row7 col0\" >0.000000</td>\n",
       "    </tr>\n",
       "    <tr>\n",
       "      <th id=\"T_8b2ac_level0_row8\" class=\"row_heading level0 row8\" >exited</th>\n",
       "      <td id=\"T_8b2ac_row8_col0\" class=\"data row8 col0\" >0.000000</td>\n",
       "    </tr>\n",
       "    <tr>\n",
       "      <th id=\"T_8b2ac_level0_row9\" class=\"row_heading level0 row9\" >gender_Male</th>\n",
       "      <td id=\"T_8b2ac_row9_col0\" class=\"data row9 col0\" >0.000000</td>\n",
       "    </tr>\n",
       "    <tr>\n",
       "      <th id=\"T_8b2ac_level0_row10\" class=\"row_heading level0 row10\" >geography_Germany</th>\n",
       "      <td id=\"T_8b2ac_row10_col0\" class=\"data row10 col0\" >0.000000</td>\n",
       "    </tr>\n",
       "    <tr>\n",
       "      <th id=\"T_8b2ac_level0_row11\" class=\"row_heading level0 row11\" >geography_Spain</th>\n",
       "      <td id=\"T_8b2ac_row11_col0\" class=\"data row11 col0\" >0.000000</td>\n",
       "    </tr>\n",
       "  </tbody>\n",
       "</table>\n"
      ],
      "text/plain": [
       "<pandas.io.formats.style.Styler at 0x15887a7eaf0>"
      ]
     },
     "execution_count": 13,
     "metadata": {},
     "output_type": "execute_result"
    }
   ],
   "source": [
    "pd.DataFrame(round(data_ohe_use_col.isna().mean()*100,)).style.background_gradient('coolwarm')"
   ]
  },
  {
   "cell_type": "markdown",
   "metadata": {},
   "source": [
    "## Исследование задачи"
   ]
  },
  {
   "cell_type": "markdown",
   "metadata": {},
   "source": [
    "### Задаем фичи и целевую пременную."
   ]
  },
  {
   "cell_type": "code",
   "execution_count": 14,
   "metadata": {},
   "outputs": [],
   "source": [
    "features = data_ohe_use_col.drop('exited', axis=1)\n",
    "target = data_ohe_use_col.exited"
   ]
  },
  {
   "cell_type": "markdown",
   "metadata": {},
   "source": [
    "### Делим выборку на обучающую и тестовую."
   ]
  },
  {
   "cell_type": "code",
   "execution_count": 15,
   "metadata": {},
   "outputs": [],
   "source": [
    "features_train, features_test, target_train, target_test = train_test_split(features, \n",
    "                                                                            target, \n",
    "                                                                            random_state=rng,\n",
    "                                                                            test_size=0.20\n",
    "                                                                           )"
   ]
  },
  {
   "cell_type": "code",
   "execution_count": 16,
   "metadata": {},
   "outputs": [],
   "source": [
    "np.random.seed(0)"
   ]
  },
  {
   "cell_type": "markdown",
   "metadata": {},
   "source": [
    "### Находим оптимальные гиперпараметры.\n",
    "* При помощи HyperOpt найдем оптимальные гиперпараметры для моделей. \n",
    "* Для функции потерь используем метрики менее чувствительные к дисбалансу классов, чем F-мера."
   ]
  },
  {
   "cell_type": "code",
   "execution_count": 17,
   "metadata": {},
   "outputs": [],
   "source": [
    "cv = StratifiedKFold(n_splits=5, shuffle=True)"
   ]
  },
  {
   "cell_type": "code",
   "execution_count": 18,
   "metadata": {},
   "outputs": [
    {
     "name": "stdout",
     "output_type": "stream",
     "text": [
      "TEST ROC-AUC: nan                                     \n",
      " 10%|█         | 1/10 [00:06<00:54,  6.01s/trial, best loss=?]"
     ]
    },
    {
     "name": "stderr",
     "output_type": "stream",
     "text": [
      "C:\\ProgramData\\Anaconda3\\lib\\site-packages\\sklearn\\model_selection\\_validation.py:372: FitFailedWarning: \n",
      "2 fits failed out of a total of 5.\n",
      "The score on these train-test partitions for these parameters will be set to nan.\n",
      "If these failures are not expected, you can try to debug them by setting error_score='raise'.\n",
      "\n",
      "Below are more details about the failures:\n",
      "--------------------------------------------------------------------------------\n",
      "2 fits failed with the following error:\n",
      "Traceback (most recent call last):\n",
      "  File \"C:\\ProgramData\\Anaconda3\\lib\\site-packages\\sklearn\\model_selection\\_validation.py\", line 680, in _fit_and_score\n",
      "    estimator.fit(X_train, y_train, **fit_params)\n",
      "  File \"C:\\Users\\mig29fulcrum\\AppData\\Roaming\\Python\\Python39\\site-packages\\catboost\\core.py\", line 5128, in fit\n",
      "    self._fit(X, y, cat_features, text_features, embedding_features, None, sample_weight, None, None, None, None, baseline, use_best_model,\n",
      "  File \"C:\\Users\\mig29fulcrum\\AppData\\Roaming\\Python\\Python39\\site-packages\\catboost\\core.py\", line 2355, in _fit\n",
      "    self._train(\n",
      "  File \"C:\\Users\\mig29fulcrum\\AppData\\Roaming\\Python\\Python39\\site-packages\\catboost\\core.py\", line 1759, in _train\n",
      "    self._object._train(train_pool, test_pool, params, allow_clear_pool, init_model._object if init_model else None)\n",
      "  File \"_catboost.pyx\", line 4623, in _catboost._CatBoost._train\n",
      "  File \"_catboost.pyx\", line 4672, in _catboost._CatBoost._train\n",
      "_catboost.CatBoostError: C:/Program Files (x86)/Go Agent/pipelines/BuildMaster/catboost.git/catboost/libs/train_lib/dir_helper.cpp:20: Can't create train working dir: catboost_info\n",
      "\n",
      "  warnings.warn(some_fits_failed_message, FitFailedWarning)\n",
      "\n"
     ]
    },
    {
     "name": "stdout",
     "output_type": "stream",
     "text": [
      "TEST ROC-AUC: 0.8633                                          \n",
      "TEST ROC-AUC: 0.8692                                                            \n",
      "TEST ROC-AUC: 0.8572                                                             \n",
      "TEST ROC-AUC: 0.8646                                                             \n",
      "TEST ROC-AUC: 0.8665                                                             \n",
      "TEST ROC-AUC: 0.8671                                                             \n",
      "TEST ROC-AUC: 0.8660                                                             \n",
      "TEST ROC-AUC: 0.8673                                                             \n",
      "TEST ROC-AUC: 0.8629                                                             \n",
      "100%|██████████| 10/10 [00:37<00:00,  3.72s/trial, best loss: 0.13076429592045025]\n"
     ]
    },
    {
     "data": {
      "text/plain": [
       "{'learning_rate': 0.04, 'max_depth': 5.0, 'n_estimators': 200.0}"
      ]
     },
     "execution_count": 18,
     "metadata": {},
     "output_type": "execute_result"
    }
   ],
   "source": [
    "def score_cbc(params):\n",
    "    auc = cross_val_score(estimator= CatBoostClassifier(**params, random_state=rng), \n",
    "                        X=features_train, \n",
    "                        y=target_train, \n",
    "                        scoring='roc_auc', \n",
    "                        cv=cv, \n",
    "                        n_jobs=-1\n",
    "                       )\n",
    "    result = {'loss': 1- auc.mean(), 'status': STATUS_OK}\n",
    "    print('TEST ROC-AUC: {0:.4f}'.format(auc.mean()))\n",
    "    return result\n",
    "\n",
    "\n",
    "space = {'max_depth' : hp.quniform('max_depth', 5, 10, 1),\n",
    "         'n_estimators' : scope.int(hp.quniform('n_estimators', 100, 500, 100)),\n",
    "         'learning_rate': hp.quniform('learning_rate', 0.01, 0.05, 0.01)\n",
    "         }\n",
    "trials = Trials()\n",
    "\n",
    "best_params_cbc = fmin(score_cbc, space, algo=tpe.suggest, trials=trials, max_evals=10)\n",
    "best_params_cbc"
   ]
  },
  {
   "cell_type": "code",
   "execution_count": 19,
   "metadata": {},
   "outputs": [
    {
     "name": "stdout",
     "output_type": "stream",
     "text": [
      "TEST ROC-AUC: 0.8557                                  \n",
      "TEST ROC-AUC: 0.8591                                                             \n",
      "TEST ROC-AUC: 0.8577                                                             \n",
      "TEST ROC-AUC: 0.8464                                                             \n",
      "TEST ROC-AUC: 0.8582                                                             \n",
      "TEST ROC-AUC: 0.8590                                                             \n",
      "TEST ROC-AUC: 0.8547                                                             \n",
      "TEST ROC-AUC: 0.8578                                                             \n",
      "TEST ROC-AUC: 0.8592                                                             \n",
      "TEST ROC-AUC: 0.8600                                                             \n",
      "TEST ROC-AUC: 0.8553                                                              \n",
      "TEST ROC-AUC: 0.8478                                                              \n",
      "TEST ROC-AUC: 0.8583                                                              \n",
      "TEST ROC-AUC: 0.8588                                                              \n",
      "TEST ROC-AUC: 0.8551                                                              \n",
      "TEST ROC-AUC: 0.8581                                                              \n",
      "TEST ROC-AUC: 0.8510                                                              \n",
      "TEST ROC-AUC: 0.8509                                                              \n",
      "TEST ROC-AUC: 0.8485                                                              \n",
      "TEST ROC-AUC: 0.8568                                                              \n",
      "100%|██████████| 20/20 [00:27<00:00,  1.40s/trial, best loss: 0.14001496904130095]\n"
     ]
    }
   ],
   "source": [
    "def score_rfc(params_rfc):\n",
    "    auc = cross_val_score(estimator= RandomForestClassifier(**params_rfc, random_state=rng), \n",
    "                        X=features_train, \n",
    "                        y=target_train, \n",
    "                        scoring='roc_auc', \n",
    "                        cv=cv, \n",
    "                        n_jobs=-1\n",
    "                       )\n",
    "    result_rfc = {'loss': 1- auc.mean(), 'status': STATUS_OK}\n",
    "    print('TEST ROC-AUC: {0:.4f}'.format(auc.mean()))\n",
    "    return result_rfc \n",
    "\n",
    "\n",
    "space_rfc = {'max_depth' :  scope.int(hp.quniform('max_depth', 5, 10, 1)),\n",
    "         'n_estimators' : scope.int(hp.quniform('n_estimators', 100, 500, 100))\n",
    "         }\n",
    "trials_rfc = Trials()\n",
    "\n",
    "best_params_rfc = fmin(score_rfc, space_rfc, algo=tpe.suggest, trials=trials_rfc, max_evals=20)"
   ]
  },
  {
   "cell_type": "code",
   "execution_count": 20,
   "metadata": {
    "scrolled": true
   },
   "outputs": [
    {
     "data": {
      "text/plain": [
       "{'max_depth': 9, 'n_estimators': 400}"
      ]
     },
     "execution_count": 20,
     "metadata": {},
     "output_type": "execute_result"
    }
   ],
   "source": [
    "best_params_rfc = {k: int(v) for k, v in best_params_rfc.items()}\n",
    "best_params_rfc"
   ]
  },
  {
   "cell_type": "code",
   "execution_count": 21,
   "metadata": {},
   "outputs": [],
   "source": [
    "# функция расчета AUC и построения графика ROC кривой.\n",
    "def calc_auc(target, target_pred, plot_label='', prin=True):\n",
    "    fpr, tpr, _ = roc_curve(target, target_pred)\n",
    "    auc_val = auc(fpr, tpr)\n",
    "    if prin:\n",
    "        print('ROC AUC: {0:.4f}'.format(auc_val))\n",
    "    if plot_label:\n",
    "        plt.plot(fpr, tpr, label=plot_label, )\n",
    "        plt.xlabel('FPR')\n",
    "        plt.ylabel('TPR')\n",
    "        plt.grid()\n",
    "    return auc_val"
   ]
  },
  {
   "cell_type": "markdown",
   "metadata": {},
   "source": [
    "### Для анализа F-меры и ROC-AUC для разных стратегий борьбы с дисбалансом будем использовать:\n",
    "* градиентный бустинг (CatBoost)\n",
    "* лес (RandomForrest)"
   ]
  },
  {
   "cell_type": "code",
   "execution_count": 22,
   "metadata": {},
   "outputs": [],
   "source": [
    "CBC = CatBoostClassifier(**best_params_cbc,\n",
    "                           logging_level='Silent',\n",
    "                           random_state=rng)"
   ]
  },
  {
   "cell_type": "code",
   "execution_count": 23,
   "metadata": {},
   "outputs": [],
   "source": [
    "RFС = RandomForestClassifier(**best_params_rfc, random_state=rng)"
   ]
  },
  {
   "cell_type": "code",
   "execution_count": 24,
   "metadata": {},
   "outputs": [],
   "source": [
    "# функция обучения моделей на разных выборках и выводом метрик.\n",
    "def model_show_metrics(model, features_train, features_test, target_train, target_test):\n",
    "    model.fit(features_train, target_train)\n",
    "    target_pred_test = model.predict(features_test)\n",
    "    target_pred_train = model.predict(features_train)\n",
    "    target_pred_prob_test = model.predict_proba(features_test)[:, 1]\n",
    "    target_pred_prob_train = model.predict_proba(features_train)[:, 1]\n",
    "    \n",
    "    print('Train:')\n",
    "    print ('F-МЕРА: {0:.4f}'.format(f1_score(target_train, target_pred_train)))\n",
    "    calc_auc(target_train, target_pred_prob_train, 'train')\n",
    "    print()\n",
    "    print('Test:')\n",
    "    print ('F-МЕРА: {0:.4f}'.format(f1_score(target_test, target_pred_test)))\n",
    "    calc_auc(target_test, target_pred_prob_test, 'test')\n",
    "    print()\n",
    "    plt.legend();\n",
    "    plt.grid()\n",
    "    print('Распрееление классов:')\n",
    "    print(target_train.value_counts())"
   ]
  },
  {
   "cell_type": "markdown",
   "metadata": {},
   "source": [
    "### Расчитаем метрики для  выборки с несбалансированными классами."
   ]
  },
  {
   "cell_type": "code",
   "execution_count": 25,
   "metadata": {},
   "outputs": [
    {
     "name": "stdout",
     "output_type": "stream",
     "text": [
      "Train:\n",
      "F-МЕРА: 0.6108\n",
      "ROC AUC: 0.8884\n",
      "\n",
      "Test:\n",
      "F-МЕРА: 0.5896\n",
      "ROC AUC: 0.8814\n",
      "\n",
      "Распрееление классов:\n",
      "0    6390\n",
      "1    1610\n",
      "Name: exited, dtype: int64\n"
     ]
    },
    {
     "data": {
      "image/png": "[encoded data removed]",
      "text/plain": [
       "<Figure size 640x480 with 1 Axes>"
      ]
     },
     "metadata": {},
     "output_type": "display_data"
    },
    {
     "name": "stdout",
     "output_type": "stream",
     "text": [
      "Train:\n",
      "F-МЕРА: 0.6495\n",
      "ROC AUC: 0.9322\n",
      "\n",
      "Test:\n",
      "F-МЕРА: 0.5281\n",
      "ROC AUC: 0.8712\n",
      "\n",
      "Распрееление классов:\n",
      "0    6390\n",
      "1    1610\n",
      "Name: exited, dtype: int64\n"
     ]
    },
    {
     "data": {
      "image/png": "[encoded data removed]",
      "text/plain": [
       "<Figure size 640x480 with 1 Axes>"
      ]
     },
     "metadata": {},
     "output_type": "display_data"
    }
   ],
   "source": [
    "model_show_metrics(CBC, features_train, features_test, target_train, target_test)\n",
    "plt.show()\n",
    "model_show_metrics(RFС, features_train, features_test, target_train, target_test)"
   ]
  },
  {
   "cell_type": "markdown",
   "metadata": {},
   "source": [
    "### Выводы:\n",
    "* По графикам, значениям ROC-AUC и F-меры видно, что лес слегка переобучен.\n",
    "* Значение F-меры упало на тестовой выборке и оно меньше целевых 0.59."
   ]
  },
  {
   "cell_type": "markdown",
   "metadata": {},
   "source": [
    "## Борьба с дисбалансом"
   ]
  },
  {
   "cell_type": "markdown",
   "metadata": {},
   "source": [
    "### Для борьбы с дисбалансом будут применены 4 стратегии:\n",
    "* Уменьшение выборки.\n",
    "* Увеличение выборки.\n",
    "* Алгоритм SMOTE\n",
    "* Алгоритм NearMiss"
   ]
  },
  {
   "cell_type": "markdown",
   "metadata": {},
   "source": [
    "### Уменьшение выборки:"
   ]
  },
  {
   "cell_type": "code",
   "execution_count": 26,
   "metadata": {},
   "outputs": [],
   "source": [
    "def downsample(features, target, fraction):\n",
    "    features_zeros = features[target == 0]\n",
    "    features_ones = features[target == 1]\n",
    "    target_zeros = target[target == 0]\n",
    "    target_ones = target[target == 1]\n",
    "\n",
    "    features_downsampled = pd.concat(\n",
    "        [features_zeros.sample(frac=fraction, random_state=rng)] + [features_ones])\n",
    "    target_downsampled = pd.concat(\n",
    "        [target_zeros.sample(frac=fraction, random_state=rng)] + [target_ones])\n",
    "    \n",
    "    features_downsampled, target_downsampled = shuffle(\n",
    "        features_downsampled, target_downsampled, random_state=rng)\n",
    "    \n",
    "    return features_downsampled, target_downsampled"
   ]
  },
  {
   "cell_type": "code",
   "execution_count": 27,
   "metadata": {},
   "outputs": [],
   "source": [
    "features_downsampled, target_downsampled = downsample(features_train, target_train, 0.25)"
   ]
  },
  {
   "cell_type": "markdown",
   "metadata": {},
   "source": [
    "### Увеличение выборки:"
   ]
  },
  {
   "cell_type": "code",
   "execution_count": 28,
   "metadata": {},
   "outputs": [],
   "source": [
    "def upsample(features, target, repeat):\n",
    "    features_zeros = features[target == 0]\n",
    "    features_ones = features[target == 1]\n",
    "    target_zeros = target[target == 0]\n",
    "    target_ones = target[target == 1]\n",
    "\n",
    "    features_upsampled = pd.concat([features_zeros] + [features_ones] * repeat)\n",
    "    target_upsampled = pd.concat([target_zeros] + [target_ones] * repeat)\n",
    "    \n",
    "    features_upsampled, target_upsampled = shuffle(\n",
    "        features_upsampled, target_upsampled, random_state=rng)\n",
    "    \n",
    "    return features_upsampled, target_upsampled"
   ]
  },
  {
   "cell_type": "code",
   "execution_count": 29,
   "metadata": {},
   "outputs": [],
   "source": [
    "features_upsampled, target_upsampled = upsample(features_train, target_train, 4)"
   ]
  },
  {
   "cell_type": "markdown",
   "metadata": {},
   "source": [
    "### Алгоритм SMOTE"
   ]
  },
  {
   "cell_type": "code",
   "execution_count": 32,
   "metadata": {},
   "outputs": [],
   "source": [
    "from imblearn.over_sampling import SMOTE\n",
    "smote = SMOTE(random_state=rng)\n",
    "features_smote, target_smote= smote.fit_resample(features_train, target_train)"
   ]
  },
  {
   "cell_type": "markdown",
   "metadata": {},
   "source": [
    "### Алгоритм NearMiss"
   ]
  },
  {
   "cell_type": "code",
   "execution_count": 33,
   "metadata": {},
   "outputs": [],
   "source": [
    "from imblearn.under_sampling import NearMiss\n",
    "nm = NearMiss(version=3, n_neighbors=5, n_neighbors_ver3=5)\n",
    "features_nm, target_nm = nm.fit_resample(features_train, target_train)"
   ]
  },
  {
   "cell_type": "markdown",
   "metadata": {},
   "source": [
    "## Тестирование модели"
   ]
  },
  {
   "cell_type": "markdown",
   "metadata": {},
   "source": [
    "### Обучение моделей и расчет метрик на уменшенной выборке:"
   ]
  },
  {
   "cell_type": "code",
   "execution_count": 34,
   "metadata": {},
   "outputs": [
    {
     "name": "stdout",
     "output_type": "stream",
     "text": [
      "Train:\n",
      "F-МЕРА: 0.8176\n",
      "ROC AUC: 0.9046\n",
      "\n",
      "Test:\n",
      "F-МЕРА: 0.6299\n",
      "ROC AUC: 0.8753\n",
      "\n",
      "Распрееление классов:\n",
      "1    1610\n",
      "0    1598\n",
      "Name: exited, dtype: int64\n"
     ]
    },
    {
     "data": {
      "image/png": "[encoded data removed]",
      "text/plain": [
       "<Figure size 640x480 with 1 Axes>"
      ]
     },
     "metadata": {},
     "output_type": "display_data"
    },
    {
     "name": "stdout",
     "output_type": "stream",
     "text": [
      "Train:\n",
      "F-МЕРА: 0.8732\n",
      "ROC AUC: 0.9588\n",
      "\n",
      "Test:\n",
      "F-МЕРА: 0.6157\n",
      "ROC AUC: 0.8673\n",
      "\n",
      "Распрееление классов:\n",
      "1    1610\n",
      "0    1598\n",
      "Name: exited, dtype: int64\n"
     ]
    },
    {
     "data": {
      "image/png": "[encoded data removed]",
      "text/plain": [
       "<Figure size 640x480 with 1 Axes>"
      ]
     },
     "metadata": {},
     "output_type": "display_data"
    }
   ],
   "source": [
    "model_show_metrics(CBC, features_downsampled, \n",
    "                   features_test,\n",
    "                   target_downsampled, \n",
    "                   target_test \n",
    "                   )\n",
    "plt.show()\n",
    "\n",
    "model_show_metrics(RFС, features_downsampled, \n",
    "                   features_test,\n",
    "                   target_downsampled, \n",
    "                   target_test \n",
    "                   )"
   ]
  },
  {
   "cell_type": "markdown",
   "metadata": {},
   "source": [
    "### Обучение моделей и расчет метрик на увеличенной выборке:"
   ]
  },
  {
   "cell_type": "code",
   "execution_count": 35,
   "metadata": {},
   "outputs": [
    {
     "name": "stdout",
     "output_type": "stream",
     "text": [
      "Train:\n",
      "F-МЕРА: 0.8022\n",
      "ROC AUC: 0.8967\n",
      "\n",
      "Test:\n",
      "F-МЕРА: 0.6484\n",
      "ROC AUC: 0.8785\n",
      "\n",
      "Распрееление классов:\n",
      "1    6440\n",
      "0    6390\n",
      "Name: exited, dtype: int64\n"
     ]
    },
    {
     "data": {
      "image/png": "[encoded data removed]",
      "text/plain": [
       "<Figure size 640x480 with 1 Axes>"
      ]
     },
     "metadata": {},
     "output_type": "display_data"
    },
    {
     "name": "stdout",
     "output_type": "stream",
     "text": [
      "Train:\n",
      "F-МЕРА: 0.8544\n",
      "ROC AUC: 0.9404\n",
      "\n",
      "Test:\n",
      "F-МЕРА: 0.6344\n",
      "ROC AUC: 0.8695\n",
      "\n",
      "Распрееление классов:\n",
      "1    6440\n",
      "0    6390\n",
      "Name: exited, dtype: int64\n"
     ]
    },
    {
     "data": {
      "image/png": "[encoded data removed]",
      "text/plain": [
       "<Figure size 640x480 with 1 Axes>"
      ]
     },
     "metadata": {},
     "output_type": "display_data"
    }
   ],
   "source": [
    "model_show_metrics(CBC,features_upsampled, \n",
    "                   features_test, \n",
    "                   target_upsampled, \n",
    "                   target_test, \n",
    "                   )\n",
    "plt.show()\n",
    "model_show_metrics(RFС,features_upsampled, \n",
    "                   features_test, \n",
    "                   target_upsampled, \n",
    "                   target_test, \n",
    "                   )"
   ]
  },
  {
   "cell_type": "markdown",
   "metadata": {},
   "source": [
    "### Обучение моделей и расчет метрик на выровненной алгоритмом SMOTE выборке:"
   ]
  },
  {
   "cell_type": "code",
   "execution_count": 36,
   "metadata": {},
   "outputs": [
    {
     "name": "stdout",
     "output_type": "stream",
     "text": [
      "Train:\n",
      "F-МЕРА: 0.8481\n",
      "ROC AUC: 0.9256\n",
      "\n",
      "Test:\n",
      "F-МЕРА: 0.6014\n",
      "ROC AUC: 0.8437\n",
      "\n",
      "Распрееление классов:\n",
      "0    6390\n",
      "1    6390\n",
      "Name: exited, dtype: int64\n"
     ]
    },
    {
     "data": {
      "image/png": "[encoded data removed]",
      "text/plain": [
       "<Figure size 640x480 with 1 Axes>"
      ]
     },
     "metadata": {},
     "output_type": "display_data"
    },
    {
     "name": "stdout",
     "output_type": "stream",
     "text": [
      "Train:\n",
      "F-МЕРА: 0.8708\n",
      "ROC AUC: 0.9494\n",
      "\n",
      "Test:\n",
      "F-МЕРА: 0.5673\n",
      "ROC AUC: 0.8269\n",
      "\n",
      "Распрееление классов:\n",
      "0    6390\n",
      "1    6390\n",
      "Name: exited, dtype: int64\n"
     ]
    },
    {
     "data": {
      "image/png": "[encoded data removed]",
      "text/plain": [
       "<Figure size 640x480 with 1 Axes>"
      ]
     },
     "metadata": {},
     "output_type": "display_data"
    }
   ],
   "source": [
    "model_show_metrics(CBC,features_smote, \n",
    "                   features_test, \n",
    "                   target_smote,\n",
    "                   target_test)\n",
    "plt.show()\n",
    "\n",
    "model_show_metrics(RFС,features_smote, \n",
    "                   features_test, \n",
    "                   target_smote,\n",
    "                   target_test)"
   ]
  },
  {
   "cell_type": "markdown",
   "metadata": {},
   "source": [
    "### Обучение моделей и расчет метрик на выровненной алгоритмом NearMiss выборке:"
   ]
  },
  {
   "cell_type": "code",
   "execution_count": 37,
   "metadata": {},
   "outputs": [
    {
     "name": "stdout",
     "output_type": "stream",
     "text": [
      "Train:\n",
      "F-МЕРА: 0.8417\n",
      "ROC AUC: 0.9300\n",
      "\n",
      "Test:\n",
      "F-МЕРА: 0.4142\n",
      "ROC AUC: 0.6643\n",
      "\n",
      "Распрееление классов:\n",
      "0    1610\n",
      "1    1610\n",
      "Name: exited, dtype: int64\n"
     ]
    },
    {
     "data": {
      "image/png": "[encoded data removed]",
      "text/plain": [
       "<Figure size 640x480 with 1 Axes>"
      ]
     },
     "metadata": {},
     "output_type": "display_data"
    },
    {
     "name": "stdout",
     "output_type": "stream",
     "text": [
      "Train:\n",
      "F-МЕРА: 0.8597\n",
      "ROC AUC: 0.9565\n",
      "\n",
      "Test:\n",
      "F-МЕРА: 0.4166\n",
      "ROC AUC: 0.6150\n",
      "\n",
      "Распрееление классов:\n",
      "0    1610\n",
      "1    1610\n",
      "Name: exited, dtype: int64\n"
     ]
    },
    {
     "data": {
      "image/png": "[encoded data removed]",
      "text/plain": [
       "<Figure size 640x480 with 1 Axes>"
      ]
     },
     "metadata": {},
     "output_type": "display_data"
    }
   ],
   "source": [
    "model_show_metrics(CBC,features_nm, \n",
    "                   features_test, \n",
    "                   target_nm,\n",
    "                   target_test)\n",
    "plt.show()\n",
    "\n",
    "model_show_metrics(RFС,features_nm, \n",
    "                   features_test, \n",
    "                   target_nm,\n",
    "                   target_test)"
   ]
  },
  {
   "cell_type": "markdown",
   "metadata": {},
   "source": [
    "### Выводы:\n",
    "* Хуже всех справился алгоритм NearMiss (изменение параметров алгоритма почти никак не влияет). Наблюдается сильное падение AUC на тестовой выборке в районе высоких порогов.\n",
    "* F-меру повысили все стратегии кроме NearMiss на тестовой выборке.\n",
    "* Применение алгоритмов SMOTE и NearMiss привели к переобучению обеих моделей.\n",
    "* По совокупности метрик и графиков лучшая стратегия из рассматриваемых - увеличение выборки."
   ]
  }
 ],
 "metadata": {
  "kernelspec": {
   "display_name": "Python 3 (ipykernel)",
   "language": "python",
   "name": "python3"
  },
  "language_info": {
   "codemirror_mode": {
    "name": "ipython",
    "version": 3
   },
   "file_extension": ".py",
   "mimetype": "text/x-python",
   "name": "python",
   "nbconvert_exporter": "python",
   "pygments_lexer": "ipython3",
   "version": "3.9.13"
  },
  "toc": {
   "base_numbering": 1,
   "nav_menu": {},
   "number_sections": true,
   "sideBar": true,
   "skip_h1_title": true,
   "title_cell": "Содержание",
   "title_sidebar": "Contents",
   "toc_cell": true,
   "toc_position": {},
   "toc_section_display": true,
   "toc_window_display": false
  }
 },
 "nbformat": 4,
 "nbformat_minor": 4
}
